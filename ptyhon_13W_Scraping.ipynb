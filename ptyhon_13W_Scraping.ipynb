{
  "cells": [
    {
      "cell_type": "markdown",
      "metadata": {
        "id": "view-in-github",
        "colab_type": "text"
      },
      "source": [
        "<a href=\"https://colab.research.google.com/github/KimMyoungGyun2023/20203_Python-Programming/blob/main/ptyhon_13W_Scraping.ipynb\" target=\"_parent\"><img src=\"https://colab.research.google.com/assets/colab-badge.svg\" alt=\"Open In Colab\"/></a>"
      ]
    },
    {
      "cell_type": "code",
      "execution_count": null,
      "id": "cf937be3-0e6a-4b2d-83b0-5ec575fefb6f",
      "metadata": {
        "id": "cf937be3-0e6a-4b2d-83b0-5ec575fefb6f",
        "outputId": "8bff8d74-c2b5-4ad0-f0c7-5f4d24616b99"
      },
      "outputs": [
        {
          "name": "stdout",
          "output_type": "stream",
          "text": [
            "menu\n"
          ]
        }
      ],
      "source": [
        "import xml.etree.ElementTree as et\n",
        "tree = et.ElementTree(file='menu.xml')\n",
        "root = tree.getroot()\n",
        "\n",
        "print(root.tag)"
      ]
    },
    {
      "cell_type": "code",
      "execution_count": null,
      "id": "605466f9-e1f0-4f85-baf8-b93dbc0d1c30",
      "metadata": {
        "id": "605466f9-e1f0-4f85-baf8-b93dbc0d1c30",
        "outputId": "1988e0e6-3a84-4ebc-8408-976833e3a3bb"
      },
      "outputs": [
        {
          "data": {
            "text/plain": [
              "xml.etree.ElementTree.Element"
            ]
          },
          "execution_count": 4,
          "metadata": {},
          "output_type": "execute_result"
        }
      ],
      "source": [
        "type(root)"
      ]
    },
    {
      "cell_type": "code",
      "execution_count": null,
      "id": "8292ef2b-c8de-45b8-b46c-04a9fb030f0b",
      "metadata": {
        "id": "8292ef2b-c8de-45b8-b46c-04a9fb030f0b",
        "outputId": "924b4641-4b55-4779-cc6f-be1bcffdc740"
      },
      "outputs": [
        {
          "name": "stdout",
          "output_type": "stream",
          "text": [
            "tag: breakfast attributes: {'hours': '7-11'}\n",
            "\ttag: item attributes: {'price': '$6.00'}\n",
            "\ttag: item attributes: {'price': '$4.00'}\n",
            "tag: lunch attributes: {'hours': '11-3'}\n",
            "\ttag: item attributes: {'price': '$5.00'}\n",
            "tag: dinner attributes: {'hours': '3-10'}\n",
            "\ttag: item attributes: {'price': '8.00'}\n"
          ]
        }
      ],
      "source": [
        "for child in root:\n",
        "    print('tag:', child.tag, 'attributes:', child.attrib)\n",
        "    for grandchild in child:\n",
        "        print('\\ttag:', grandchild.tag, 'attributes:', grandchild.attrib)"
      ]
    },
    {
      "cell_type": "code",
      "execution_count": null,
      "id": "dc1481fb-a8a2-4e23-9e99-57e90c5be39b",
      "metadata": {
        "id": "dc1481fb-a8a2-4e23-9e99-57e90c5be39b",
        "outputId": "a75551d7-c82b-40d9-f2cb-f83b71ceef2b"
      },
      "outputs": [
        {
          "data": {
            "text/plain": [
              "3"
            ]
          },
          "execution_count": 7,
          "metadata": {},
          "output_type": "execute_result"
        }
      ],
      "source": [
        "len(root)"
      ]
    },
    {
      "cell_type": "code",
      "execution_count": null,
      "id": "292cb8f1-b1f4-4c5a-859a-35bcd5eabf5d",
      "metadata": {
        "id": "292cb8f1-b1f4-4c5a-859a-35bcd5eabf5d",
        "outputId": "e42030d3-0f96-49b8-ce67-68236011b480"
      },
      "outputs": [
        {
          "data": {
            "text/plain": [
              "2"
            ]
          },
          "execution_count": 8,
          "metadata": {},
          "output_type": "execute_result"
        }
      ],
      "source": [
        "len(root[0])"
      ]
    },
    {
      "cell_type": "code",
      "execution_count": null,
      "id": "e10c9129-f6ee-4dbf-9cf6-19704ce33213",
      "metadata": {
        "id": "e10c9129-f6ee-4dbf-9cf6-19704ce33213",
        "outputId": "09e0d432-f4c7-49bc-ddab-53fdbfd528e1"
      },
      "outputs": [
        {
          "data": {
            "text/plain": [
              "xml.etree.ElementTree.Element"
            ]
          },
          "execution_count": 10,
          "metadata": {},
          "output_type": "execute_result"
        }
      ],
      "source": [
        "type(root[0])"
      ]
    },
    {
      "cell_type": "code",
      "execution_count": null,
      "id": "4d980003-45e2-4ce1-b249-a02c1e76f5cb",
      "metadata": {
        "id": "4d980003-45e2-4ce1-b249-a02c1e76f5cb",
        "outputId": "e8454855-7731-4dc7-971c-2dd444acaf0a"
      },
      "outputs": [
        {
          "name": "stdout",
          "output_type": "stream",
          "text": [
            "<Element 'breakfast' at 0x0000021ABBA0C270>\n"
          ]
        }
      ],
      "source": [
        "print(root[0])"
      ]
    },
    {
      "cell_type": "code",
      "execution_count": null,
      "id": "3cacea38-97ed-403b-a3bc-0ace9d1c82af",
      "metadata": {
        "id": "3cacea38-97ed-403b-a3bc-0ace9d1c82af",
        "outputId": "5da1bace-a434-471f-baf4-684390c915d4"
      },
      "outputs": [
        {
          "name": "stdout",
          "output_type": "stream",
          "text": [
            "7-11\n"
          ]
        }
      ],
      "source": [
        "print(root[0].get(\"hours\"))"
      ]
    },
    {
      "cell_type": "code",
      "execution_count": null,
      "id": "8f678c72-c8bf-4036-a937-24b4f2b2a839",
      "metadata": {
        "id": "8f678c72-c8bf-4036-a937-24b4f2b2a839",
        "outputId": "6e60bbc5-9b87-4ae8-b43b-e8ea1ce05cf3"
      },
      "outputs": [
        {
          "name": "stdout",
          "output_type": "stream",
          "text": [
            "['hours']\n"
          ]
        }
      ],
      "source": [
        "print(root[0].keys())"
      ]
    },
    {
      "cell_type": "code",
      "execution_count": null,
      "id": "81e581ff-340a-478e-83dc-1a72f61d6853",
      "metadata": {
        "id": "81e581ff-340a-478e-83dc-1a72f61d6853",
        "outputId": "e4ef1936-0489-49e1-df49-739991192b0e"
      },
      "outputs": [
        {
          "name": "stdout",
          "output_type": "stream",
          "text": [
            "[('hours', '7-11')]\n"
          ]
        }
      ],
      "source": [
        "print(root[0].items())"
      ]
    },
    {
      "cell_type": "code",
      "execution_count": null,
      "id": "364cc7c3-eaf5-43af-b405-fcf18b2d2e2f",
      "metadata": {
        "id": "364cc7c3-eaf5-43af-b405-fcf18b2d2e2f",
        "outputId": "65d41150-9c8b-424c-cc6d-7e97d9bb154e"
      },
      "outputs": [
        {
          "name": "stdout",
          "output_type": "stream",
          "text": [
            "<Element 'lunch' at 0x0000021ABBA0C540>\n"
          ]
        }
      ],
      "source": [
        "lunch = root.find(\"lunch\")\n",
        "print(lunch)"
      ]
    },
    {
      "cell_type": "code",
      "execution_count": null,
      "id": "00e0084c-9025-4115-8167-d7fae8e0d8be",
      "metadata": {
        "id": "00e0084c-9025-4115-8167-d7fae8e0d8be",
        "outputId": "131d10ea-22e5-409e-e71a-6c1eb5c15057"
      },
      "outputs": [
        {
          "name": "stdout",
          "output_type": "stream",
          "text": [
            "11-3\n"
          ]
        }
      ],
      "source": [
        "print(lunch.get(\"hours\"))"
      ]
    },
    {
      "cell_type": "code",
      "execution_count": null,
      "id": "de2468f3-36ea-43d5-b405-b6df459f065d",
      "metadata": {
        "id": "de2468f3-36ea-43d5-b405-b6df459f065d",
        "outputId": "3355ff5c-efc0-4351-896e-3ab0c5ee1cb8"
      },
      "outputs": [
        {
          "data": {
            "text/plain": [
              "xml.etree.ElementTree.Element"
            ]
          },
          "execution_count": 26,
          "metadata": {},
          "output_type": "execute_result"
        }
      ],
      "source": [
        "type(lunch)"
      ]
    },
    {
      "cell_type": "code",
      "execution_count": null,
      "id": "65bd8f3b-62cb-40ec-a74d-80c9c642166f",
      "metadata": {
        "id": "65bd8f3b-62cb-40ec-a74d-80c9c642166f",
        "outputId": "dcf15225-2e8a-42bd-c1b3-2885d8ed1c96"
      },
      "outputs": [
        {
          "name": "stdout",
          "output_type": "stream",
          "text": [
            "['hours']\n"
          ]
        }
      ],
      "source": [
        "print(lunch.keys())"
      ]
    },
    {
      "cell_type": "code",
      "execution_count": null,
      "id": "9160fca0-86fd-4949-adc3-d6d8f4d57cea",
      "metadata": {
        "id": "9160fca0-86fd-4949-adc3-d6d8f4d57cea",
        "outputId": "0f68d1c1-5e49-484b-8b75-c800855c2ed6"
      },
      "outputs": [
        {
          "name": "stdout",
          "output_type": "stream",
          "text": [
            "[('hours', '11-3')]\n"
          ]
        }
      ],
      "source": [
        "print(lunch.items())"
      ]
    },
    {
      "cell_type": "code",
      "execution_count": null,
      "id": "37fd42f7-2999-4d3b-8dca-dac8930bfda5",
      "metadata": {
        "id": "37fd42f7-2999-4d3b-8dca-dac8930bfda5",
        "outputId": "1b88e9f7-63b1-4aa8-b68a-02a40ce061a3"
      },
      "outputs": [
        {
          "name": "stdout",
          "output_type": "stream",
          "text": [
            "[<Element 'item' at 0x0000021ABBA0C2C0>, <Element 'item' at 0x0000021ABBA0C3B0>]\n",
            "$6.00\n",
            "breakfast burritos\n",
            "$4.00\n",
            "pancakes\n"
          ]
        }
      ],
      "source": [
        "print(root[0].findall('item'))\n",
        "for item in root[0].findall('item'):\n",
        "    print(item.get('price'))\n",
        "    print(item.text)"
      ]
    },
    {
      "cell_type": "code",
      "execution_count": null,
      "id": "10f2df53-5485-4fd4-8f40-596425bacb01",
      "metadata": {
        "id": "10f2df53-5485-4fd4-8f40-596425bacb01",
        "outputId": "75687c8a-594d-4a69-e42c-d26588046a41"
      },
      "outputs": [
        {
          "data": {
            "text/plain": [
              "{'name': '홍길동', 'birth': '0525', 'age': 30}"
            ]
          },
          "execution_count": 31,
          "metadata": {},
          "output_type": "execute_result"
        }
      ],
      "source": [
        "import json\n",
        "j1={\"name\":\"홍길동\", \"birth\":\"0525\", \"age\" : 30}\n",
        "j1"
      ]
    },
    {
      "cell_type": "code",
      "execution_count": null,
      "id": "0148cb15-2464-4201-8d60-5a5624faea36",
      "metadata": {
        "id": "0148cb15-2464-4201-8d60-5a5624faea36",
        "outputId": "b29e9712-3262-4119-c16b-927d901d20cb"
      },
      "outputs": [
        {
          "data": {
            "text/plain": [
              "'{\"name\": \"\\\\ud64d\\\\uae38\\\\ub3d9\", \"birth\": \"0525\", \"age\": 30}'"
            ]
          },
          "execution_count": 32,
          "metadata": {},
          "output_type": "execute_result"
        }
      ],
      "source": [
        "json.dumps(j1)"
      ]
    },
    {
      "cell_type": "code",
      "execution_count": null,
      "id": "aca8439b-f923-4486-83ca-4211dfd48b8d",
      "metadata": {
        "id": "aca8439b-f923-4486-83ca-4211dfd48b8d",
        "outputId": "0f9dd298-bad5-4dca-a2d9-744fc4e1c6d9"
      },
      "outputs": [
        {
          "name": "stdout",
          "output_type": "stream",
          "text": [
            "{\n",
            "  \"name\": \"\\ud64d\\uae38\\ub3d9\",\n",
            "  \"birth\": \"0525\",\n",
            "  \"age\": 30\n",
            "}\n"
          ]
        },
        {
          "data": {
            "text/plain": [
              "{'age': 30, 'birth': '0525', 'name': '박응용'}"
            ]
          },
          "execution_count": 34,
          "metadata": {},
          "output_type": "execute_result"
        }
      ],
      "source": [
        "print(json.dumps(j1, indent=2))\n",
        "{\"age\" : 30,\n",
        " \"birth\": \"0525\",\n",
        " \"name\" : \"\\ubc15\\uc751\\uc6a9\"\n",
        " }"
      ]
    },
    {
      "cell_type": "code",
      "execution_count": null,
      "id": "33edeb87-9ddf-470c-bc40-f1089a481505",
      "metadata": {
        "id": "33edeb87-9ddf-470c-bc40-f1089a481505",
        "outputId": "7afc39e4-3b86-4550-f938-4a95f3ffc778"
      },
      "outputs": [
        {
          "data": {
            "text/plain": [
              "'[1, 2, 3]'"
            ]
          },
          "execution_count": 35,
          "metadata": {},
          "output_type": "execute_result"
        }
      ],
      "source": [
        "json.dumps([1,2,3])"
      ]
    },
    {
      "cell_type": "code",
      "execution_count": null,
      "id": "03b98c9a-61ab-4fba-a682-ba6acf18f386",
      "metadata": {
        "id": "03b98c9a-61ab-4fba-a682-ba6acf18f386",
        "outputId": "181256db-58db-478b-98bf-e48e7ee77d51"
      },
      "outputs": [
        {
          "data": {
            "text/plain": [
              "'[4, 5, 6]'"
            ]
          },
          "execution_count": 36,
          "metadata": {},
          "output_type": "execute_result"
        }
      ],
      "source": [
        "json.dumps((4,5,6))"
      ]
    },
    {
      "cell_type": "code",
      "execution_count": null,
      "id": "9c1d5c2d-deaa-4f65-835b-566a7a7a4ca1",
      "metadata": {
        "id": "9c1d5c2d-deaa-4f65-835b-566a7a7a4ca1",
        "outputId": "c8ef74b5-8f0f-41be-f7a8-06de59463397"
      },
      "outputs": [
        {
          "data": {
            "text/plain": [
              "{'name': '홍길동', 'birth': '0525', 'age': 30}"
            ]
          },
          "execution_count": 37,
          "metadata": {},
          "output_type": "execute_result"
        }
      ],
      "source": [
        "j1 = {\"name\":\"홍길동\", \"birth\":\"0525\", \"age\": 30}\n",
        "d1 = json.dumps(j1)\n",
        "json.loads(d1)"
      ]
    },
    {
      "cell_type": "code",
      "execution_count": null,
      "id": "2e009d9c-7af7-4ead-b220-1cca0361f00a",
      "metadata": {
        "id": "2e009d9c-7af7-4ead-b220-1cca0361f00a",
        "outputId": "e1e56b7d-9353-4f64-d398-4dd1d81f9ffd"
      },
      "outputs": [
        {
          "name": "stdout",
          "output_type": "stream",
          "text": [
            "b'<html>\\n<head>\\n<title>A Useful Page</title>\\n</head>\\n<body>\\n<h1>An Interesting Title</h1>\\n<div>\\nLorem ipsum dolor sit amet, consectetur adipisicing elit, sed do eiusmod tempor incididunt ut labore et dolore magna aliqua. Ut enim ad minim veniam, quis nostrud exercitation ullamco laboris nisi ut aliquip ex ea commodo consequat. Duis aute irure dolor in reprehenderit in voluptate velit esse cillum dolore eu fugiat nulla pariatur. Excepteur sint occaecat cupidatat non proident, sunt in culpa qui officia deserunt mollit anim id est laborum.\\n</div>\\n</body>\\n</html>\\n'\n"
          ]
        }
      ],
      "source": [
        "from urllib.request import urlopen\n",
        "html = urlopen(\"http://pythonscraping.com/pages/page1.html\")\n",
        "print(html.read())"
      ]
    },
    {
      "cell_type": "code",
      "execution_count": null,
      "id": "c565fe41-a138-49c0-8f98-08115974a4da",
      "metadata": {
        "id": "c565fe41-a138-49c0-8f98-08115974a4da",
        "outputId": "ca1708dc-e588-4765-9469-fbd2111719f7"
      },
      "outputs": [
        {
          "ename": "SyntaxError",
          "evalue": "invalid syntax (2212733491.py, line 1)",
          "output_type": "error",
          "traceback": [
            "\u001b[1;36m  Cell \u001b[1;32mIn[40], line 1\u001b[1;36m\u001b[0m\n\u001b[1;33m    :pip install bs4\u001b[0m\n\u001b[1;37m    ^\u001b[0m\n\u001b[1;31mSyntaxError\u001b[0m\u001b[1;31m:\u001b[0m invalid syntax\n"
          ]
        }
      ],
      "source": [
        ":pip install bs4"
      ]
    },
    {
      "cell_type": "code",
      "execution_count": null,
      "id": "58d4b917-d36b-4259-80b9-3d7babeed402",
      "metadata": {
        "id": "58d4b917-d36b-4259-80b9-3d7babeed402",
        "outputId": "b71888f2-cd82-43da-fd9d-ef2341ecc17b"
      },
      "outputs": [
        {
          "name": "stdout",
          "output_type": "stream",
          "text": [
            "Collecting bs4\n",
            "  Downloading bs4-0.0.1.tar.gz (1.1 kB)\n",
            "  Installing build dependencies: started\n",
            "  Installing build dependencies: finished with status 'done'\n",
            "  Getting requirements to build wheel: started\n",
            "  Getting requirements to build wheel: finished with status 'done'\n",
            "  Preparing metadata (pyproject.toml): started\n",
            "  Preparing metadata (pyproject.toml): finished with status 'done'\n",
            "Requirement already satisfied: beautifulsoup4 in c:\\users\\user\\appdata\\local\\programs\\python\\python311\\lib\\site-packages (from bs4) (4.12.2)\n",
            "Requirement already satisfied: soupsieve>1.2 in c:\\users\\user\\appdata\\local\\programs\\python\\python311\\lib\\site-packages (from beautifulsoup4->bs4) (2.5)\n",
            "Building wheels for collected packages: bs4\n",
            "  Building wheel for bs4 (pyproject.toml): started\n",
            "  Building wheel for bs4 (pyproject.toml): finished with status 'done'\n",
            "  Created wheel for bs4: filename=bs4-0.0.1-py3-none-any.whl size=1262 sha256=3da074a67a097934b2014a61b540c8fd0a8cc399febcaf9321e7665cd45485be\n",
            "  Stored in directory: c:\\users\\user\\appdata\\local\\pip\\cache\\wheels\\d4\\c8\\5b\\b5be9c20e5e4503d04a6eac8a3cd5c2393505c29f02bea0960\n",
            "Successfully built bs4\n",
            "Installing collected packages: bs4\n",
            "Successfully installed bs4-0.0.1\n"
          ]
        },
        {
          "name": "stderr",
          "output_type": "stream",
          "text": [
            "\n",
            "[notice] A new release of pip is available: 23.2.1 -> 23.3.1\n",
            "[notice] To update, run: python.exe -m pip install --upgrade pip\n"
          ]
        }
      ],
      "source": [
        "!pip install bs4"
      ]
    },
    {
      "cell_type": "code",
      "execution_count": null,
      "id": "2f84af0b-9e2b-43ee-94e0-f668e8c7d9e8",
      "metadata": {
        "id": "2f84af0b-9e2b-43ee-94e0-f668e8c7d9e8",
        "outputId": "a87668f0-fe36-4b99-aff4-7de99ec20e4f"
      },
      "outputs": [
        {
          "name": "stdout",
          "output_type": "stream",
          "text": [
            "<h1>An Interesting Title</h1>\n"
          ]
        }
      ],
      "source": [
        "from urllib.request import urlopen\n",
        "from bs4 import BeautifulSoup\n",
        "html = urlopen(\"http://pythonscraping.com/pages/page1.html\")\n",
        "bsObj = BeautifulSoup(html.read(), \"html.parser\")\n",
        "print(bsObj.h1)"
      ]
    },
    {
      "cell_type": "code",
      "execution_count": null,
      "id": "6fa52344-beaf-45ba-8d18-e7410db6c5f7",
      "metadata": {
        "id": "6fa52344-beaf-45ba-8d18-e7410db6c5f7",
        "outputId": "87cc0beb-17c8-4f1a-ec0a-8cbc35db8564"
      },
      "outputs": [
        {
          "name": "stdout",
          "output_type": "stream",
          "text": [
            "<html>\n",
            " <head>\n",
            "  <title>\n",
            "   A Useful Page\n",
            "  </title>\n",
            " </head>\n",
            " <body>\n",
            "  <h1>\n",
            "   An Interesting Title\n",
            "  </h1>\n",
            "  <div>\n",
            "   Lorem ipsum dolor sit amet, consectetur adipisicing elit, sed do eiusmod tempor incididunt ut labore et dolore magna aliqua. Ut enim ad minim veniam, quis nostrud exercitation ullamco laboris nisi ut aliquip ex ea commodo consequat. Duis aute irure dolor in reprehenderit in voluptate velit esse cillum dolore eu fugiat nulla pariatur. Excepteur sint occaecat cupidatat non proident, sunt in culpa qui officia deserunt mollit anim id est laborum.\n",
            "  </div>\n",
            " </body>\n",
            "</html>\n",
            "\n"
          ]
        }
      ],
      "source": [
        "print(bsObj.html.prettify())"
      ]
    },
    {
      "cell_type": "code",
      "execution_count": null,
      "id": "ed965a6b-3719-4643-b580-1af1c78d1eb2",
      "metadata": {
        "id": "ed965a6b-3719-4643-b580-1af1c78d1eb2"
      },
      "outputs": [],
      "source": []
    }
  ],
  "metadata": {
    "kernelspec": {
      "display_name": "Python 3 (ipykernel)",
      "language": "python",
      "name": "python3"
    },
    "language_info": {
      "codemirror_mode": {
        "name": "ipython",
        "version": 3
      },
      "file_extension": ".py",
      "mimetype": "text/x-python",
      "name": "python",
      "nbconvert_exporter": "python",
      "pygments_lexer": "ipython3",
      "version": "3.11.5"
    },
    "colab": {
      "provenance": [],
      "include_colab_link": true
    }
  },
  "nbformat": 4,
  "nbformat_minor": 5
}