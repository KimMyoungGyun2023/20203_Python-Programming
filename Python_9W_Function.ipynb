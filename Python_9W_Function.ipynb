{
  "cells": [
    {
      "cell_type": "markdown",
      "metadata": {
        "id": "view-in-github",
        "colab_type": "text"
      },
      "source": [
        "<a href=\"https://colab.research.google.com/github/KimMyoungGyun2023/20203_Python-Programming/blob/main/Python_9W_Function.ipynb\" target=\"_parent\"><img src=\"https://colab.research.google.com/assets/colab-badge.svg\" alt=\"Open In Colab\"/></a>"
      ]
    },
    {
      "cell_type": "code",
      "execution_count": null,
      "id": "f7f3bba2-0457-41e2-be26-51d90016ac4c",
      "metadata": {
        "id": "f7f3bba2-0457-41e2-be26-51d90016ac4c",
        "outputId": "b12799ab-40ef-4ed8-8184-0ae44d2f68ee"
      },
      "outputs": [
        {
          "name": "stdout",
          "output_type": "stream",
          "text": [
            "[1, 2, 3, 4, 5]\n"
          ]
        }
      ],
      "source": [
        "number_list = []\n",
        "number_list.append(1)\n",
        "number_list.append(2)\n",
        "number_list.append(3)\n",
        "number_list.append(4)\n",
        "number_list.append(5)\n",
        "print(number_list)"
      ]
    },
    {
      "cell_type": "code",
      "execution_count": null,
      "id": "08e2f294-2f22-4751-86d1-2e87c2f2f3e3",
      "metadata": {
        "id": "08e2f294-2f22-4751-86d1-2e87c2f2f3e3",
        "outputId": "c357151f-77b1-4d66-eb33-0fd2ec2e1221"
      },
      "outputs": [
        {
          "name": "stdout",
          "output_type": "stream",
          "text": [
            "[1, 2, 3, 4, 5]\n"
          ]
        }
      ],
      "source": [
        "number_list = []\n",
        "for number in range(1, 6):\n",
        "    number_list.append(number)\n",
        "print(number_list)"
      ]
    },
    {
      "cell_type": "code",
      "execution_count": null,
      "id": "63007ac7-6457-41ae-ac05-436c7b0c2461",
      "metadata": {
        "id": "63007ac7-6457-41ae-ac05-436c7b0c2461",
        "outputId": "f5f00a38-2f6d-4984-ee76-8d815d4aef5a"
      },
      "outputs": [
        {
          "name": "stdout",
          "output_type": "stream",
          "text": [
            "[1, 2, 3, 4, 5]\n"
          ]
        }
      ],
      "source": [
        "number_list = list(range(1, 6))\n",
        "print(number_list)"
      ]
    },
    {
      "cell_type": "code",
      "execution_count": null,
      "id": "40f3b192-7d33-43b2-9905-f326100ac1c7",
      "metadata": {
        "id": "40f3b192-7d33-43b2-9905-f326100ac1c7",
        "outputId": "15923ce4-71a5-4057-e149-c66f0a70a0be"
      },
      "outputs": [
        {
          "name": "stdout",
          "output_type": "stream",
          "text": [
            "[1, 2, 3, 4, 5]\n"
          ]
        }
      ],
      "source": [
        "number_list = [number for number in range(1,6)]\n",
        "print(number_list)"
      ]
    },
    {
      "cell_type": "code",
      "execution_count": null,
      "id": "7cff08b4-f493-4ed5-a797-ab57488ca7eb",
      "metadata": {
        "id": "7cff08b4-f493-4ed5-a797-ab57488ca7eb",
        "outputId": "75e272fd-ada3-40b1-c50a-27e01e921683"
      },
      "outputs": [
        {
          "name": "stdout",
          "output_type": "stream",
          "text": [
            "[0, 1, 2, 3, 4]\n"
          ]
        }
      ],
      "source": [
        "number_list = [number-1 for number in range(1,6)]\n",
        "print(number_list)"
      ]
    },
    {
      "cell_type": "code",
      "execution_count": null,
      "id": "a318a2bc-f4d7-4ed6-ad8d-984f122e700e",
      "metadata": {
        "scrolled": true,
        "id": "a318a2bc-f4d7-4ed6-ad8d-984f122e700e",
        "outputId": "fd6602e8-2fc9-455e-ae92-15a941f48bd1"
      },
      "outputs": [
        {
          "name": "stdout",
          "output_type": "stream",
          "text": [
            "[1, 3, 5]\n"
          ]
        }
      ],
      "source": [
        "a_list = [number for number in range(1,6) if number % 2 == 1]\n",
        "print(a_list)"
      ]
    },
    {
      "cell_type": "code",
      "execution_count": null,
      "id": "575a2e78-0220-49fe-8cce-68ac7938cb23",
      "metadata": {
        "id": "575a2e78-0220-49fe-8cce-68ac7938cb23"
      },
      "outputs": [],
      "source": [
        "a_list = []\n",
        "for number in range(1,6):\n",
        "    if number%2 == 1:\n",
        "        a_list.append(number)\n",
        "print(a_list)"
      ]
    },
    {
      "cell_type": "code",
      "execution_count": null,
      "id": "4f8f4647-af20-42f9-9a81-421bd6102eae",
      "metadata": {
        "id": "4f8f4647-af20-42f9-9a81-421bd6102eae",
        "outputId": "f466e269-77d9-49da-c64c-cdb919573d57"
      },
      "outputs": [
        {
          "name": "stdout",
          "output_type": "stream",
          "text": [
            "1 1\n",
            "1 2\n",
            "2 1\n",
            "2 2\n",
            "3 1\n",
            "3 2\n"
          ]
        }
      ],
      "source": [
        "rows = range(1,4)\n",
        "cols = range(1,3)\n",
        "for row in rows:\n",
        "    for col in cols:\n",
        "        print(row, col)"
      ]
    },
    {
      "cell_type": "code",
      "execution_count": null,
      "id": "454a9a1d-b54c-49e1-af70-8efe75b37a4f",
      "metadata": {
        "id": "454a9a1d-b54c-49e1-af70-8efe75b37a4f",
        "outputId": "df49f518-a0e9-4d97-ea84-386827b722fb"
      },
      "outputs": [
        {
          "name": "stdout",
          "output_type": "stream",
          "text": [
            "(1, 1)\n",
            "(1, 2)\n",
            "(2, 1)\n",
            "(2, 2)\n",
            "(3, 1)\n",
            "(3, 2)\n"
          ]
        }
      ],
      "source": [
        "rows = range(1,4)\n",
        "cols = range(1,3)\n",
        "cells = [(row, col) for row in rows for col in cols]\n",
        "for cell in cells:\n",
        "    print(cell)"
      ]
    },
    {
      "cell_type": "code",
      "execution_count": null,
      "id": "b6c8f825-2967-4217-8887-c1b84a5b9a10",
      "metadata": {
        "id": "b6c8f825-2967-4217-8887-c1b84a5b9a10",
        "outputId": "67fdf964-f89d-4096-c8e3-7f48c9e0bcf8"
      },
      "outputs": [
        {
          "data": {
            "text/plain": [
              "[(1, 0),\n",
              " (2, 0),\n",
              " (2, 1),\n",
              " (3, 0),\n",
              " (3, 1),\n",
              " (3, 2),\n",
              " (4, 0),\n",
              " (4, 1),\n",
              " (4, 2),\n",
              " (4, 3)]"
            ]
          },
          "execution_count": 33,
          "metadata": {},
          "output_type": "execute_result"
        }
      ],
      "source": [
        "[(i,j) for i in range(5) for j in range(i)]"
      ]
    },
    {
      "cell_type": "code",
      "execution_count": null,
      "id": "eb5f3217-3642-4bc0-b4da-1c20f6729a35",
      "metadata": {
        "id": "eb5f3217-3642-4bc0-b4da-1c20f6729a35",
        "outputId": "0f06ac04-e9e3-4e07-aa1b-a57a6a53e4da"
      },
      "outputs": [
        {
          "name": "stdout",
          "output_type": "stream",
          "text": [
            "{'l': 1, 'e': 2, 't': 2, 'r': 1, 's': 1}\n"
          ]
        }
      ],
      "source": [
        "word = 'letters'\n",
        "letter_counts = {letter: word.count(letter) for letter in word}\n",
        "print(letter_counts)"
      ]
    },
    {
      "cell_type": "code",
      "execution_count": null,
      "id": "0d1d78e6-d26c-4cf9-bdc8-e8d2706b7709",
      "metadata": {
        "id": "0d1d78e6-d26c-4cf9-bdc8-e8d2706b7709",
        "outputId": "7861178a-e7fb-4c0d-c082-d20f763e4353"
      },
      "outputs": [
        {
          "name": "stdout",
          "output_type": "stream",
          "text": [
            "{'l': 1, 'e': 2, 't': 2, 'r': 1, 's': 1}\n"
          ]
        }
      ],
      "source": [
        "word = 'letters'\n",
        "letter_counts = {letter: word.count(letter) for letter in word}\n",
        "print(letter_counts)"
      ]
    },
    {
      "cell_type": "code",
      "execution_count": null,
      "id": "7c6d863f-1c09-4686-8e68-141a4b420140",
      "metadata": {
        "id": "7c6d863f-1c09-4686-8e68-141a4b420140",
        "outputId": "e45b80e2-3952-4bad-d075-22ade8270504"
      },
      "outputs": [
        {
          "name": "stdout",
          "output_type": "stream",
          "text": [
            "{'l': 1, 'r': 1, 't': 2, 'e': 2, 's': 1}\n"
          ]
        }
      ],
      "source": [
        "word = 'letters'\n",
        "letter_counts = {letter: word.count(letter) for letter in set(word)}\n",
        "print(letter_counts)"
      ]
    },
    {
      "cell_type": "code",
      "execution_count": null,
      "id": "44bcc265-ed31-49ec-b201-9f5affbfc89d",
      "metadata": {
        "id": "44bcc265-ed31-49ec-b201-9f5affbfc89d",
        "outputId": "a95de9c7-6daf-458c-c1db-ac48c4d0e035"
      },
      "outputs": [
        {
          "name": "stdout",
          "output_type": "stream",
          "text": [
            "{1, 4}\n"
          ]
        }
      ],
      "source": [
        "a_set = {number for number in range(1,6) if number % 3 == 1}\n",
        "print(a_set)"
      ]
    },
    {
      "cell_type": "code",
      "execution_count": null,
      "id": "82199dbd-5c9e-4f30-bf68-3c7c59fc1117",
      "metadata": {
        "id": "82199dbd-5c9e-4f30-bf68-3c7c59fc1117",
        "outputId": "8cd7efe1-ca9b-42e4-ee6a-b885ee96198f"
      },
      "outputs": [
        {
          "name": "stdout",
          "output_type": "stream",
          "text": [
            "Monday : drink coffee - eat banana - enjoy tiramisu\n",
            "Tuesday : drink tea - eat orange - enjoy ice cream\n",
            "Wednesday : drink beer - eat peach - enjoy pie\n"
          ]
        }
      ],
      "source": [
        "days = ['Monday', 'Tuesday', 'Wednesday']\n",
        "fruits = ['banana', 'orange', 'peach']\n",
        "drinks = ['coffee', 'tea', 'beer']\n",
        "desserts = ['tiramisu', 'ice cream', 'pie', 'pudding']\n",
        "for day, fruit, drink, dessert in zip(days, fruits, drinks, desserts):\n",
        "    print(day, \": drink\", drink, \"- eat\", fruit, \"- enjoy\", dessert)"
      ]
    },
    {
      "cell_type": "code",
      "execution_count": null,
      "id": "325b384f-6692-4f78-935b-8440847bc814",
      "metadata": {
        "id": "325b384f-6692-4f78-935b-8440847bc814",
        "outputId": "b7380abd-f661-4fb4-fcc1-7b27c894a422"
      },
      "outputs": [
        {
          "data": {
            "text/plain": [
              "{'Monday': 'Lundi', 'Tuesday': 'Mardi', 'Wednesday': 'Mercredi'}"
            ]
          },
          "execution_count": 46,
          "metadata": {},
          "output_type": "execute_result"
        }
      ],
      "source": [
        "english = 'Monday', 'Tuesday', 'Wednesday'\n",
        "french = 'Lundi', 'Mardi', 'Mercredi'\n",
        "list( zip(english, french) )\n",
        "# [('Monday', 'Lundi'), ('Tuesday', 'Mardi'), ('Wednesday', 'Mercredi')]\n",
        "dict( zip(english, french) )\n",
        "# {'Monday': 'Lundi', 'Tuesday': 'Mardi', 'Wednesday': 'Mercredi'}"
      ]
    },
    {
      "cell_type": "code",
      "execution_count": null,
      "id": "8fedd2ae-2a59-46ad-b954-174f3c75ea37",
      "metadata": {
        "id": "8fedd2ae-2a59-46ad-b954-174f3c75ea37",
        "outputId": "fd209318-6678-4548-803a-d4c64cb11504"
      },
      "outputs": [
        {
          "data": {
            "text/plain": [
              "{'wine': 'chardonnay', 'entree': 'chicken', 'dessert': 'cake'}"
            ]
          },
          "execution_count": 3,
          "metadata": {},
          "output_type": "execute_result"
        }
      ],
      "source": [
        "# wine, entree, dessert를 받아서 딕셔너리로 만들어 반환하는 함수\n",
        "def menu(wine, entree, dessert):\n",
        "    return {'wine': wine, 'entree': entree, 'dessert': dessert}\n",
        "menu('chardonnay', 'chicken', 'cake')"
      ]
    },
    {
      "cell_type": "code",
      "execution_count": null,
      "id": "62acf73a-26c9-4c8a-a770-00ffb76d9031",
      "metadata": {
        "id": "62acf73a-26c9-4c8a-a770-00ffb76d9031",
        "outputId": "0e64ff76-3ffb-4a3e-e8da-ba15b11f99d1"
      },
      "outputs": [
        {
          "data": {
            "text/plain": [
              "{'wine': 'frontenac', 'entree': 'fish', 'dessert': 'flan'}"
            ]
          },
          "execution_count": 35,
          "metadata": {},
          "output_type": "execute_result"
        }
      ],
      "source": [
        "# wine, entree, dessert를 받아서 딕셔너리로 만들어 반환하는 함수\n",
        "def menu(wine, entree, dessert):\n",
        "    return {'wine': wine, 'entree': entree, 'dessert': dessert}\n",
        "menu(wine='frontenac', dessert='flan', entree='fish')"
      ]
    },
    {
      "cell_type": "code",
      "execution_count": null,
      "id": "f98735ca-2cc6-4584-a501-25c12bca5a12",
      "metadata": {
        "id": "f98735ca-2cc6-4584-a501-25c12bca5a12",
        "outputId": "77d9ab33-651b-4028-a8ee-67b232be44f0"
      },
      "outputs": [
        {
          "data": {
            "text/plain": [
              "{'wine': 'bordeaux', 'entree': 'beef', 'dessert': 'bagel'}"
            ]
          },
          "execution_count": 39,
          "metadata": {},
          "output_type": "execute_result"
        }
      ],
      "source": [
        "def menu(wine, entree, dessert):\n",
        "    return {'wine': wine, 'entree': entree, 'dessert': dessert}\n",
        "menu(entree='beef', dessert='bagel', wine='bordeaux')"
      ]
    },
    {
      "cell_type": "code",
      "execution_count": null,
      "id": "5645655f-321d-4ff4-8d3a-2180aba69833",
      "metadata": {
        "id": "5645655f-321d-4ff4-8d3a-2180aba69833",
        "outputId": "441e914c-7add-4576-c674-9355f0f3ff85"
      },
      "outputs": [
        {
          "data": {
            "text/plain": [
              "{'wine': 'bordeaux', 'entree': 'beef', 'dessert': 'bagel'}"
            ]
          },
          "execution_count": 42,
          "metadata": {},
          "output_type": "execute_result"
        }
      ],
      "source": [
        "def menu(wine, entree, dessert):\n",
        "    return {'wine': wine, 'entree': entree, 'dessert': dessert}\n",
        "menu(entree='beef', dessert='bagel', wine='bordeaux')"
      ]
    },
    {
      "cell_type": "code",
      "execution_count": null,
      "id": "346b9edc-b65c-4105-bc9e-c14a391ac918",
      "metadata": {
        "id": "346b9edc-b65c-4105-bc9e-c14a391ac918",
        "outputId": "13f5f0f9-e669-4b14-b348-d32d10d1fb0c"
      },
      "outputs": [
        {
          "data": {
            "text/plain": [
              "{'wine': 'chardonnay', 'entree': 'chicken', 'dessert': 'pudding'}"
            ]
          },
          "execution_count": 45,
          "metadata": {},
          "output_type": "execute_result"
        }
      ],
      "source": [
        "# dessert의 기본값을 정해줌\n",
        "def menu(wine, entree, dessert='pudding'):\n",
        "    return {'wine': wine, 'entree': entree, 'dessert': dessert}\n",
        "menu('chardonnay', 'chicken')"
      ]
    },
    {
      "cell_type": "code",
      "execution_count": null,
      "id": "6695a949-6b32-4c39-bb0d-be4dccf607aa",
      "metadata": {
        "id": "6695a949-6b32-4c39-bb0d-be4dccf607aa",
        "outputId": "d78d0095-965b-4c33-a2ce-d9dd7d05636b"
      },
      "outputs": [
        {
          "data": {
            "text/plain": [
              "{'wine': 'dunkelfelder', 'entree': 'duck', 'dessert': 'doughnut'}"
            ]
          },
          "execution_count": 46,
          "metadata": {},
          "output_type": "execute_result"
        }
      ],
      "source": [
        "def menu(wine, entree, dessert='pudding'):\n",
        "    return {'wine': wine, 'entree': entree, 'dessert': dessert}\n",
        "menu('dunkelfelder', 'duck', 'doughnut')"
      ]
    },
    {
      "cell_type": "code",
      "execution_count": null,
      "id": "f920960f-c6eb-48c7-9772-9e00651e4edf",
      "metadata": {
        "id": "f920960f-c6eb-48c7-9772-9e00651e4edf",
        "outputId": "e76e810a-a968-48f3-c71d-2b01a901666c"
      },
      "outputs": [
        {
          "data": {
            "text/plain": [
              "{'price': 100, 'wine': 'chardonnay', 'entree': 'chicken', 'dessert': 'pudding'}"
            ]
          },
          "execution_count": 49,
          "metadata": {},
          "output_type": "execute_result"
        }
      ],
      "source": [
        "def menu(price, wine='chardonnay', entree='chicken', dessert='pudding'):\n",
        "    return {'price': price, 'wine': wine, 'entree': entree, 'dessert': dessert}\n",
        "menu(100)"
      ]
    },
    {
      "cell_type": "code",
      "execution_count": null,
      "id": "d2f4dfa8-1910-45d7-ae1f-ca4d1e6af405",
      "metadata": {
        "id": "d2f4dfa8-1910-45d7-ae1f-ca4d1e6af405",
        "outputId": "57ac4356-eaf9-4f59-a550-06b95d8d88a7"
      },
      "outputs": [
        {
          "data": {
            "text/plain": [
              "{'price': 'hundred',\n",
              " 'wine': 'saint-pierre',\n",
              " 'entree': 'chicken',\n",
              " 'dessert': 'pudding'}"
            ]
          },
          "execution_count": 52,
          "metadata": {},
          "output_type": "execute_result"
        }
      ],
      "source": [
        "menu(price=120, entree='beef')          # 2 키워드 인자\n",
        "menu(dessert='bagel', price=110)       # 2 키워드 인자\n",
        "menu('eighty' 'saint-pierre', 'fish')         # 3 위치 인자\n",
        "menu('hundred', wine='saint-pierre')"
      ]
    },
    {
      "cell_type": "code",
      "execution_count": null,
      "id": "e9ed6084-a12b-403f-bead-a6ff4ae41980",
      "metadata": {
        "id": "e9ed6084-a12b-403f-bead-a6ff4ae41980"
      },
      "outputs": [],
      "source": [
        "def echo(anything):\n",
        "    'echo returns its input argument'\n",
        "    return anything"
      ]
    },
    {
      "cell_type": "code",
      "execution_count": null,
      "id": "42aecbdf-13d0-47ae-8d3a-25e577f77681",
      "metadata": {
        "id": "42aecbdf-13d0-47ae-8d3a-25e577f77681",
        "outputId": "453c8756-aa36-4eb8-d50d-392652a41f60"
      },
      "outputs": [
        {
          "data": {
            "text/plain": [
              "1"
            ]
          },
          "execution_count": 2,
          "metadata": {},
          "output_type": "execute_result"
        }
      ],
      "source": [
        "echo(1)"
      ]
    },
    {
      "cell_type": "code",
      "execution_count": null,
      "id": "dc050d4e-00d4-4eaa-9395-e4463798754d",
      "metadata": {
        "id": "dc050d4e-00d4-4eaa-9395-e4463798754d",
        "outputId": "5398c495-6a8d-410c-9657-f708384728b6"
      },
      "outputs": [
        {
          "name": "stdout",
          "output_type": "stream",
          "text": [
            "Help on function echo in module __main__:\n",
            "\n",
            "echo(anything)\n",
            "    echo returns its input argument\n",
            "\n"
          ]
        }
      ],
      "source": [
        "help (echo)"
      ]
    },
    {
      "cell_type": "code",
      "execution_count": null,
      "id": "f5e45e8c-a7b9-45cf-ab55-eb16e7e11dfd",
      "metadata": {
        "id": "f5e45e8c-a7b9-45cf-ab55-eb16e7e11dfd",
        "outputId": "24a12c05-6f1a-4d67-f1c0-2193ba82b535"
      },
      "outputs": [
        {
          "name": "stdout",
          "output_type": "stream",
          "text": [
            "<function echo at 0x000002113CDADC60>\n"
          ]
        }
      ],
      "source": [
        "print(echo)"
      ]
    },
    {
      "cell_type": "code",
      "execution_count": null,
      "id": "4374cd53-209c-4ec4-8ec8-f03e63ba8033",
      "metadata": {
        "id": "4374cd53-209c-4ec4-8ec8-f03e63ba8033"
      },
      "outputs": [],
      "source": [
        "def print_if_true(thing, check):\n",
        "    \"\"\"\n",
        "    Prints the first argument if a second argument is true.\n",
        "    The operation is:\n",
        "        1. Check whether the *second* argument is true.\n",
        "        2. If it is, print the *first* argument.\n",
        "    \"\"\"\n",
        "    if check:\n",
        "        print(thing)"
      ]
    },
    {
      "cell_type": "code",
      "execution_count": null,
      "id": "3674befc-ee63-4607-bb96-9048dfdd9c26",
      "metadata": {
        "id": "3674befc-ee63-4607-bb96-9048dfdd9c26",
        "outputId": "14a16f68-b8fb-4e3b-816d-2e61503b53c0"
      },
      "outputs": [
        {
          "name": "stdout",
          "output_type": "stream",
          "text": [
            "hahaha\n"
          ]
        }
      ],
      "source": [
        "print_if_true ('hahaha', 1!=3)"
      ]
    },
    {
      "cell_type": "code",
      "execution_count": null,
      "id": "eb8ed415-7753-4b98-99a4-8bfdfacb05db",
      "metadata": {
        "id": "eb8ed415-7753-4b98-99a4-8bfdfacb05db"
      },
      "outputs": [],
      "source": []
    }
  ],
  "metadata": {
    "kernelspec": {
      "display_name": "Python 3 (ipykernel)",
      "language": "python",
      "name": "python3"
    },
    "language_info": {
      "codemirror_mode": {
        "name": "ipython",
        "version": 3
      },
      "file_extension": ".py",
      "mimetype": "text/x-python",
      "name": "python",
      "nbconvert_exporter": "python",
      "pygments_lexer": "ipython3",
      "version": "3.11.5"
    },
    "colab": {
      "provenance": [],
      "include_colab_link": true
    }
  },
  "nbformat": 4,
  "nbformat_minor": 5
}