{
  "cells": [
    {
      "cell_type": "markdown",
      "metadata": {
        "id": "view-in-github",
        "colab_type": "text"
      },
      "source": [
        "<a href=\"https://colab.research.google.com/github/KimMyoungGyun2023/20203_Python-Programming/blob/main/02_2_13%EC%A3%BC_%EC%88%99%EC%A0%9C2_1.ipynb\" target=\"_parent\"><img src=\"https://colab.research.google.com/assets/colab-badge.svg\" alt=\"Open In Colab\"/></a>"
      ]
    },
    {
      "cell_type": "markdown",
      "id": "bc641b44",
      "metadata": {
        "id": "bc641b44"
      },
      "source": [
        "# 02-2 스크래핑 사용하기"
      ]
    },
    {
      "cell_type": "markdown",
      "id": "5ea268e1",
      "metadata": {
        "id": "5ea268e1"
      },
      "source": [
        "<table class=\"tfo-notebook-buttons\" align=\"left\">\n",
        "  <td>\n",
        "    <a target=\"_blank\" href=\"https://nbviewer.jupyter.org/github/rickiepark/hg-da/blob/main/02-2.ipynb\"><img src=\"https://jupyter.org/assets/share.png\" width=\"61\" />주피터 노트북 뷰어로 보기</a>\n",
        "  </td>\n",
        "  <td>\n",
        "    <a target=\"_blank\" href=\"https://colab.research.google.com/github/rickiepark/hg-da/blob/main/02-2.ipynb\"><img src=\"https://www.tensorflow.org/images/colab_logo_32px.png\" />구글 코랩(Colab)에서 실행하기</a>\n",
        "  </td>\n",
        "</table>"
      ]
    },
    {
      "cell_type": "markdown",
      "id": "792f44fb",
      "metadata": {
        "id": "792f44fb"
      },
      "source": [
        "## 검색 결과 페이지 가져오기"
      ]
    },
    {
      "cell_type": "code",
      "execution_count": null,
      "id": "b59a1647-a584-49b2-a9f2-e3acc39c49e9",
      "metadata": {
        "id": "b59a1647-a584-49b2-a9f2-e3acc39c49e9"
      },
      "outputs": [],
      "source": [
        "#!pip install bs4"
      ]
    },
    {
      "cell_type": "code",
      "execution_count": null,
      "id": "0c27f09c",
      "metadata": {
        "colab": {
          "base_uri": "https://localhost:8080/",
          "height": 107
        },
        "id": "0c27f09c",
        "outputId": "f5981843-2a19-4cc2-f46a-77f90aeb6ea8"
      },
      "outputs": [
        {
          "name": "stderr",
          "output_type": "stream",
          "text": [
            "Downloading...\n",
            "From: https://bit.ly/3q9SZix\n",
            "To: C:\\Users\\user\\20s_best_book.json\n",
            "100%|██████████████████████████████████████████████████████████████████████████████| 92.9k/92.9k [00:00<00:00, 612kB/s]\n"
          ]
        },
        {
          "data": {
            "text/plain": [
              "'20s_best_book.json'"
            ]
          },
          "execution_count": 1,
          "metadata": {},
          "output_type": "execute_result"
        }
      ],
      "source": [
        "import gdown\n",
        "\n",
        "gdown.download('https://bit.ly/3q9SZix', '20s_best_book.json', quiet=False)"
      ]
    },
    {
      "cell_type": "code",
      "execution_count": null,
      "id": "6128a3fd",
      "metadata": {
        "colab": {
          "base_uri": "https://localhost:8080/",
          "height": 354
        },
        "id": "6128a3fd",
        "outputId": "25c0d90b-3781-42c8-e4a6-7ab14255a813"
      },
      "outputs": [
        {
          "data": {
            "text/html": [
              "<div>\n",
              "<style scoped>\n",
              "    .dataframe tbody tr th:only-of-type {\n",
              "        vertical-align: middle;\n",
              "    }\n",
              "\n",
              "    .dataframe tbody tr th {\n",
              "        vertical-align: top;\n",
              "    }\n",
              "\n",
              "    .dataframe thead th {\n",
              "        text-align: right;\n",
              "    }\n",
              "</style>\n",
              "<table border=\"1\" class=\"dataframe\">\n",
              "  <thead>\n",
              "    <tr style=\"text-align: right;\">\n",
              "      <th></th>\n",
              "      <th>no</th>\n",
              "      <th>ranking</th>\n",
              "      <th>bookname</th>\n",
              "      <th>authors</th>\n",
              "      <th>publisher</th>\n",
              "      <th>publication_year</th>\n",
              "      <th>isbn13</th>\n",
              "      <th>addition_symbol</th>\n",
              "      <th>vol</th>\n",
              "      <th>class_no</th>\n",
              "      <th>class_nm</th>\n",
              "      <th>loan_count</th>\n",
              "      <th>bookImageURL</th>\n",
              "    </tr>\n",
              "  </thead>\n",
              "  <tbody>\n",
              "    <tr>\n",
              "      <th>0</th>\n",
              "      <td>1</td>\n",
              "      <td>1</td>\n",
              "      <td>우리가 빛의 속도로 갈 수 없다면 :김초엽 소설</td>\n",
              "      <td>지은이: 김초엽</td>\n",
              "      <td>허블</td>\n",
              "      <td>2019</td>\n",
              "      <td>9791190090018</td>\n",
              "      <td>03810</td>\n",
              "      <td></td>\n",
              "      <td>813.7</td>\n",
              "      <td>문학 &gt; 한국문학 &gt; 소설</td>\n",
              "      <td>461</td>\n",
              "      <td>https://image.aladin.co.kr/product/19359/16/co...</td>\n",
              "    </tr>\n",
              "    <tr>\n",
              "      <th>1</th>\n",
              "      <td>2</td>\n",
              "      <td>2</td>\n",
              "      <td>달러구트 꿈 백화점.이미예 장편소설</td>\n",
              "      <td>지은이: 이미예</td>\n",
              "      <td>팩토리나인</td>\n",
              "      <td>2020</td>\n",
              "      <td>9791165341909</td>\n",
              "      <td>03810</td>\n",
              "      <td></td>\n",
              "      <td>813.7</td>\n",
              "      <td>문학 &gt; 한국문학 &gt; 소설</td>\n",
              "      <td>387</td>\n",
              "      <td>https://image.aladin.co.kr/product/24512/70/co...</td>\n",
              "    </tr>\n",
              "    <tr>\n",
              "      <th>2</th>\n",
              "      <td>3</td>\n",
              "      <td>3</td>\n",
              "      <td>지구에서 한아뿐 :정세랑 장편소설</td>\n",
              "      <td>지은이: 정세랑</td>\n",
              "      <td>난다</td>\n",
              "      <td>2019</td>\n",
              "      <td>9791188862290</td>\n",
              "      <td>03810</td>\n",
              "      <td></td>\n",
              "      <td>813.7</td>\n",
              "      <td>문학 &gt; 한국문학 &gt; 소설</td>\n",
              "      <td>383</td>\n",
              "      <td>https://image.aladin.co.kr/product/19804/82/co...</td>\n",
              "    </tr>\n",
              "  </tbody>\n",
              "</table>\n",
              "</div>"
            ],
            "text/plain": [
              "   no  ranking                     bookname   authors publisher  \\\n",
              "0   1        1  우리가 빛의 속도로 갈 수 없다면 :김초엽 소설   지은이: 김초엽        허블   \n",
              "1   2        2         달러구트 꿈 백화점.이미예 장편소설   지은이: 이미예     팩토리나인   \n",
              "2   3        3          지구에서 한아뿐 :정세랑 장편소설   지은이: 정세랑        난다   \n",
              "\n",
              "  publication_year         isbn13 addition_symbol vol  class_no  \\\n",
              "0             2019  9791190090018           03810         813.7   \n",
              "1             2020  9791165341909           03810         813.7   \n",
              "2             2019  9791188862290           03810         813.7   \n",
              "\n",
              "         class_nm  loan_count  \\\n",
              "0  문학 > 한국문학 > 소설         461   \n",
              "1  문학 > 한국문학 > 소설         387   \n",
              "2  문학 > 한국문학 > 소설         383   \n",
              "\n",
              "                                        bookImageURL  \n",
              "0  https://image.aladin.co.kr/product/19359/16/co...  \n",
              "1  https://image.aladin.co.kr/product/24512/70/co...  \n",
              "2  https://image.aladin.co.kr/product/19804/82/co...  "
            ]
          },
          "execution_count": 34,
          "metadata": {},
          "output_type": "execute_result"
        }
      ],
      "source": [
        "import pandas as pd\n",
        "\n",
        "books_df = pd.read_json('20s_best_book.json')\n",
        "books_df.head(3) #10개 20개 설정해서 볼 수 있다 (기본은 5개)"
      ]
    },
    {
      "cell_type": "code",
      "execution_count": null,
      "id": "2c3b1962",
      "metadata": {
        "colab": {
          "base_uri": "https://localhost:8080/",
          "height": 206
        },
        "id": "2c3b1962",
        "outputId": "2176305c-03ea-4098-ff6a-674ea6d0c7de"
      },
      "outputs": [
        {
          "data": {
            "text/html": [
              "<div>\n",
              "<style scoped>\n",
              "    .dataframe tbody tr th:only-of-type {\n",
              "        vertical-align: middle;\n",
              "    }\n",
              "\n",
              "    .dataframe tbody tr th {\n",
              "        vertical-align: top;\n",
              "    }\n",
              "\n",
              "    .dataframe thead th {\n",
              "        text-align: right;\n",
              "    }\n",
              "</style>\n",
              "<table border=\"1\" class=\"dataframe\">\n",
              "  <thead>\n",
              "    <tr style=\"text-align: right;\">\n",
              "      <th></th>\n",
              "      <th>no</th>\n",
              "      <th>ranking</th>\n",
              "      <th>bookname</th>\n",
              "      <th>authors</th>\n",
              "      <th>publisher</th>\n",
              "      <th>publication_year</th>\n",
              "      <th>isbn13</th>\n",
              "    </tr>\n",
              "  </thead>\n",
              "  <tbody>\n",
              "    <tr>\n",
              "      <th>0</th>\n",
              "      <td>1</td>\n",
              "      <td>1</td>\n",
              "      <td>우리가 빛의 속도로 갈 수 없다면 :김초엽 소설</td>\n",
              "      <td>지은이: 김초엽</td>\n",
              "      <td>허블</td>\n",
              "      <td>2019</td>\n",
              "      <td>9791190090018</td>\n",
              "    </tr>\n",
              "    <tr>\n",
              "      <th>1</th>\n",
              "      <td>2</td>\n",
              "      <td>2</td>\n",
              "      <td>달러구트 꿈 백화점.이미예 장편소설</td>\n",
              "      <td>지은이: 이미예</td>\n",
              "      <td>팩토리나인</td>\n",
              "      <td>2020</td>\n",
              "      <td>9791165341909</td>\n",
              "    </tr>\n",
              "    <tr>\n",
              "      <th>2</th>\n",
              "      <td>3</td>\n",
              "      <td>3</td>\n",
              "      <td>지구에서 한아뿐 :정세랑 장편소설</td>\n",
              "      <td>지은이: 정세랑</td>\n",
              "      <td>난다</td>\n",
              "      <td>2019</td>\n",
              "      <td>9791188862290</td>\n",
              "    </tr>\n",
              "    <tr>\n",
              "      <th>3</th>\n",
              "      <td>4</td>\n",
              "      <td>4</td>\n",
              "      <td>시선으로부터, :정세랑 장편소설</td>\n",
              "      <td>지은이: 정세랑</td>\n",
              "      <td>문학동네</td>\n",
              "      <td>2020</td>\n",
              "      <td>9788954672214</td>\n",
              "    </tr>\n",
              "    <tr>\n",
              "      <th>4</th>\n",
              "      <td>5</td>\n",
              "      <td>5</td>\n",
              "      <td>아몬드 :손원평 장편소설</td>\n",
              "      <td>지은이: 손원평</td>\n",
              "      <td>창비</td>\n",
              "      <td>2017</td>\n",
              "      <td>9788936434267</td>\n",
              "    </tr>\n",
              "  </tbody>\n",
              "</table>\n",
              "</div>"
            ],
            "text/plain": [
              "   no  ranking                     bookname   authors publisher  \\\n",
              "0   1        1  우리가 빛의 속도로 갈 수 없다면 :김초엽 소설   지은이: 김초엽        허블   \n",
              "1   2        2         달러구트 꿈 백화점.이미예 장편소설   지은이: 이미예     팩토리나인   \n",
              "2   3        3          지구에서 한아뿐 :정세랑 장편소설   지은이: 정세랑        난다   \n",
              "3   4        4           시선으로부터, :정세랑 장편소설   지은이: 정세랑      문학동네   \n",
              "4   5        5               아몬드 :손원평 장편소설   지은이: 손원평        창비   \n",
              "\n",
              "  publication_year         isbn13  \n",
              "0             2019  9791190090018  \n",
              "1             2020  9791165341909  \n",
              "2             2019  9791188862290  \n",
              "3             2020  9788954672214  \n",
              "4             2017  9788936434267  "
            ]
          },
          "execution_count": 9,
          "metadata": {},
          "output_type": "execute_result"
        }
      ],
      "source": [
        "books = books_df[['no','ranking','bookname','authors','publisher',\n",
        "                 'publication_year','isbn13']]\n",
        "books.head()"
      ]
    },
    {
      "cell_type": "code",
      "execution_count": null,
      "id": "a670c59b",
      "metadata": {
        "colab": {
          "base_uri": "https://localhost:8080/",
          "height": 112
        },
        "id": "a670c59b",
        "outputId": "84b924d5-78ff-48ab-f4d0-71f753e2c853"
      },
      "outputs": [
        {
          "data": {
            "text/html": [
              "<div>\n",
              "<style scoped>\n",
              "    .dataframe tbody tr th:only-of-type {\n",
              "        vertical-align: middle;\n",
              "    }\n",
              "\n",
              "    .dataframe tbody tr th {\n",
              "        vertical-align: top;\n",
              "    }\n",
              "\n",
              "    .dataframe thead th {\n",
              "        text-align: right;\n",
              "    }\n",
              "</style>\n",
              "<table border=\"1\" class=\"dataframe\">\n",
              "  <thead>\n",
              "    <tr style=\"text-align: right;\">\n",
              "      <th></th>\n",
              "      <th>ranking</th>\n",
              "      <th>bookname</th>\n",
              "      <th>authors</th>\n",
              "      <th>publication_year</th>\n",
              "    </tr>\n",
              "  </thead>\n",
              "  <tbody>\n",
              "    <tr>\n",
              "      <th>0</th>\n",
              "      <td>1</td>\n",
              "      <td>우리가 빛의 속도로 갈 수 없다면 :김초엽 소설</td>\n",
              "      <td>지은이: 김초엽</td>\n",
              "      <td>2019</td>\n",
              "    </tr>\n",
              "    <tr>\n",
              "      <th>1</th>\n",
              "      <td>2</td>\n",
              "      <td>달러구트 꿈 백화점.이미예 장편소설</td>\n",
              "      <td>지은이: 이미예</td>\n",
              "      <td>2020</td>\n",
              "    </tr>\n",
              "    <tr>\n",
              "      <th>2</th>\n",
              "      <td>3</td>\n",
              "      <td>지구에서 한아뿐 :정세랑 장편소설</td>\n",
              "      <td>지은이: 정세랑</td>\n",
              "      <td>2019</td>\n",
              "    </tr>\n",
              "  </tbody>\n",
              "</table>\n",
              "</div>"
            ],
            "text/plain": [
              "   ranking                     bookname   authors publication_year\n",
              "0        1  우리가 빛의 속도로 갈 수 없다면 :김초엽 소설   지은이: 김초엽             2019\n",
              "1        2         달러구트 꿈 백화점.이미예 장편소설   지은이: 이미예             2020\n",
              "2        3          지구에서 한아뿐 :정세랑 장편소설   지은이: 정세랑             2019"
            ]
          },
          "execution_count": 4,
          "metadata": {},
          "output_type": "execute_result"
        }
      ],
      "source": [
        "#books_df.loc[[0,1], ['bookname','authors']]\n",
        "books_df.loc[[0,1,2], ['ranking', 'bookname','authors', 'publication_year']]"
      ]
    },
    {
      "cell_type": "code",
      "execution_count": null,
      "id": "d64d4f85",
      "metadata": {
        "colab": {
          "base_uri": "https://localhost:8080/",
          "height": 112
        },
        "id": "d64d4f85",
        "outputId": "d022cf99-b38c-4af0-f490-a359fecd8104"
      },
      "outputs": [
        {
          "data": {
            "text/html": [
              "<div>\n",
              "<style scoped>\n",
              "    .dataframe tbody tr th:only-of-type {\n",
              "        vertical-align: middle;\n",
              "    }\n",
              "\n",
              "    .dataframe tbody tr th {\n",
              "        vertical-align: top;\n",
              "    }\n",
              "\n",
              "    .dataframe thead th {\n",
              "        text-align: right;\n",
              "    }\n",
              "</style>\n",
              "<table border=\"1\" class=\"dataframe\">\n",
              "  <thead>\n",
              "    <tr style=\"text-align: right;\">\n",
              "      <th></th>\n",
              "      <th>bookname</th>\n",
              "      <th>authors</th>\n",
              "    </tr>\n",
              "  </thead>\n",
              "  <tbody>\n",
              "    <tr>\n",
              "      <th>0</th>\n",
              "      <td>우리가 빛의 속도로 갈 수 없다면 :김초엽 소설</td>\n",
              "      <td>지은이: 김초엽</td>\n",
              "    </tr>\n",
              "    <tr>\n",
              "      <th>1</th>\n",
              "      <td>달러구트 꿈 백화점.이미예 장편소설</td>\n",
              "      <td>지은이: 이미예</td>\n",
              "    </tr>\n",
              "  </tbody>\n",
              "</table>\n",
              "</div>"
            ],
            "text/plain": [
              "                      bookname   authors\n",
              "0  우리가 빛의 속도로 갈 수 없다면 :김초엽 소설   지은이: 김초엽\n",
              "1         달러구트 꿈 백화점.이미예 장편소설   지은이: 이미예"
            ]
          },
          "execution_count": 6,
          "metadata": {},
          "output_type": "execute_result"
        }
      ],
      "source": [
        "books_df.loc[0:1, 'bookname':'authors']"
      ]
    },
    {
      "cell_type": "code",
      "execution_count": null,
      "id": "b9bcb956",
      "metadata": {
        "colab": {
          "base_uri": "https://localhost:8080/",
          "height": 206
        },
        "id": "b9bcb956",
        "outputId": "35fb02f4-28b3-4fe6-8d44-f012a3d448a1"
      },
      "outputs": [
        {
          "data": {
            "text/html": [
              "<div>\n",
              "<style scoped>\n",
              "    .dataframe tbody tr th:only-of-type {\n",
              "        vertical-align: middle;\n",
              "    }\n",
              "\n",
              "    .dataframe tbody tr th {\n",
              "        vertical-align: top;\n",
              "    }\n",
              "\n",
              "    .dataframe thead th {\n",
              "        text-align: right;\n",
              "    }\n",
              "</style>\n",
              "<table border=\"1\" class=\"dataframe\">\n",
              "  <thead>\n",
              "    <tr style=\"text-align: right;\">\n",
              "      <th></th>\n",
              "      <th>no</th>\n",
              "      <th>ranking</th>\n",
              "      <th>bookname</th>\n",
              "      <th>authors</th>\n",
              "      <th>publisher</th>\n",
              "      <th>publication_year</th>\n",
              "      <th>isbn13</th>\n",
              "    </tr>\n",
              "  </thead>\n",
              "  <tbody>\n",
              "    <tr>\n",
              "      <th>0</th>\n",
              "      <td>1</td>\n",
              "      <td>1</td>\n",
              "      <td>우리가 빛의 속도로 갈 수 없다면 :김초엽 소설</td>\n",
              "      <td>지은이: 김초엽</td>\n",
              "      <td>허블</td>\n",
              "      <td>2019</td>\n",
              "      <td>9791190090018</td>\n",
              "    </tr>\n",
              "    <tr>\n",
              "      <th>1</th>\n",
              "      <td>2</td>\n",
              "      <td>2</td>\n",
              "      <td>달러구트 꿈 백화점.이미예 장편소설</td>\n",
              "      <td>지은이: 이미예</td>\n",
              "      <td>팩토리나인</td>\n",
              "      <td>2020</td>\n",
              "      <td>9791165341909</td>\n",
              "    </tr>\n",
              "    <tr>\n",
              "      <th>2</th>\n",
              "      <td>3</td>\n",
              "      <td>3</td>\n",
              "      <td>지구에서 한아뿐 :정세랑 장편소설</td>\n",
              "      <td>지은이: 정세랑</td>\n",
              "      <td>난다</td>\n",
              "      <td>2019</td>\n",
              "      <td>9791188862290</td>\n",
              "    </tr>\n",
              "    <tr>\n",
              "      <th>3</th>\n",
              "      <td>4</td>\n",
              "      <td>4</td>\n",
              "      <td>시선으로부터, :정세랑 장편소설</td>\n",
              "      <td>지은이: 정세랑</td>\n",
              "      <td>문학동네</td>\n",
              "      <td>2020</td>\n",
              "      <td>9788954672214</td>\n",
              "    </tr>\n",
              "    <tr>\n",
              "      <th>4</th>\n",
              "      <td>5</td>\n",
              "      <td>5</td>\n",
              "      <td>아몬드 :손원평 장편소설</td>\n",
              "      <td>지은이: 손원평</td>\n",
              "      <td>창비</td>\n",
              "      <td>2017</td>\n",
              "      <td>9788936434267</td>\n",
              "    </tr>\n",
              "  </tbody>\n",
              "</table>\n",
              "</div>"
            ],
            "text/plain": [
              "   no  ranking                     bookname   authors publisher  \\\n",
              "0   1        1  우리가 빛의 속도로 갈 수 없다면 :김초엽 소설   지은이: 김초엽        허블   \n",
              "1   2        2         달러구트 꿈 백화점.이미예 장편소설   지은이: 이미예     팩토리나인   \n",
              "2   3        3          지구에서 한아뿐 :정세랑 장편소설   지은이: 정세랑        난다   \n",
              "3   4        4           시선으로부터, :정세랑 장편소설   지은이: 정세랑      문학동네   \n",
              "4   5        5               아몬드 :손원평 장편소설   지은이: 손원평        창비   \n",
              "\n",
              "  publication_year         isbn13  \n",
              "0             2019  9791190090018  \n",
              "1             2020  9791165341909  \n",
              "2             2019  9791188862290  \n",
              "3             2020  9788954672214  \n",
              "4             2017  9788936434267  "
            ]
          },
          "execution_count": 7,
          "metadata": {},
          "output_type": "execute_result"
        }
      ],
      "source": [
        "books = books_df.loc[:, 'no':'isbn13']\n",
        "books.head()"
      ]
    },
    {
      "cell_type": "code",
      "execution_count": null,
      "id": "be0dc610",
      "metadata": {
        "colab": {
          "base_uri": "https://localhost:8080/",
          "height": 206
        },
        "id": "be0dc610",
        "outputId": "99bd8f36-f6b9-4e1d-a0fc-821a638dfd73"
      },
      "outputs": [
        {
          "data": {
            "text/html": [
              "<div>\n",
              "<style scoped>\n",
              "    .dataframe tbody tr th:only-of-type {\n",
              "        vertical-align: middle;\n",
              "    }\n",
              "\n",
              "    .dataframe tbody tr th {\n",
              "        vertical-align: top;\n",
              "    }\n",
              "\n",
              "    .dataframe thead th {\n",
              "        text-align: right;\n",
              "    }\n",
              "</style>\n",
              "<table border=\"1\" class=\"dataframe\">\n",
              "  <thead>\n",
              "    <tr style=\"text-align: right;\">\n",
              "      <th></th>\n",
              "      <th>no</th>\n",
              "      <th>ranking</th>\n",
              "      <th>bookname</th>\n",
              "      <th>authors</th>\n",
              "      <th>publisher</th>\n",
              "      <th>publication_year</th>\n",
              "      <th>isbn13</th>\n",
              "    </tr>\n",
              "  </thead>\n",
              "  <tbody>\n",
              "    <tr>\n",
              "      <th>0</th>\n",
              "      <td>1</td>\n",
              "      <td>1</td>\n",
              "      <td>우리가 빛의 속도로 갈 수 없다면 :김초엽 소설</td>\n",
              "      <td>지은이: 김초엽</td>\n",
              "      <td>허블</td>\n",
              "      <td>2019</td>\n",
              "      <td>9791190090018</td>\n",
              "    </tr>\n",
              "    <tr>\n",
              "      <th>2</th>\n",
              "      <td>3</td>\n",
              "      <td>3</td>\n",
              "      <td>지구에서 한아뿐 :정세랑 장편소설</td>\n",
              "      <td>지은이: 정세랑</td>\n",
              "      <td>난다</td>\n",
              "      <td>2019</td>\n",
              "      <td>9791188862290</td>\n",
              "    </tr>\n",
              "    <tr>\n",
              "      <th>4</th>\n",
              "      <td>5</td>\n",
              "      <td>5</td>\n",
              "      <td>아몬드 :손원평 장편소설</td>\n",
              "      <td>지은이: 손원평</td>\n",
              "      <td>창비</td>\n",
              "      <td>2017</td>\n",
              "      <td>9788936434267</td>\n",
              "    </tr>\n",
              "    <tr>\n",
              "      <th>6</th>\n",
              "      <td>7</td>\n",
              "      <td>7</td>\n",
              "      <td>목소리를 드릴게요 :정세랑 소설집</td>\n",
              "      <td>지은이: 정세랑</td>\n",
              "      <td>아작</td>\n",
              "      <td>2020</td>\n",
              "      <td>9791165300005</td>\n",
              "    </tr>\n",
              "    <tr>\n",
              "      <th>8</th>\n",
              "      <td>9</td>\n",
              "      <td>9</td>\n",
              "      <td>선량한 차별주의자</td>\n",
              "      <td>김지혜 지음</td>\n",
              "      <td>창비</td>\n",
              "      <td>2019</td>\n",
              "      <td>9788936477196</td>\n",
              "    </tr>\n",
              "  </tbody>\n",
              "</table>\n",
              "</div>"
            ],
            "text/plain": [
              "   no  ranking                     bookname   authors publisher  \\\n",
              "0   1        1  우리가 빛의 속도로 갈 수 없다면 :김초엽 소설   지은이: 김초엽        허블   \n",
              "2   3        3          지구에서 한아뿐 :정세랑 장편소설   지은이: 정세랑        난다   \n",
              "4   5        5               아몬드 :손원평 장편소설   지은이: 손원평        창비   \n",
              "6   7        7          목소리를 드릴게요 :정세랑 소설집   지은이: 정세랑        아작   \n",
              "8   9        9                   선량한 차별주의자     김지혜 지음        창비   \n",
              "\n",
              "  publication_year         isbn13  \n",
              "0             2019  9791190090018  \n",
              "2             2019  9791188862290  \n",
              "4             2017  9788936434267  \n",
              "6             2020  9791165300005  \n",
              "8             2019  9788936477196  "
            ]
          },
          "execution_count": 10,
          "metadata": {},
          "output_type": "execute_result"
        }
      ],
      "source": [
        "books_df.loc[::2, 'no':'isbn13'].head() # 2칸마다 하나씩 (::2), 3칸마다 하나씩 (::3)"
      ]
    },
    {
      "cell_type": "code",
      "execution_count": null,
      "id": "OFcfa4Ubjn-x",
      "metadata": {
        "id": "OFcfa4Ubjn-x"
      },
      "outputs": [],
      "source": [
        "# DH_KEY_TOO_SMALL 에러가 발생하는 경우 다음 코드의 주석을 제거하고 실행하세요.\n",
        "# https://stackoverflow.com/questions/38015537/python-requests-exceptions-sslerror-dh-key-too-small\n",
        "# import requests\n",
        "\n",
        "# requests.packages.urllib3.util.ssl_.DEFAULT_CIPHERS += 'HIGH:!DH:!aNULL'\n",
        "# try:\n",
        "#     requests.packages.urllib3.contrib.pyopenssl.DEFAULT_SSL_CIPHER_LIST += 'HIGH:!DH:!aNULL'\n",
        "# except AttributeError:\n",
        "#     # no pyopenssl support used / needed / available\n",
        "#     pass"
      ]
    },
    {
      "cell_type": "code",
      "execution_count": null,
      "id": "2Lf9nLeFz-jM",
      "metadata": {
        "id": "2Lf9nLeFz-jM"
      },
      "outputs": [],
      "source": [
        "import requests\n",
        "\n",
        "isbn = 9791190090018      # '우리가 빛의 속도로 갈 수 없다면'의 ISBN\n",
        "url = 'http://www.yes24.com/Product/Search?domain=BOOK&query={}'\n",
        "\n",
        "r = requests.get(url.format(isbn))"
      ]
    },
    {
      "cell_type": "code",
      "execution_count": null,
      "id": "bd356750",
      "metadata": {
        "id": "bd356750"
      },
      "outputs": [],
      "source": [
        "print(r.text)"
      ]
    },
    {
      "cell_type": "markdown",
      "id": "5cb0bca3",
      "metadata": {
        "id": "5cb0bca3"
      },
      "source": [
        "## 뷰티플수프"
      ]
    },
    {
      "cell_type": "code",
      "execution_count": null,
      "id": "077d748b",
      "metadata": {
        "id": "077d748b"
      },
      "outputs": [],
      "source": [
        "from bs4 import BeautifulSoup"
      ]
    },
    {
      "cell_type": "code",
      "execution_count": null,
      "id": "579a0854",
      "metadata": {
        "id": "579a0854"
      },
      "outputs": [],
      "source": [
        "soup = BeautifulSoup(r.text, 'html.parser') # 뷰티플수프 객체 생성"
      ]
    },
    {
      "cell_type": "code",
      "execution_count": null,
      "id": "4de033c4",
      "metadata": {
        "id": "4de033c4"
      },
      "outputs": [],
      "source": [
        "prd_link = soup.find('a', attrs={'class':'gd_name'}) #class가 gd_name인것"
      ]
    },
    {
      "cell_type": "code",
      "execution_count": null,
      "id": "fdce6896",
      "metadata": {
        "colab": {
          "base_uri": "https://localhost:8080/"
        },
        "id": "fdce6896",
        "outputId": "a07d5209-f102-4b17-a553-c39e4828aed5"
      },
      "outputs": [
        {
          "name": "stdout",
          "output_type": "stream",
          "text": [
            "<a class=\"gd_name\" href=\"/Product/Goods/74261416\" onclick=\"wiseLogV2('S', '101_005_003_001', ''); setGoodsClickExtraCodeHub('032', '9791190090018', '74261416', '0');\">우리가 빛의 속도로 갈 수 없다면</a>\n"
          ]
        }
      ],
      "source": [
        "print(prd_link)"
      ]
    },
    {
      "cell_type": "code",
      "execution_count": null,
      "id": "As0QrzOR268K",
      "metadata": {
        "colab": {
          "base_uri": "https://localhost:8080/"
        },
        "id": "As0QrzOR268K",
        "outputId": "e32b67eb-d5df-4617-d863-564855dba4be"
      },
      "outputs": [
        {
          "name": "stdout",
          "output_type": "stream",
          "text": [
            "/Product/Goods/74261416\n"
          ]
        }
      ],
      "source": [
        "print(prd_link['href']) #hrer, onclock ....."
      ]
    },
    {
      "cell_type": "code",
      "execution_count": null,
      "id": "wQo5yajw3f1_",
      "metadata": {
        "id": "wQo5yajw3f1_"
      },
      "outputs": [],
      "source": [
        "# '우리가 빛의 속도로 갈 수 없다면'의 상세 페이지 가져오기\n",
        "url = 'http://www.yes24.com'+prd_link['href'] # string + string (더하기로 붙임)\n",
        "r = requests.get(url)"
      ]
    },
    {
      "cell_type": "code",
      "execution_count": null,
      "id": "pfsAhma6c1I-",
      "metadata": {
        "id": "pfsAhma6c1I-"
      },
      "outputs": [],
      "source": [
        "print(r.text)"
      ]
    },
    {
      "cell_type": "code",
      "execution_count": null,
      "id": "27-HqVCH3wBP",
      "metadata": {
        "id": "27-HqVCH3wBP"
      },
      "outputs": [],
      "source": [
        "soup = BeautifulSoup(r.text, 'html.parser') # 새로운 상세페이지에 대한 뷰티플수프 객체 생성\n",
        "prd_detail = soup.find('div', attrs={'id':'infoset_specific'})\n",
        "print(prd_detail)"
      ]
    },
    {
      "cell_type": "code",
      "execution_count": null,
      "id": "09213ca8",
      "metadata": {
        "id": "09213ca8",
        "scrolled": true
      },
      "outputs": [],
      "source": [
        "prd_tr_list = prd_detail.find_all('tr')\n",
        "print(prd_tr_list)"
      ]
    },
    {
      "cell_type": "code",
      "execution_count": null,
      "id": "iAgtBQmV730Z",
      "metadata": {
        "id": "iAgtBQmV730Z"
      },
      "outputs": [],
      "source": [
        "for tr in prd_tr_list:\n",
        "    #if tr.find('th').get_text() == '쪽수, 무게, 크기':\n",
        "    if tr.find('th').get_text() == '발행일':\n",
        "        page_td = tr.find('td').get_text()\n",
        "        break"
      ]
    },
    {
      "cell_type": "code",
      "execution_count": null,
      "id": "ecrTTdRm5R4m",
      "metadata": {
        "colab": {
          "base_uri": "https://localhost:8080/"
        },
        "id": "ecrTTdRm5R4m",
        "outputId": "8d204a6f-7f99-418c-bd2b-f72581869216"
      },
      "outputs": [
        {
          "name": "stdout",
          "output_type": "stream",
          "text": [
            "2019년 06월 24일\n"
          ]
        }
      ],
      "source": [
        "print(page_td)"
      ]
    },
    {
      "cell_type": "code",
      "execution_count": null,
      "id": "36baba03",
      "metadata": {
        "colab": {
          "base_uri": "https://localhost:8080/"
        },
        "id": "36baba03",
        "outputId": "ec5fba41-1d27-4be3-d693-ced64786c444"
      },
      "outputs": [
        {
          "name": "stdout",
          "output_type": "stream",
          "text": [
            "06월\n"
          ]
        }
      ],
      "source": [
        "print(page_td.split()[1])"
      ]
    },
    {
      "cell_type": "markdown",
      "id": "880d52a6",
      "metadata": {
        "id": "880d52a6"
      },
      "source": [
        "## 전체 도서의 쪽수 구하기"
      ]
    },
    {
      "cell_type": "code",
      "execution_count": null,
      "id": "d267046f",
      "metadata": {
        "id": "d267046f"
      },
      "outputs": [],
      "source": [
        "def get_publish_month(isbn):\n",
        "    # Yes24 도서 검색 페이지 URL\n",
        "    url = 'http://www.yes24.com/Product/Search?domain=BOOK&query={}'\n",
        "    # URL에 ISBN을 넣어 HTML 가져옵니다.\n",
        "    r = requests.get(url.format(isbn))\n",
        "    soup = BeautifulSoup(r.text, 'html.parser')   # HTML 파싱\n",
        "    # 검색 결과에서 해당 도서를 선택합니다.\n",
        "    prd_info = soup.find('a', attrs={'class':'gd_name'})\n",
        "    if prd_info == None:\n",
        "        return ''\n",
        "    # 도서 상세 페이지를 가져옵니다.\n",
        "    url = 'http://www.yes24.com'+prd_info['href']\n",
        "    r = requests.get(url)\n",
        "    soup = BeautifulSoup(r.text, 'html.parser')\n",
        "    # 상품 상세정보 div를 선택합니다.\n",
        "    prd_detail = soup.find('div', attrs={'id':'infoset_specific'})\n",
        "    # 테이블에 있는 tr 태그를 가져옵니다.\n",
        "    prd_tr_list = prd_detail.find_all('tr')\n",
        "    # 쪽수가 들어 있는 th를 찾아 td에 담긴 값을 반환합니다.\n",
        "    for tr in prd_tr_list:\n",
        "        if tr.find('th').get_text() == '발행일':\n",
        "            return tr.find('td').get_text().split()[1]\n",
        "    return ''"
      ]
    },
    {
      "cell_type": "code",
      "execution_count": null,
      "id": "cd7c9941",
      "metadata": {
        "colab": {
          "base_uri": "https://localhost:8080/",
          "height": 36
        },
        "id": "cd7c9941",
        "outputId": "2cfd38af-49f8-4804-e7aa-a8f0061a6653"
      },
      "outputs": [
        {
          "data": {
            "text/plain": [
              "'07월'"
            ]
          },
          "execution_count": 79,
          "metadata": {},
          "output_type": "execute_result"
        }
      ],
      "source": [
        "get_publish_month(9791165341909)"
      ]
    },
    {
      "cell_type": "code",
      "execution_count": null,
      "id": "da739a0a",
      "metadata": {
        "id": "da739a0a"
      },
      "outputs": [],
      "source": [
        "top10_books = books.head(10)"
      ]
    },
    {
      "cell_type": "code",
      "execution_count": null,
      "id": "0bff8104",
      "metadata": {
        "id": "0bff8104"
      },
      "outputs": [],
      "source": [
        "def get_publish_month2(row):\n",
        "    isbn = row['isbn13']\n",
        "    return get_publish_month(isbn)"
      ]
    },
    {
      "cell_type": "code",
      "execution_count": null,
      "id": "fb638a9b",
      "metadata": {
        "colab": {
          "base_uri": "https://localhost:8080/"
        },
        "id": "fb638a9b",
        "outputId": "8e4a382e-1802-4b7b-aaa5-e33d24d1cecc"
      },
      "outputs": [
        {
          "name": "stdout",
          "output_type": "stream",
          "text": [
            "0    06월\n",
            "1    07월\n",
            "2    07월\n",
            "3    06월\n",
            "4    03월\n",
            "5    11월\n",
            "6    01월\n",
            "7       \n",
            "8    07월\n",
            "9    07월\n",
            "dtype: object\n"
          ]
        }
      ],
      "source": [
        "publish_month = top10_books.apply(get_publish_month2, axis=1)\n",
        "print(publish_month)"
      ]
    },
    {
      "cell_type": "code",
      "execution_count": null,
      "id": "4e4d4543-4160-4fb3-a3fe-63dd309fb80f",
      "metadata": {
        "id": "4e4d4543-4160-4fb3-a3fe-63dd309fb80f"
      },
      "outputs": [],
      "source": [
        "publish_month = top10_books.apply(lambda row: get_publish_month(row['isbn13']), axis=1)"
      ]
    },
    {
      "cell_type": "code",
      "execution_count": null,
      "id": "941aa1d3",
      "metadata": {
        "id": "941aa1d3",
        "outputId": "3afc5b38-8f8b-4ffb-eb56-a7787b623332"
      },
      "outputs": [
        {
          "name": "stdout",
          "output_type": "stream",
          "text": [
            "0    06월\n",
            "1    07월\n",
            "2    07월\n",
            "3    06월\n",
            "4    03월\n",
            "5    11월\n",
            "6    01월\n",
            "7       \n",
            "8    07월\n",
            "9    07월\n",
            "Name: publish_month, dtype: object\n"
          ]
        }
      ],
      "source": [
        "publish_month.name = 'publish_month'\n",
        "print(publish_month)"
      ]
    },
    {
      "cell_type": "code",
      "execution_count": null,
      "id": "7ac45b9f",
      "metadata": {
        "colab": {
          "base_uri": "https://localhost:8080/",
          "height": 363
        },
        "id": "7ac45b9f",
        "outputId": "6f14cfd9-112a-4e64-fa8b-5ddbe2648807"
      },
      "outputs": [
        {
          "data": {
            "text/html": [
              "<div>\n",
              "<style scoped>\n",
              "    .dataframe tbody tr th:only-of-type {\n",
              "        vertical-align: middle;\n",
              "    }\n",
              "\n",
              "    .dataframe tbody tr th {\n",
              "        vertical-align: top;\n",
              "    }\n",
              "\n",
              "    .dataframe thead th {\n",
              "        text-align: right;\n",
              "    }\n",
              "</style>\n",
              "<table border=\"1\" class=\"dataframe\">\n",
              "  <thead>\n",
              "    <tr style=\"text-align: right;\">\n",
              "      <th></th>\n",
              "      <th>no</th>\n",
              "      <th>ranking</th>\n",
              "      <th>bookname</th>\n",
              "      <th>authors</th>\n",
              "      <th>publisher</th>\n",
              "      <th>publication_year</th>\n",
              "      <th>isbn13</th>\n",
              "      <th>publish_month</th>\n",
              "    </tr>\n",
              "  </thead>\n",
              "  <tbody>\n",
              "    <tr>\n",
              "      <th>0</th>\n",
              "      <td>1</td>\n",
              "      <td>1</td>\n",
              "      <td>우리가 빛의 속도로 갈 수 없다면 :김초엽 소설</td>\n",
              "      <td>지은이: 김초엽</td>\n",
              "      <td>허블</td>\n",
              "      <td>2019</td>\n",
              "      <td>9791190090018</td>\n",
              "      <td>06월</td>\n",
              "    </tr>\n",
              "    <tr>\n",
              "      <th>1</th>\n",
              "      <td>2</td>\n",
              "      <td>2</td>\n",
              "      <td>달러구트 꿈 백화점.이미예 장편소설</td>\n",
              "      <td>지은이: 이미예</td>\n",
              "      <td>팩토리나인</td>\n",
              "      <td>2020</td>\n",
              "      <td>9791165341909</td>\n",
              "      <td>07월</td>\n",
              "    </tr>\n",
              "    <tr>\n",
              "      <th>2</th>\n",
              "      <td>3</td>\n",
              "      <td>3</td>\n",
              "      <td>지구에서 한아뿐 :정세랑 장편소설</td>\n",
              "      <td>지은이: 정세랑</td>\n",
              "      <td>난다</td>\n",
              "      <td>2019</td>\n",
              "      <td>9791188862290</td>\n",
              "      <td>07월</td>\n",
              "    </tr>\n",
              "    <tr>\n",
              "      <th>3</th>\n",
              "      <td>4</td>\n",
              "      <td>4</td>\n",
              "      <td>시선으로부터, :정세랑 장편소설</td>\n",
              "      <td>지은이: 정세랑</td>\n",
              "      <td>문학동네</td>\n",
              "      <td>2020</td>\n",
              "      <td>9788954672214</td>\n",
              "      <td>06월</td>\n",
              "    </tr>\n",
              "    <tr>\n",
              "      <th>4</th>\n",
              "      <td>5</td>\n",
              "      <td>5</td>\n",
              "      <td>아몬드 :손원평 장편소설</td>\n",
              "      <td>지은이: 손원평</td>\n",
              "      <td>창비</td>\n",
              "      <td>2017</td>\n",
              "      <td>9788936434267</td>\n",
              "      <td>03월</td>\n",
              "    </tr>\n",
              "    <tr>\n",
              "      <th>5</th>\n",
              "      <td>6</td>\n",
              "      <td>6</td>\n",
              "      <td>피프티 피플 :정세랑 장편소설</td>\n",
              "      <td>지은이: 정세랑</td>\n",
              "      <td>창비</td>\n",
              "      <td>2016</td>\n",
              "      <td>9788936434243</td>\n",
              "      <td>11월</td>\n",
              "    </tr>\n",
              "    <tr>\n",
              "      <th>6</th>\n",
              "      <td>7</td>\n",
              "      <td>7</td>\n",
              "      <td>목소리를 드릴게요 :정세랑 소설집</td>\n",
              "      <td>지은이: 정세랑</td>\n",
              "      <td>아작</td>\n",
              "      <td>2020</td>\n",
              "      <td>9791165300005</td>\n",
              "      <td>01월</td>\n",
              "    </tr>\n",
              "    <tr>\n",
              "      <th>7</th>\n",
              "      <td>8</td>\n",
              "      <td>8</td>\n",
              "      <td>나미야 잡화점의 기적 :히가시노 게이고 장편소설</td>\n",
              "      <td>지은이: 히가시노 게이고 ;옮긴이: 양윤옥</td>\n",
              "      <td>현대문학</td>\n",
              "      <td>2012</td>\n",
              "      <td>9788972756194</td>\n",
              "      <td></td>\n",
              "    </tr>\n",
              "    <tr>\n",
              "      <th>8</th>\n",
              "      <td>9</td>\n",
              "      <td>9</td>\n",
              "      <td>선량한 차별주의자</td>\n",
              "      <td>김지혜 지음</td>\n",
              "      <td>창비</td>\n",
              "      <td>2019</td>\n",
              "      <td>9788936477196</td>\n",
              "      <td>07월</td>\n",
              "    </tr>\n",
              "    <tr>\n",
              "      <th>9</th>\n",
              "      <td>10</td>\n",
              "      <td>9</td>\n",
              "      <td>쇼코의 미소 :최은영 소설</td>\n",
              "      <td>지은이: 최은영</td>\n",
              "      <td>문학동네</td>\n",
              "      <td>2016</td>\n",
              "      <td>9788954641630</td>\n",
              "      <td>07월</td>\n",
              "    </tr>\n",
              "  </tbody>\n",
              "</table>\n",
              "</div>"
            ],
            "text/plain": [
              "   no  ranking                     bookname                  authors  \\\n",
              "0   1        1  우리가 빛의 속도로 갈 수 없다면 :김초엽 소설                  지은이: 김초엽   \n",
              "1   2        2         달러구트 꿈 백화점.이미예 장편소설                  지은이: 이미예   \n",
              "2   3        3          지구에서 한아뿐 :정세랑 장편소설                  지은이: 정세랑   \n",
              "3   4        4           시선으로부터, :정세랑 장편소설                  지은이: 정세랑   \n",
              "4   5        5               아몬드 :손원평 장편소설                  지은이: 손원평   \n",
              "5   6        6            피프티 피플 :정세랑 장편소설                  지은이: 정세랑   \n",
              "6   7        7          목소리를 드릴게요 :정세랑 소설집                  지은이: 정세랑   \n",
              "7   8        8  나미야 잡화점의 기적 :히가시노 게이고 장편소설   지은이: 히가시노 게이고 ;옮긴이: 양윤옥   \n",
              "8   9        9                   선량한 차별주의자                    김지혜 지음   \n",
              "9  10        9              쇼코의 미소 :최은영 소설                  지은이: 최은영   \n",
              "\n",
              "  publisher publication_year         isbn13 publish_month  \n",
              "0        허블             2019  9791190090018           06월  \n",
              "1     팩토리나인             2020  9791165341909           07월  \n",
              "2        난다             2019  9791188862290           07월  \n",
              "3      문학동네             2020  9788954672214           06월  \n",
              "4        창비             2017  9788936434267           03월  \n",
              "5        창비             2016  9788936434243           11월  \n",
              "6        아작             2020  9791165300005           01월  \n",
              "7      현대문학             2012  9788972756194                \n",
              "8        창비             2019  9788936477196           07월  \n",
              "9      문학동네             2016  9788954641630           07월  "
            ]
          },
          "execution_count": 97,
          "metadata": {},
          "output_type": "execute_result"
        }
      ],
      "source": [
        "top10_with_publish_month = pd.merge(top10_books, publish_month,\n",
        "                                 left_index=True, right_index=True)\n",
        "top10_with_publish_month"
      ]
    },
    {
      "cell_type": "markdown",
      "id": "8s0l24QgYL17",
      "metadata": {
        "id": "8s0l24QgYL17"
      },
      "source": [
        "## `merge()` 함수의 매개변수"
      ]
    },
    {
      "cell_type": "code",
      "execution_count": null,
      "id": "J-0XefxwYLeN",
      "metadata": {
        "id": "J-0XefxwYLeN"
      },
      "outputs": [],
      "source": [
        "df1 = pd.DataFrame({'col1': ['a','b','c'], 'col2': [1,2,3]})\n",
        "df1"
      ]
    },
    {
      "cell_type": "code",
      "execution_count": null,
      "id": "dcVtBloUYaF9",
      "metadata": {
        "id": "dcVtBloUYaF9"
      },
      "outputs": [],
      "source": [
        "df2 = pd.DataFrame({'col1': ['a','b','d'], 'col3': [10,20,30]})\n",
        "df2"
      ]
    },
    {
      "cell_type": "code",
      "execution_count": null,
      "id": "byJy-hZUY2wT",
      "metadata": {
        "id": "byJy-hZUY2wT"
      },
      "outputs": [],
      "source": [
        "pd.merge(df1, df2, on='col1')"
      ]
    },
    {
      "cell_type": "code",
      "execution_count": null,
      "id": "3iFR29aJY6rp",
      "metadata": {
        "id": "3iFR29aJY6rp"
      },
      "outputs": [],
      "source": [
        "pd.merge(df1, df2, how='left', on='col1')"
      ]
    },
    {
      "cell_type": "code",
      "execution_count": null,
      "id": "L02Mt5CvY_gJ",
      "metadata": {
        "id": "L02Mt5CvY_gJ"
      },
      "outputs": [],
      "source": [
        "pd.merge(df1, df2, how='right', on='col1')"
      ]
    },
    {
      "cell_type": "code",
      "execution_count": null,
      "id": "JWnkHNCUZDw7",
      "metadata": {
        "id": "JWnkHNCUZDw7"
      },
      "outputs": [],
      "source": [
        "pd.merge(df1, df2, how='outer', on='col1')"
      ]
    },
    {
      "cell_type": "code",
      "execution_count": null,
      "id": "4tWD1a58ZGrx",
      "metadata": {
        "id": "4tWD1a58ZGrx"
      },
      "outputs": [],
      "source": [
        "pd.merge(df1, df2, left_on='col1', right_on='col1')"
      ]
    },
    {
      "cell_type": "code",
      "execution_count": null,
      "id": "CXR4LsHlZfqQ",
      "metadata": {
        "id": "CXR4LsHlZfqQ"
      },
      "outputs": [],
      "source": [
        "pd.merge(df1, df2, left_on='col2', right_index=True)"
      ]
    }
  ],
  "metadata": {
    "colab": {
      "provenance": [],
      "include_colab_link": true
    },
    "kernelspec": {
      "display_name": "Python 3 (ipykernel)",
      "language": "python",
      "name": "python3"
    },
    "language_info": {
      "codemirror_mode": {
        "name": "ipython",
        "version": 3
      },
      "file_extension": ".py",
      "mimetype": "text/x-python",
      "name": "python",
      "nbconvert_exporter": "python",
      "pygments_lexer": "ipython3",
      "version": "3.11.5"
    }
  },
  "nbformat": 4,
  "nbformat_minor": 5
}