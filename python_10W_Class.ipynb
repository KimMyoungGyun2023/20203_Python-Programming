{
  "cells": [
    {
      "cell_type": "markdown",
      "metadata": {
        "id": "view-in-github",
        "colab_type": "text"
      },
      "source": [
        "<a href=\"https://colab.research.google.com/github/KimMyoungGyun2023/20203_Python-Programming/blob/main/python_10W_Class.ipynb\" target=\"_parent\"><img src=\"https://colab.research.google.com/assets/colab-badge.svg\" alt=\"Open In Colab\"/></a>"
      ]
    },
    {
      "cell_type": "code",
      "execution_count": null,
      "id": "bcb7f658-5cd1-410f-9e37-40e3d6b3a2f3",
      "metadata": {
        "id": "bcb7f658-5cd1-410f-9e37-40e3d6b3a2f3",
        "outputId": "7e5027d6-85b1-4eb0-aa0d-b5f5e1ba81cb"
      },
      "outputs": [
        {
          "name": "stdout",
          "output_type": "stream",
          "text": [
            "3\n",
            "7\n"
          ]
        }
      ],
      "source": [
        "result = 0\n",
        "def adder(num):\n",
        "    global result\n",
        "    result += num\n",
        "    return result\n",
        "print(adder(3))\n",
        "print(adder(4))"
      ]
    },
    {
      "cell_type": "code",
      "execution_count": null,
      "id": "56567ed1-11d2-4191-b04b-3ffd3413733a",
      "metadata": {
        "id": "56567ed1-11d2-4191-b04b-3ffd3413733a",
        "outputId": "e1a63b4f-7407-4fa9-e477-b1afcbe59d36"
      },
      "outputs": [
        {
          "name": "stdout",
          "output_type": "stream",
          "text": [
            "12\n"
          ]
        }
      ],
      "source": [
        "print(adder(5))"
      ]
    },
    {
      "cell_type": "code",
      "execution_count": null,
      "id": "e1e654e8-fd27-44ca-a1e2-2787bd34ea18",
      "metadata": {
        "id": "e1e654e8-fd27-44ca-a1e2-2787bd34ea18",
        "outputId": "cb2b3db4-ea73-4286-bfe3-84eec1a2ed48"
      },
      "outputs": [
        {
          "name": "stdout",
          "output_type": "stream",
          "text": [
            "3\n",
            "7\n",
            "3\n",
            "10\n"
          ]
        }
      ],
      "source": [
        "result1=0\n",
        "result2=0\n",
        "def adder1(num):\n",
        "    global result1\n",
        "    result1 += num\n",
        "    return result1\n",
        "def adder2(num):\n",
        "    global result2\n",
        "    result2 += num\n",
        "    return result2\n",
        "print(adder1(3))\n",
        "print(adder1(4))\n",
        "print(adder2(3))\n",
        "print(adder2(7))"
      ]
    },
    {
      "cell_type": "code",
      "execution_count": null,
      "id": "bde7e7ed-3267-4128-add8-1dc568a36d21",
      "metadata": {
        "id": "bde7e7ed-3267-4128-add8-1dc568a36d21",
        "outputId": "ffde031c-83c3-46e1-bde3-37c8b319ba1c"
      },
      "outputs": [
        {
          "name": "stdout",
          "output_type": "stream",
          "text": [
            "3\n",
            "7\n",
            "3\n",
            "10\n"
          ]
        }
      ],
      "source": [
        "class Calculator:\n",
        "    def __init__(self):\n",
        "        self.result=0\n",
        "\n",
        "    def adder(self, num):\n",
        "        self.result += num\n",
        "        return self.result\n",
        "\n",
        "cal1 = Calculator()\n",
        "cal2 = Calculator()\n",
        "\n",
        "print(cal1.adder(3))\n",
        "print(cal1.adder(4))\n",
        "print(cal2.adder(3))\n",
        "print(cal2.adder(7))"
      ]
    },
    {
      "cell_type": "code",
      "execution_count": null,
      "id": "c6f733dd-7548-4a43-9773-e37066761bbb",
      "metadata": {
        "id": "c6f733dd-7548-4a43-9773-e37066761bbb",
        "outputId": "7cb87c06-5278-493c-f6cf-269b2491c270"
      },
      "outputs": [
        {
          "data": {
            "text/plain": [
              "'지구는 4006년에 멸망한다.'"
            ]
          },
          "execution_count": 12,
          "metadata": {},
          "output_type": "execute_result"
        }
      ],
      "source": [
        "class Service:\n",
        "    secret = \"지구는 4006년에 멸망한다.\"\n",
        "an = Service()\n",
        "an.secret"
      ]
    },
    {
      "cell_type": "code",
      "execution_count": null,
      "id": "be0a4ccf-db1d-4f2a-86d4-5e7310c8e2d0",
      "metadata": {
        "id": "be0a4ccf-db1d-4f2a-86d4-5e7310c8e2d0",
        "outputId": "33f1891b-e860-47e4-82aa-bf230d4a1ee3"
      },
      "outputs": [
        {
          "data": {
            "text/plain": [
              "'지구는 4006년에 멸망한다.'"
            ]
          },
          "execution_count": 13,
          "metadata": {},
          "output_type": "execute_result"
        }
      ],
      "source": [
        "Service.secret"
      ]
    },
    {
      "cell_type": "code",
      "execution_count": null,
      "id": "cb1b4a32-9968-4eac-a016-7c77de804e02",
      "metadata": {
        "id": "cb1b4a32-9968-4eac-a016-7c77de804e02",
        "outputId": "caefe2b9-297c-4964-abbc-51b6e0edde98"
      },
      "outputs": [
        {
          "name": "stdout",
          "output_type": "stream",
          "text": [
            "지구가 4006년에 멸망한다는 사살은 뻥이다.\n"
          ]
        }
      ],
      "source": [
        "Service.secret ='지구가 4006년에 멸망한다는 사살은 뻥이다.'\n",
        "print(an.secret)"
      ]
    },
    {
      "cell_type": "code",
      "execution_count": null,
      "id": "d4074a9a-1ff1-4ca3-a6b1-b8a2c8bee1ef",
      "metadata": {
        "id": "d4074a9a-1ff1-4ca3-a6b1-b8a2c8bee1ef",
        "outputId": "0f44c48b-cd48-4cdb-a1bf-4a6946f6f063"
      },
      "outputs": [
        {
          "name": "stdout",
          "output_type": "stream",
          "text": [
            "1 + 1 = 2이다.\n"
          ]
        }
      ],
      "source": [
        "class Service:\n",
        "    secret = \"지구는 4006년에 멸망한다\"\n",
        "    def sum(self, a, b):\n",
        "        result = a+b\n",
        "        print(\"%s + %s = %s이다.\" % (a, b, result))\n",
        "\n",
        "an = Service()\n",
        "an.sum(1,1)"
      ]
    },
    {
      "cell_type": "code",
      "execution_count": null,
      "id": "c386bdf7-bd5e-4f6f-a413-74a82c538da3",
      "metadata": {
        "id": "c386bdf7-bd5e-4f6f-a413-74a82c538da3",
        "outputId": "f0ab9f42-33b6-428d-bc70-46892d70bf73"
      },
      "outputs": [
        {
          "name": "stdout",
          "output_type": "stream",
          "text": [
            "박달도사님, 1 + 1 = 2입니다.\n"
          ]
        }
      ],
      "source": [
        "class Service:\n",
        "    secret = \"지구는 4006년에 멸망한다.\"\n",
        "    def setname(self, name):\n",
        "        self.name = name\n",
        "    def sum(self, a, b):\n",
        "        result = a+b\n",
        "        print(\"%s님, %s + %s = %s입니다.\" %(self.name, a, b, result))\n",
        "\n",
        "an = Service()\n",
        "an.setname(\"박달도사\")\n",
        "an.sum(1,1)"
      ]
    },
    {
      "cell_type": "code",
      "execution_count": null,
      "id": "6298b4b5-5492-4430-9a4e-df3ea36037e1",
      "metadata": {
        "id": "6298b4b5-5492-4430-9a4e-df3ea36037e1",
        "outputId": "416a20db-b1a5-40a9-cdc2-6006283af71b"
      },
      "outputs": [
        {
          "name": "stdout",
          "output_type": "stream",
          "text": [
            "김정보\n"
          ]
        }
      ],
      "source": [
        "kim = Service()\n",
        "park = Service()\n",
        "kim.name = \"김정보\"\n",
        "park.name = \"박융합\"\n",
        "print(kim.name)"
      ]
    },
    {
      "cell_type": "code",
      "execution_count": null,
      "id": "4a595826-478c-477a-80d0-09ff853e56ed",
      "metadata": {
        "id": "4a595826-478c-477a-80d0-09ff853e56ed",
        "outputId": "da4ed4f1-162e-4029-9c80-44887a4d278f"
      },
      "outputs": [
        {
          "name": "stdout",
          "output_type": "stream",
          "text": [
            "박융합\n"
          ]
        }
      ],
      "source": [
        "print(park.name)"
      ]
    },
    {
      "cell_type": "code",
      "execution_count": null,
      "id": "e9265b8c-7688-4bea-8ed2-8ff604d60f91",
      "metadata": {
        "id": "e9265b8c-7688-4bea-8ed2-8ff604d60f91",
        "outputId": "20b2c243-5a8b-495b-813a-56972d2d0c50"
      },
      "outputs": [
        {
          "name": "stdout",
          "output_type": "stream",
          "text": [
            "지구는 4006년에 멸망한다.\n"
          ]
        }
      ],
      "source": [
        "kim.secret = \"비밀은 없다\"\n",
        "print(park.secret)"
      ]
    },
    {
      "cell_type": "code",
      "execution_count": null,
      "id": "890ad726-0d92-46b7-b5ca-a31bcc0645e9",
      "metadata": {
        "id": "890ad726-0d92-46b7-b5ca-a31bcc0645e9",
        "outputId": "d61f121f-09c2-46bc-ca08-cfd3df12f8bf"
      },
      "outputs": [
        {
          "name": "stdout",
          "output_type": "stream",
          "text": [
            "비밀은 없다\n"
          ]
        }
      ],
      "source": [
        "print(kim.secret)"
      ]
    },
    {
      "cell_type": "code",
      "execution_count": null,
      "id": "95c6daec-09ef-4114-ab71-0dac8fb256bd",
      "metadata": {
        "id": "95c6daec-09ef-4114-ab71-0dac8fb256bd",
        "outputId": "3a55fe22-9b90-4a2f-f714-091695fe78bd"
      },
      "outputs": [
        {
          "data": {
            "text/plain": [
              "'지구는 4006년에 멸망한다.'"
            ]
          },
          "execution_count": 28,
          "metadata": {},
          "output_type": "execute_result"
        }
      ],
      "source": [
        "Service.secret"
      ]
    },
    {
      "cell_type": "code",
      "execution_count": null,
      "id": "cd06d9a5-9065-4660-b800-7202333b2a43",
      "metadata": {
        "id": "cd06d9a5-9065-4660-b800-7202333b2a43",
        "outputId": "a28ee395-8bb4-4537-a681-000e481d96c3"
      },
      "outputs": [
        {
          "ename": "AttributeError",
          "evalue": "'Service' object has no attribute 'name'",
          "output_type": "error",
          "traceback": [
            "\u001b[1;31m---------------------------------------------------------------------------\u001b[0m",
            "\u001b[1;31mAttributeError\u001b[0m                            Traceback (most recent call last)",
            "Cell \u001b[1;32mIn[29], line 2\u001b[0m\n\u001b[0;32m      1\u001b[0m lee\u001b[38;5;241m=\u001b[39mService()\n\u001b[1;32m----> 2\u001b[0m \u001b[43mlee\u001b[49m\u001b[38;5;241;43m.\u001b[39;49m\u001b[43msum\u001b[49m\u001b[43m(\u001b[49m\u001b[38;5;241;43m1\u001b[39;49m\u001b[43m,\u001b[49m\u001b[38;5;241;43m1\u001b[39;49m\u001b[43m)\u001b[49m\n",
            "Cell \u001b[1;32mIn[23], line 7\u001b[0m, in \u001b[0;36mService.sum\u001b[1;34m(self, a, b)\u001b[0m\n\u001b[0;32m      5\u001b[0m \u001b[38;5;28;01mdef\u001b[39;00m \u001b[38;5;21msum\u001b[39m(\u001b[38;5;28mself\u001b[39m, a, b):\n\u001b[0;32m      6\u001b[0m     result \u001b[38;5;241m=\u001b[39m a\u001b[38;5;241m+\u001b[39mb\n\u001b[1;32m----> 7\u001b[0m     \u001b[38;5;28mprint\u001b[39m(\u001b[38;5;124m\"\u001b[39m\u001b[38;5;132;01m%s\u001b[39;00m\u001b[38;5;124m님, \u001b[39m\u001b[38;5;132;01m%s\u001b[39;00m\u001b[38;5;124m + \u001b[39m\u001b[38;5;132;01m%s\u001b[39;00m\u001b[38;5;124m = \u001b[39m\u001b[38;5;132;01m%s\u001b[39;00m\u001b[38;5;124m입니다.\u001b[39m\u001b[38;5;124m\"\u001b[39m \u001b[38;5;241m%\u001b[39m(\u001b[38;5;28;43mself\u001b[39;49m\u001b[38;5;241;43m.\u001b[39;49m\u001b[43mname\u001b[49m, a, b, result))\n",
            "\u001b[1;31mAttributeError\u001b[0m: 'Service' object has no attribute 'name'"
          ]
        }
      ],
      "source": [
        "lee=Service()\n",
        "lee.sum(1,1)"
      ]
    },
    {
      "cell_type": "code",
      "execution_count": null,
      "id": "c6e00429-78b1-48ce-84b9-98ccf413d1b6",
      "metadata": {
        "id": "c6e00429-78b1-48ce-84b9-98ccf413d1b6",
        "outputId": "3d0a85d5-6cdf-48b1-8418-13e800cabbe7"
      },
      "outputs": [
        {
          "name": "stdout",
          "output_type": "stream",
          "text": [
            "박달도사님, 1 + 1 = 2입니다.\n"
          ]
        }
      ],
      "source": [
        "class Service:\n",
        "    secret = \"지구는 4006년에 멸망한다.\"\n",
        "    def __init__(self, name):\n",
        "        self.name = name\n",
        "    def sum(self, a, b):\n",
        "        result = a+b\n",
        "        print(\"%s님, %s + %s = %s입니다.\" %(self.name, a, b, result))\n",
        "\n",
        "an = Service(\"박달도사\")\n",
        "an.sum(1,1)"
      ]
    },
    {
      "cell_type": "code",
      "execution_count": null,
      "id": "55289321-40f6-4bac-ac6f-2355833fe7fc",
      "metadata": {
        "id": "55289321-40f6-4bac-ac6f-2355833fe7fc",
        "outputId": "a1f8c51d-08ea-4eb5-dd73-27008a74bc82"
      },
      "outputs": [
        {
          "data": {
            "text/plain": [
              "__main__.FourCal"
            ]
          },
          "execution_count": 1,
          "metadata": {},
          "output_type": "execute_result"
        }
      ],
      "source": [
        "class FourCal:\n",
        "    pass\n",
        "a = FourCal()\n",
        "type(a)"
      ]
    },
    {
      "cell_type": "code",
      "execution_count": null,
      "id": "cb135776-4de1-4013-a779-291f86fb2d60",
      "metadata": {
        "id": "cb135776-4de1-4013-a779-291f86fb2d60",
        "outputId": "dba5e50d-ccb0-45e3-87f7-e01d5e8429ab"
      },
      "outputs": [
        {
          "name": "stdout",
          "output_type": "stream",
          "text": [
            "4\n"
          ]
        }
      ],
      "source": [
        "class FourCal:\n",
        "    def setdata(self, first, second):\n",
        "        self.first = first\n",
        "        self.second = second\n",
        "a = FourCal()\n",
        "a.setdata(4,2)\n",
        "print(a.first)\n",
        ""
      ]
    },
    {
      "cell_type": "code",
      "execution_count": null,
      "id": "cfe06676-3e95-47c5-a52c-1c3d9bc737fe",
      "metadata": {
        "id": "cfe06676-3e95-47c5-a52c-1c3d9bc737fe",
        "outputId": "7a96ddf2-ea0b-45c2-a1a7-e37a930dfeae"
      },
      "outputs": [
        {
          "name": "stdout",
          "output_type": "stream",
          "text": [
            "2\n"
          ]
        }
      ],
      "source": [
        "print(a.second)"
      ]
    },
    {
      "cell_type": "code",
      "execution_count": null,
      "id": "bf992d81-9a78-4aa4-afeb-2caeb4eea565",
      "metadata": {
        "id": "bf992d81-9a78-4aa4-afeb-2caeb4eea565",
        "outputId": "ccc65cdf-3bbe-453f-d7d4-ceead815904a"
      },
      "outputs": [
        {
          "name": "stdout",
          "output_type": "stream",
          "text": [
            "6\n"
          ]
        }
      ],
      "source": [
        "class FourCal:\n",
        "    def setdata(self, first, second):\n",
        "        self.first = first\n",
        "        self.second = second\n",
        "    def sum(self):\n",
        "        result = self.first + self.second\n",
        "        return result\n",
        "a = FourCal()\n",
        "a.setdata(4,2)\n",
        "print(a.sum())"
      ]
    },
    {
      "cell_type": "code",
      "execution_count": null,
      "id": "0d312f40-bef7-4092-8cea-e7e91f997c1b",
      "metadata": {
        "id": "0d312f40-bef7-4092-8cea-e7e91f997c1b"
      },
      "outputs": [],
      "source": [
        "class FourCal:\n",
        "    def setdata(self, first, second):\n",
        "        self.first = first\n",
        "        self.second = second\n",
        "    def sum(self):\n",
        "        result = self.first + self.second\n",
        "        return result\n",
        "    def mul(self):\n",
        "        result = self.first * self.second\n",
        "        return result\n",
        "    def sub(self):\n",
        "        result = self.first - self.second\n",
        "        return result\n",
        "    def div(self):\n",
        "        result = self.first / self.second\n",
        "        return result"
      ]
    },
    {
      "cell_type": "code",
      "execution_count": null,
      "id": "ba417737-496d-49c9-a37a-e1e41791c1d7",
      "metadata": {
        "id": "ba417737-496d-49c9-a37a-e1e41791c1d7"
      },
      "outputs": [],
      "source": [
        "a = FourCal()"
      ]
    },
    {
      "cell_type": "code",
      "execution_count": null,
      "id": "fa52b71f-11e4-44ed-bf9e-2aabe8146731",
      "metadata": {
        "id": "fa52b71f-11e4-44ed-bf9e-2aabe8146731"
      },
      "outputs": [],
      "source": [
        "b = FourCal()"
      ]
    },
    {
      "cell_type": "code",
      "execution_count": null,
      "id": "77a1d94a-bbcc-4bce-a4db-d772b7764f35",
      "metadata": {
        "id": "77a1d94a-bbcc-4bce-a4db-d772b7764f35"
      },
      "outputs": [],
      "source": [
        "a.setdata(4,2)"
      ]
    },
    {
      "cell_type": "code",
      "execution_count": null,
      "id": "5a78e899-3228-4d1e-853e-901734e9a112",
      "metadata": {
        "id": "5a78e899-3228-4d1e-853e-901734e9a112"
      },
      "outputs": [],
      "source": [
        "b.setdata(3,7)"
      ]
    },
    {
      "cell_type": "code",
      "execution_count": null,
      "id": "d9ff6a53-4aa3-449a-873e-635c8eaf9dac",
      "metadata": {
        "id": "d9ff6a53-4aa3-449a-873e-635c8eaf9dac",
        "outputId": "f89e82e8-e13a-4d9f-dada-91bb4d5954d6"
      },
      "outputs": [
        {
          "data": {
            "text/plain": [
              "6"
            ]
          },
          "execution_count": 10,
          "metadata": {},
          "output_type": "execute_result"
        }
      ],
      "source": [
        "a.sum()"
      ]
    },
    {
      "cell_type": "code",
      "execution_count": null,
      "id": "23d80165-dd08-404b-b28e-138a07110d1e",
      "metadata": {
        "id": "23d80165-dd08-404b-b28e-138a07110d1e",
        "outputId": "0ccd6b0a-c0ee-44c5-ce80-59e04e4e2ff2"
      },
      "outputs": [
        {
          "data": {
            "text/plain": [
              "8"
            ]
          },
          "execution_count": 11,
          "metadata": {},
          "output_type": "execute_result"
        }
      ],
      "source": [
        "a.mul()"
      ]
    },
    {
      "cell_type": "code",
      "execution_count": null,
      "id": "7352ba34-a553-453d-9dc8-d69a31a0f423",
      "metadata": {
        "id": "7352ba34-a553-453d-9dc8-d69a31a0f423",
        "outputId": "b6c17d51-94fd-4cde-f497-5c540cafed73"
      },
      "outputs": [
        {
          "data": {
            "text/plain": [
              "2"
            ]
          },
          "execution_count": 12,
          "metadata": {},
          "output_type": "execute_result"
        }
      ],
      "source": [
        "a.sub()"
      ]
    },
    {
      "cell_type": "code",
      "execution_count": null,
      "id": "6946c6b1-777e-4cc9-8cef-559c65ddbefa",
      "metadata": {
        "id": "6946c6b1-777e-4cc9-8cef-559c65ddbefa",
        "outputId": "40111259-406a-4371-d09c-0a30186ef273"
      },
      "outputs": [
        {
          "data": {
            "text/plain": [
              "2.0"
            ]
          },
          "execution_count": 13,
          "metadata": {},
          "output_type": "execute_result"
        }
      ],
      "source": [
        "a.div()"
      ]
    },
    {
      "cell_type": "code",
      "execution_count": null,
      "id": "d293f9e6-0240-4cbd-95bc-14da2a933d3e",
      "metadata": {
        "id": "d293f9e6-0240-4cbd-95bc-14da2a933d3e",
        "outputId": "b10a3bf0-8d3f-45e3-daed-e9e329410844"
      },
      "outputs": [
        {
          "data": {
            "text/plain": [
              "-4"
            ]
          },
          "execution_count": 14,
          "metadata": {},
          "output_type": "execute_result"
        }
      ],
      "source": [
        "b.sub()"
      ]
    },
    {
      "cell_type": "code",
      "execution_count": null,
      "id": "499795ad-44d6-4448-a600-3b1c9e99042b",
      "metadata": {
        "id": "499795ad-44d6-4448-a600-3b1c9e99042b",
        "outputId": "fbff697c-c57a-442f-8b90-85e89825f072"
      },
      "outputs": [
        {
          "name": "stdout",
          "output_type": "stream",
          "text": [
            "player 1 rolled[3, 1, 5]\n",
            "player 2 rolled[2, 6, 1]\n",
            "Draw\n"
          ]
        }
      ],
      "source": [
        "import random\n",
        "player1_dice = []\n",
        "player2_dice = []\n",
        "\n",
        "for i in range(3):\n",
        "    player1_dice.append(random.randint(1,6))\n",
        "    player2_dice.append(random.randint(1,6))\n",
        "\n",
        "print(\"player 1 rolled\" + str(player1_dice))\n",
        "print(\"player 2 rolled\" + str(player2_dice))\n",
        "\n",
        "if sum(player1_dice) == sum(player2_dice):\n",
        "    print(\"Draw\")\n",
        "elif sum(player1_dice) > sum(player2_dice):\n",
        "    print(\"Player 1 wins\")\n",
        "else:\n",
        "    print (\"Player 2 wins\")"
      ]
    },
    {
      "cell_type": "code",
      "execution_count": null,
      "id": "04875f50-3b2a-4d34-93e5-c1c5bf56e6c8",
      "metadata": {
        "id": "04875f50-3b2a-4d34-93e5-c1c5bf56e6c8",
        "outputId": "b7ae5981-d32e-43de-ec2c-4ff31f4b531a"
      },
      "outputs": [
        {
          "name": "stdout",
          "output_type": "stream",
          "text": [
            "Player 1 rolled[2, 5, 4]\n",
            "Player 2 rolled[5, 1, 6]\n",
            "Player 2 wins!\n"
          ]
        }
      ],
      "source": [
        "from random import randint\n",
        "\n",
        "class Player:\n",
        "    def __init__(self):\n",
        "        self.dice = []\n",
        "\n",
        "    def roll(self):\n",
        "        self.dice = []\n",
        "        for i in range(3):\n",
        "            self.dice.append(randint(1,6))\n",
        "\n",
        "    def get_dice(self):\n",
        "        return self.dice\n",
        "\n",
        "player1 = Player()\n",
        "player2 = Player()\n",
        "\n",
        "player1.roll()\n",
        "player2.roll()\n",
        "\n",
        "print(\"Player 1 rolled\" + str(player1.get_dice()))\n",
        "print(\"Player 2 rolled\" + str(player2.get_dice()))\n",
        "\n",
        "if sum(player1.get_dice()) == sum(player2.get_dice()):\n",
        "    print(\"Draw!\")\n",
        "elif sum(player1.get_dice()) > sum(player2.get_dice()):\n",
        "    print(\"Player 1 wins!\")\n",
        "else:\n",
        "    print(\"Player 2 wins!\")"
      ]
    },
    {
      "cell_type": "code",
      "execution_count": null,
      "id": "9401ca53-8def-475a-a005-0bcdefc4790a",
      "metadata": {
        "id": "9401ca53-8def-475a-a005-0bcdefc4790a"
      },
      "outputs": [],
      "source": []
    }
  ],
  "metadata": {
    "kernelspec": {
      "display_name": "Python 3 (ipykernel)",
      "language": "python",
      "name": "python3"
    },
    "language_info": {
      "codemirror_mode": {
        "name": "ipython",
        "version": 3
      },
      "file_extension": ".py",
      "mimetype": "text/x-python",
      "name": "python",
      "nbconvert_exporter": "python",
      "pygments_lexer": "ipython3",
      "version": "3.11.5"
    },
    "colab": {
      "provenance": [],
      "include_colab_link": true
    }
  },
  "nbformat": 4,
  "nbformat_minor": 5
}