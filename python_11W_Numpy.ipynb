{
  "cells": [
    {
      "cell_type": "markdown",
      "metadata": {
        "id": "view-in-github",
        "colab_type": "text"
      },
      "source": [
        "<a href=\"https://colab.research.google.com/github/KimMyoungGyun2023/20203_Python-Programming/blob/main/python_11W_Numpy.ipynb\" target=\"_parent\"><img src=\"https://colab.research.google.com/assets/colab-badge.svg\" alt=\"Open In Colab\"/></a>"
      ]
    },
    {
      "cell_type": "code",
      "execution_count": null,
      "id": "90df8b63-31b0-413c-a633-9e7022b88026",
      "metadata": {
        "id": "90df8b63-31b0-413c-a633-9e7022b88026",
        "outputId": "1256ccd3-1b9d-46d0-b576-692d6dee1592"
      },
      "outputs": [
        {
          "name": "stdout",
          "output_type": "stream",
          "text": [
            "Requirement already satisfied: numpy in c:\\users\\user\\appdata\\local\\programs\\python\\python311\\lib\\site-packages (1.25.2)"
          ]
        },
        {
          "name": "stderr",
          "output_type": "stream",
          "text": [
            "\n",
            "[notice] A new release of pip is available: 23.2.1 -> 23.3.1\n",
            "[notice] To update, run: python.exe -m pip install --upgrade pip\n"
          ]
        },
        {
          "name": "stdout",
          "output_type": "stream",
          "text": [
            "\n"
          ]
        }
      ],
      "source": [
        "!pip3 install numpy\n"
      ]
    },
    {
      "cell_type": "code",
      "execution_count": null,
      "id": "f858d57e-d16d-4363-aaa3-9fae996b3131",
      "metadata": {
        "id": "f858d57e-d16d-4363-aaa3-9fae996b3131"
      },
      "outputs": [],
      "source": [
        "import numpy as np"
      ]
    },
    {
      "cell_type": "code",
      "execution_count": null,
      "id": "4c0b2ecd-0f69-4b5e-8af4-0b50130009c5",
      "metadata": {
        "id": "4c0b2ecd-0f69-4b5e-8af4-0b50130009c5",
        "outputId": "170c8d41-d317-42d4-c03c-56f010c2ac70"
      },
      "outputs": [
        {
          "data": {
            "text/plain": [
              "(1, 6)"
            ]
          },
          "execution_count": 4,
          "metadata": {},
          "output_type": "execute_result"
        }
      ],
      "source": [
        "a = np.arange(6)\n",
        "a2 = a[np.newaxis, :]\n",
        "a2.shape"
      ]
    },
    {
      "cell_type": "code",
      "execution_count": null,
      "id": "a10ffd93-005f-453e-8afa-133109c0b934",
      "metadata": {
        "id": "a10ffd93-005f-453e-8afa-133109c0b934",
        "outputId": "7aba0317-5fd1-44c9-e2ab-bfa655784b0a"
      },
      "outputs": [
        {
          "data": {
            "text/plain": [
              "array([0, 1, 2, 3, 4, 5])"
            ]
          },
          "execution_count": 5,
          "metadata": {},
          "output_type": "execute_result"
        }
      ],
      "source": [
        "a"
      ]
    },
    {
      "cell_type": "code",
      "execution_count": null,
      "id": "0d9fffd8-0f92-4daa-83ea-ea01724a7fb2",
      "metadata": {
        "id": "0d9fffd8-0f92-4daa-83ea-ea01724a7fb2"
      },
      "outputs": [],
      "source": [
        "a = np.array([1, 2, 3, 4, 5, 6])"
      ]
    },
    {
      "cell_type": "code",
      "execution_count": null,
      "id": "35efa7e0-37fa-42cb-9a34-6310745c0fb9",
      "metadata": {
        "id": "35efa7e0-37fa-42cb-9a34-6310745c0fb9"
      },
      "outputs": [],
      "source": [
        "a = np.array([[1, 2, 3, 4], [5, 6, 7, 8], [9, 10, 11, 12]])"
      ]
    },
    {
      "cell_type": "code",
      "execution_count": null,
      "id": "26c3b5e2-83f2-4745-97f1-b308e9684dd8",
      "metadata": {
        "id": "26c3b5e2-83f2-4745-97f1-b308e9684dd8",
        "outputId": "9307da5e-0e6d-42c6-8388-7ada039987ed"
      },
      "outputs": [
        {
          "name": "stdout",
          "output_type": "stream",
          "text": [
            "[1 2 3 4]\n"
          ]
        }
      ],
      "source": [
        "print(a[0])"
      ]
    },
    {
      "cell_type": "code",
      "execution_count": null,
      "id": "f69ecc80-52cc-4ab3-845b-4eab8f8a5643",
      "metadata": {
        "id": "f69ecc80-52cc-4ab3-845b-4eab8f8a5643"
      },
      "outputs": [],
      "source": [
        "import numpy as np\n",
        "a = np.array([1, 2, 3])"
      ]
    },
    {
      "cell_type": "code",
      "execution_count": null,
      "id": "320f79a0-748b-458c-966f-306ef6c9f756",
      "metadata": {
        "id": "320f79a0-748b-458c-966f-306ef6c9f756",
        "outputId": "7454d86b-e64f-4059-ec91-c37aea9bb11e"
      },
      "outputs": [
        {
          "data": {
            "text/plain": [
              "array([0., 0.])"
            ]
          },
          "execution_count": 11,
          "metadata": {},
          "output_type": "execute_result"
        }
      ],
      "source": [
        "np.zeros(2)"
      ]
    },
    {
      "cell_type": "code",
      "execution_count": null,
      "id": "4c091d34-11fe-49c0-aca6-bdea438b3bd2",
      "metadata": {
        "id": "4c091d34-11fe-49c0-aca6-bdea438b3bd2",
        "outputId": "9ac2f3ac-200d-45ab-d6d2-728697565b4a"
      },
      "outputs": [
        {
          "data": {
            "text/plain": [
              "array([1., 1.])"
            ]
          },
          "execution_count": 12,
          "metadata": {},
          "output_type": "execute_result"
        }
      ],
      "source": [
        "np.ones(2)"
      ]
    },
    {
      "cell_type": "code",
      "execution_count": null,
      "id": "91b1a24b-73e1-4517-a63e-adf6b94c886d",
      "metadata": {
        "id": "91b1a24b-73e1-4517-a63e-adf6b94c886d",
        "outputId": "e2d67e96-e09f-45e8-a520-054116db86db"
      },
      "outputs": [
        {
          "data": {
            "text/plain": [
              "array([1., 1.])"
            ]
          },
          "execution_count": 13,
          "metadata": {},
          "output_type": "execute_result"
        }
      ],
      "source": [
        "np.empty(2)"
      ]
    },
    {
      "cell_type": "code",
      "execution_count": null,
      "id": "bce0b0a6-9378-46ba-94dd-d2f9a4256f3b",
      "metadata": {
        "id": "bce0b0a6-9378-46ba-94dd-d2f9a4256f3b",
        "outputId": "3103c07b-2ebb-4b7e-a232-61267a5ac8d5"
      },
      "outputs": [
        {
          "data": {
            "text/plain": [
              "array([2, 4, 6, 8])"
            ]
          },
          "execution_count": 14,
          "metadata": {},
          "output_type": "execute_result"
        }
      ],
      "source": [
        "np.arange(2, 9, 2)"
      ]
    },
    {
      "cell_type": "code",
      "execution_count": null,
      "id": "a2e22aee-a009-4fb3-a2ed-8aa75389ae25",
      "metadata": {
        "id": "a2e22aee-a009-4fb3-a2ed-8aa75389ae25",
        "outputId": "31286ed0-6066-4924-8c7d-beea8419f164"
      },
      "outputs": [
        {
          "data": {
            "text/plain": [
              "array([ 0. ,  2.5,  5. ,  7.5, 10. ])"
            ]
          },
          "execution_count": 15,
          "metadata": {},
          "output_type": "execute_result"
        }
      ],
      "source": [
        "np.linspace(0, 10, num=5)"
      ]
    },
    {
      "cell_type": "code",
      "execution_count": null,
      "id": "de5b0ec1-02d8-4a9d-afb8-1d016f8ae064",
      "metadata": {
        "id": "de5b0ec1-02d8-4a9d-afb8-1d016f8ae064",
        "outputId": "84f3da3f-5883-46e4-d62d-39e8faa55560"
      },
      "outputs": [
        {
          "data": {
            "text/plain": [
              "array([1, 1], dtype=int64)"
            ]
          },
          "execution_count": 16,
          "metadata": {},
          "output_type": "execute_result"
        }
      ],
      "source": [
        "x = np.ones(2, dtype=np.int64)\n",
        "x"
      ]
    },
    {
      "cell_type": "code",
      "execution_count": null,
      "id": "0927f1ba-268a-427f-b667-453c0d0338de",
      "metadata": {
        "id": "0927f1ba-268a-427f-b667-453c0d0338de"
      },
      "outputs": [],
      "source": [
        "import numpy as np\n",
        "arr = np.array([2, 1, 5, 3, 7, 4, 6, 8])"
      ]
    },
    {
      "cell_type": "code",
      "execution_count": null,
      "id": "771dfc24-e71b-4c76-add4-d9f7ea6feeeb",
      "metadata": {
        "id": "771dfc24-e71b-4c76-add4-d9f7ea6feeeb",
        "outputId": "88a3a1f3-6661-4707-e8ab-5530472a6431"
      },
      "outputs": [
        {
          "data": {
            "text/plain": [
              "array([1, 2, 3, 4, 5, 6, 7, 8])"
            ]
          },
          "execution_count": 4,
          "metadata": {},
          "output_type": "execute_result"
        }
      ],
      "source": [
        "np.sort(arr)"
      ]
    },
    {
      "cell_type": "code",
      "execution_count": null,
      "id": "0260acef-06ae-49a6-a8be-fc85ea56f663",
      "metadata": {
        "id": "0260acef-06ae-49a6-a8be-fc85ea56f663"
      },
      "outputs": [],
      "source": [
        "a = np.array([1, 2, 3, 4])\n",
        "b = np.array([5, 6, 7, 8])"
      ]
    },
    {
      "cell_type": "code",
      "execution_count": null,
      "id": "bb9eca5f-900c-45d0-b418-26e875ade0d4",
      "metadata": {
        "id": "bb9eca5f-900c-45d0-b418-26e875ade0d4",
        "outputId": "f531d74b-445e-4fc6-eb21-9a9996291adb"
      },
      "outputs": [
        {
          "data": {
            "text/plain": [
              "array([1, 2, 3, 4, 5, 6, 7, 8])"
            ]
          },
          "execution_count": 6,
          "metadata": {},
          "output_type": "execute_result"
        }
      ],
      "source": [
        "np.concatenate((a, b))"
      ]
    },
    {
      "cell_type": "code",
      "execution_count": null,
      "id": "183f3c3b-f585-4bc7-bc3f-3e9a767056d4",
      "metadata": {
        "id": "183f3c3b-f585-4bc7-bc3f-3e9a767056d4"
      },
      "outputs": [],
      "source": [
        "x = np.array([[1, 2], [3, 4]])\n",
        "y = np.array([[5, 6]])"
      ]
    },
    {
      "cell_type": "code",
      "execution_count": null,
      "id": "092a8a9e-a81d-401a-b800-6e21dc46a68b",
      "metadata": {
        "id": "092a8a9e-a81d-401a-b800-6e21dc46a68b",
        "outputId": "17cb775b-fb3d-4c51-d347-e17ba8df9a04"
      },
      "outputs": [
        {
          "data": {
            "text/plain": [
              "array([[1, 2],\n",
              "       [3, 4],\n",
              "       [5, 6]])"
            ]
          },
          "execution_count": 8,
          "metadata": {},
          "output_type": "execute_result"
        }
      ],
      "source": [
        "np.concatenate((x, y), axis=0)"
      ]
    },
    {
      "cell_type": "code",
      "execution_count": null,
      "id": "05f12692-4b64-478d-80ab-dca010a6a28c",
      "metadata": {
        "id": "05f12692-4b64-478d-80ab-dca010a6a28c"
      },
      "outputs": [],
      "source": [
        "array_example = np.array([[[0, 1, 2, 3],\n",
        "                           [4, 5, 6, 7]],\n",
        "\n",
        "                          [[0, 1, 2, 3],\n",
        "                           [4, 5, 6, 7]],\n",
        "\n",
        "                          [[0 ,1 ,2, 3],\n",
        "                           [4, 5, 6, 7]]])"
      ]
    },
    {
      "cell_type": "code",
      "execution_count": null,
      "id": "b7935296-f1aa-40ea-9cea-dd3bef8ac958",
      "metadata": {
        "id": "b7935296-f1aa-40ea-9cea-dd3bef8ac958",
        "outputId": "dd07dbd9-18bd-4f51-b05c-740876174011"
      },
      "outputs": [
        {
          "data": {
            "text/plain": [
              "3"
            ]
          },
          "execution_count": 10,
          "metadata": {},
          "output_type": "execute_result"
        }
      ],
      "source": [
        "array_example.ndim"
      ]
    },
    {
      "cell_type": "code",
      "execution_count": null,
      "id": "fa61af8c-69f8-429a-a97c-3ddcc756f709",
      "metadata": {
        "id": "fa61af8c-69f8-429a-a97c-3ddcc756f709",
        "outputId": "9dea6a89-4aa0-49ed-e24f-0bd3826ed5a1"
      },
      "outputs": [
        {
          "data": {
            "text/plain": [
              "24"
            ]
          },
          "execution_count": 11,
          "metadata": {},
          "output_type": "execute_result"
        }
      ],
      "source": [
        "array_example.size"
      ]
    },
    {
      "cell_type": "code",
      "execution_count": null,
      "id": "3b08fe0a-e5b5-4f16-9d37-184962598c02",
      "metadata": {
        "id": "3b08fe0a-e5b5-4f16-9d37-184962598c02",
        "outputId": "6b05bdab-e83d-4184-80af-9b25a1659f15"
      },
      "outputs": [
        {
          "data": {
            "text/plain": [
              "(3, 2, 4)"
            ]
          },
          "execution_count": 12,
          "metadata": {},
          "output_type": "execute_result"
        }
      ],
      "source": [
        "array_example.shape"
      ]
    },
    {
      "cell_type": "code",
      "execution_count": null,
      "id": "49d24090-9dca-4d97-87ac-e54297099a99",
      "metadata": {
        "id": "49d24090-9dca-4d97-87ac-e54297099a99",
        "outputId": "a029868c-1964-4048-e90f-bf207d515477"
      },
      "outputs": [
        {
          "name": "stdout",
          "output_type": "stream",
          "text": [
            "[0 1 2 3 4 5]\n"
          ]
        }
      ],
      "source": [
        "a = np.arange(6)\n",
        "print(a)"
      ]
    },
    {
      "cell_type": "code",
      "execution_count": null,
      "id": "0ba26cb9-617b-4064-8990-b15b60cb63c6",
      "metadata": {
        "id": "0ba26cb9-617b-4064-8990-b15b60cb63c6",
        "outputId": "4d0be025-31d9-4621-80b2-1f9dff0fdb9d"
      },
      "outputs": [
        {
          "name": "stdout",
          "output_type": "stream",
          "text": [
            "[[0 1]\n",
            " [2 3]\n",
            " [4 5]]\n"
          ]
        }
      ],
      "source": [
        "b = a.reshape(3, 2)\n",
        "print(b)"
      ]
    },
    {
      "cell_type": "code",
      "execution_count": null,
      "id": "e3da6670-f096-441d-8259-4e27bb8da454",
      "metadata": {
        "id": "e3da6670-f096-441d-8259-4e27bb8da454",
        "outputId": "593dcc06-9445-4245-dd4c-00411a9f3243"
      },
      "outputs": [
        {
          "data": {
            "text/plain": [
              "array([[0, 1, 2, 3, 4, 5]])"
            ]
          },
          "execution_count": 17,
          "metadata": {},
          "output_type": "execute_result"
        }
      ],
      "source": [
        "np.reshape(a, newshape=(1, 6), order='C')"
      ]
    },
    {
      "cell_type": "code",
      "execution_count": null,
      "id": "cbe20bec-5373-4675-8af3-cff668115cab",
      "metadata": {
        "id": "cbe20bec-5373-4675-8af3-cff668115cab",
        "outputId": "7492630f-d331-4afd-b199-dd4afaed71a6"
      },
      "outputs": [
        {
          "data": {
            "text/plain": [
              "(6,)"
            ]
          },
          "execution_count": 18,
          "metadata": {},
          "output_type": "execute_result"
        }
      ],
      "source": [
        "a = np.array([1, 2, 3, 4, 5, 6])\n",
        "a.shape"
      ]
    },
    {
      "cell_type": "code",
      "execution_count": null,
      "id": "60c0c43a-8e88-4c46-96b1-b6e8388eec8f",
      "metadata": {
        "id": "60c0c43a-8e88-4c46-96b1-b6e8388eec8f",
        "outputId": "9cebb788-36e5-4095-8877-1ee32532a7be"
      },
      "outputs": [
        {
          "data": {
            "text/plain": [
              "(1, 6)"
            ]
          },
          "execution_count": 19,
          "metadata": {},
          "output_type": "execute_result"
        }
      ],
      "source": [
        "a2 = a[np.newaxis, :]\n",
        "a2.shape"
      ]
    },
    {
      "cell_type": "code",
      "execution_count": null,
      "id": "7badb7c9-a108-464a-b046-a7e85b0be0e5",
      "metadata": {
        "id": "7badb7c9-a108-464a-b046-a7e85b0be0e5",
        "outputId": "56fd34b6-4b4d-46b2-ca7f-9f4caaee4be8"
      },
      "outputs": [
        {
          "data": {
            "text/plain": [
              "(1, 6)"
            ]
          },
          "execution_count": 20,
          "metadata": {},
          "output_type": "execute_result"
        }
      ],
      "source": [
        "row_vector = a[np.newaxis, :]\n",
        "row_vector.shape"
      ]
    },
    {
      "cell_type": "code",
      "execution_count": null,
      "id": "9c8e139e-8fff-4772-a9fd-b9c99a8c89dc",
      "metadata": {
        "id": "9c8e139e-8fff-4772-a9fd-b9c99a8c89dc",
        "outputId": "c06b395b-c24d-442c-c57b-6451efee87c7"
      },
      "outputs": [
        {
          "data": {
            "text/plain": [
              "(6, 1)"
            ]
          },
          "execution_count": 21,
          "metadata": {},
          "output_type": "execute_result"
        }
      ],
      "source": [
        "col_vector = a[:, np.newaxis]\n",
        "col_vector.shape"
      ]
    },
    {
      "cell_type": "code",
      "execution_count": null,
      "id": "72564755-0375-4d66-8ef4-28bfaba9585b",
      "metadata": {
        "id": "72564755-0375-4d66-8ef4-28bfaba9585b",
        "outputId": "95ce6888-8411-427c-f3eb-92ee32bd554e"
      },
      "outputs": [
        {
          "data": {
            "text/plain": [
              "(6,)"
            ]
          },
          "execution_count": 22,
          "metadata": {},
          "output_type": "execute_result"
        }
      ],
      "source": [
        "a = np.array([1, 2, 3, 4, 5, 6])\n",
        "a.shape"
      ]
    },
    {
      "cell_type": "code",
      "execution_count": null,
      "id": "7c9cdaf0-9313-44df-a985-f1dd87685223",
      "metadata": {
        "id": "7c9cdaf0-9313-44df-a985-f1dd87685223",
        "outputId": "93d971c6-ed1b-4f4b-ea7c-1aedff394ebf"
      },
      "outputs": [
        {
          "data": {
            "text/plain": [
              "(6, 1)"
            ]
          },
          "execution_count": 23,
          "metadata": {},
          "output_type": "execute_result"
        }
      ],
      "source": [
        "b = np.expand_dims(a, axis=1)\n",
        "b.shape"
      ]
    },
    {
      "cell_type": "code",
      "execution_count": null,
      "id": "ea017d91-3476-4945-b576-09195be2c46a",
      "metadata": {
        "id": "ea017d91-3476-4945-b576-09195be2c46a",
        "outputId": "a663e380-3dba-4d9c-99d8-bf1ac01f8ade"
      },
      "outputs": [
        {
          "data": {
            "text/plain": [
              "(1, 6)"
            ]
          },
          "execution_count": 24,
          "metadata": {},
          "output_type": "execute_result"
        }
      ],
      "source": [
        "c = np.expand_dims(a, axis=0)\n",
        "c.shape"
      ]
    },
    {
      "cell_type": "code",
      "execution_count": null,
      "id": "a17a43d8-a212-43df-9753-c014a331737a",
      "metadata": {
        "id": "a17a43d8-a212-43df-9753-c014a331737a",
        "outputId": "f42e7360-d92f-45a9-c341-880f65738ab3"
      },
      "outputs": [
        {
          "data": {
            "text/plain": [
              "2"
            ]
          },
          "execution_count": 25,
          "metadata": {},
          "output_type": "execute_result"
        }
      ],
      "source": [
        "data = np.array([1, 2, 3])\n",
        "\n",
        "data[1]"
      ]
    },
    {
      "cell_type": "code",
      "execution_count": null,
      "id": "03234f8c-9881-4cdb-b88d-ad34f9f45a19",
      "metadata": {
        "id": "03234f8c-9881-4cdb-b88d-ad34f9f45a19",
        "outputId": "1359b960-e43f-4a41-a0e8-32833d1ed805"
      },
      "outputs": [
        {
          "data": {
            "text/plain": [
              "array([1, 2])"
            ]
          },
          "execution_count": 28,
          "metadata": {},
          "output_type": "execute_result"
        }
      ],
      "source": [
        "data[0:2]"
      ]
    },
    {
      "cell_type": "code",
      "execution_count": null,
      "id": "0c20beaf-9ad7-48a8-81d0-236051279c41",
      "metadata": {
        "id": "0c20beaf-9ad7-48a8-81d0-236051279c41",
        "outputId": "8a4daa0a-729c-4cac-94ba-b0c13ca93f67"
      },
      "outputs": [
        {
          "data": {
            "text/plain": [
              "array([2, 3])"
            ]
          },
          "execution_count": 29,
          "metadata": {},
          "output_type": "execute_result"
        }
      ],
      "source": [
        "data[1:]"
      ]
    },
    {
      "cell_type": "code",
      "execution_count": null,
      "id": "9e42eb6f-2737-4376-b2de-d364f324e74d",
      "metadata": {
        "id": "9e42eb6f-2737-4376-b2de-d364f324e74d",
        "outputId": "355272b8-5388-4398-d3a9-139c48dc7bd9"
      },
      "outputs": [
        {
          "data": {
            "text/plain": [
              "array([2, 3])"
            ]
          },
          "execution_count": 30,
          "metadata": {},
          "output_type": "execute_result"
        }
      ],
      "source": [
        "data[-2:]"
      ]
    },
    {
      "cell_type": "code",
      "execution_count": null,
      "id": "41884992-6328-4787-b823-a4fdae8d5706",
      "metadata": {
        "id": "41884992-6328-4787-b823-a4fdae8d5706",
        "outputId": "729d23af-64c6-4e3d-9093-2aa4a12dd89e"
      },
      "outputs": [
        {
          "name": "stdout",
          "output_type": "stream",
          "text": [
            "[1 2 3 4]\n"
          ]
        }
      ],
      "source": [
        "a = np.array([[1 , 2, 3, 4], [5, 6, 7, 8], [9, 10, 11, 12]])\n",
        "print(a[a < 5])"
      ]
    },
    {
      "cell_type": "code",
      "execution_count": null,
      "id": "65f21989-0408-4722-a7bf-02900f95356d",
      "metadata": {
        "id": "65f21989-0408-4722-a7bf-02900f95356d",
        "outputId": "2eb02c76-b09f-4670-c751-f67824dd34f5"
      },
      "outputs": [
        {
          "name": "stdout",
          "output_type": "stream",
          "text": [
            "[ 5  6  7  8  9 10 11 12]\n"
          ]
        }
      ],
      "source": [
        "five_up = (a >= 5)\n",
        "print(a[five_up])"
      ]
    },
    {
      "cell_type": "code",
      "execution_count": null,
      "id": "3852af8d-0b92-4fcd-8dd0-924aeb157f5b",
      "metadata": {
        "id": "3852af8d-0b92-4fcd-8dd0-924aeb157f5b",
        "outputId": "91aa3c98-9561-4d41-f5d8-c05d0219363e"
      },
      "outputs": [
        {
          "name": "stdout",
          "output_type": "stream",
          "text": [
            "[ 2  4  6  8 10 12]\n"
          ]
        }
      ],
      "source": [
        "divisible_by_2 = a[a%2==0]\n",
        "print(divisible_by_2)"
      ]
    },
    {
      "cell_type": "code",
      "execution_count": null,
      "id": "22f2dc4e-8bbb-4f8d-9db1-35fc34e69707",
      "metadata": {
        "id": "22f2dc4e-8bbb-4f8d-9db1-35fc34e69707",
        "outputId": "94ffc59d-0388-4560-d106-3ad8fc867808"
      },
      "outputs": [
        {
          "name": "stdout",
          "output_type": "stream",
          "text": [
            "[ 3  4  5  6  7  8  9 10]\n"
          ]
        }
      ],
      "source": [
        "c = a[(a > 2) & (a < 11)]\n",
        "print(c)\n"
      ]
    },
    {
      "cell_type": "code",
      "execution_count": null,
      "id": "e365cea0-98db-44fe-85b2-cdd757227b05",
      "metadata": {
        "id": "e365cea0-98db-44fe-85b2-cdd757227b05",
        "outputId": "79a38ad3-8cd7-4473-8668-44858ccd4bfc"
      },
      "outputs": [
        {
          "name": "stdout",
          "output_type": "stream",
          "text": [
            "[[False False False False]\n",
            " [ True  True  True  True]\n",
            " [ True  True  True  True]]\n"
          ]
        }
      ],
      "source": [
        "five_up = (a > 5) | (a == 5)\n",
        "print(five_up)"
      ]
    },
    {
      "cell_type": "code",
      "execution_count": null,
      "id": "73c3231a-69ec-47cb-aa43-3b819eedcd12",
      "metadata": {
        "id": "73c3231a-69ec-47cb-aa43-3b819eedcd12"
      },
      "outputs": [],
      "source": [
        "a = np.array([[1, 2, 3, 4], [5, 6, 7, 8], [9, 10, 11, 12]])"
      ]
    },
    {
      "cell_type": "code",
      "execution_count": null,
      "id": "781a0380-92ea-4092-9d39-db4573f0ff34",
      "metadata": {
        "id": "781a0380-92ea-4092-9d39-db4573f0ff34",
        "outputId": "432fc34a-63b1-4a05-ebb6-ea1fa7b94780"
      },
      "outputs": [
        {
          "name": "stdout",
          "output_type": "stream",
          "text": [
            "(array([0, 0, 0, 0], dtype=int64), array([0, 1, 2, 3], dtype=int64))\n"
          ]
        }
      ],
      "source": [
        "b = np.nonzero(a < 5)\n",
        "print(b)"
      ]
    },
    {
      "cell_type": "code",
      "execution_count": null,
      "id": "5421706a-3b84-4bc2-bedd-af1c7270e7ea",
      "metadata": {
        "id": "5421706a-3b84-4bc2-bedd-af1c7270e7ea",
        "outputId": "364c50b6-9a77-47cf-dd8d-8bc8a813dc97"
      },
      "outputs": [
        {
          "name": "stdout",
          "output_type": "stream",
          "text": [
            "(0, 0)\n",
            "(0, 1)\n",
            "(0, 2)\n",
            "(0, 3)\n"
          ]
        }
      ],
      "source": [
        "list_of_coordinates= list(zip(b[0], b[1]))\n",
        "\n",
        "for coord in list_of_coordinates:\n",
        "    print(coord)"
      ]
    },
    {
      "cell_type": "code",
      "execution_count": null,
      "id": "f2de61d9-92c1-4bb0-852b-d357bf57bf5f",
      "metadata": {
        "id": "f2de61d9-92c1-4bb0-852b-d357bf57bf5f",
        "outputId": "2dd74dce-fdf5-4954-ab0b-549678d9c243"
      },
      "outputs": [
        {
          "name": "stdout",
          "output_type": "stream",
          "text": [
            "[1 2 3 4]\n"
          ]
        }
      ],
      "source": [
        "print(a[b])"
      ]
    },
    {
      "cell_type": "code",
      "execution_count": null,
      "id": "d436d98d-5d87-4075-9222-f3c8644b98d8",
      "metadata": {
        "id": "d436d98d-5d87-4075-9222-f3c8644b98d8",
        "outputId": "f5dd8a5b-e5a9-4bd5-be81-3d6b57f24783"
      },
      "outputs": [
        {
          "name": "stdout",
          "output_type": "stream",
          "text": [
            "(array([], dtype=int64), array([], dtype=int64))\n"
          ]
        }
      ],
      "source": [
        "not_there = np.nonzero(a == 42)\n",
        "print(not_there)"
      ]
    },
    {
      "cell_type": "code",
      "execution_count": null,
      "id": "b130887e-cfbc-480b-8250-84bf7976f793",
      "metadata": {
        "id": "b130887e-cfbc-480b-8250-84bf7976f793"
      },
      "outputs": [],
      "source": [
        "a = np.array([1,  2,  3,  4,  5,  6,  7,  8,  9, 10])"
      ]
    },
    {
      "cell_type": "code",
      "execution_count": null,
      "id": "586fb3d2-e21c-4409-8596-04d87e93371c",
      "metadata": {
        "id": "586fb3d2-e21c-4409-8596-04d87e93371c",
        "outputId": "ecf5a07e-1ced-4789-a886-0579acfdb11c"
      },
      "outputs": [
        {
          "data": {
            "text/plain": [
              "array([4, 5, 6, 7, 8])"
            ]
          },
          "execution_count": 43,
          "metadata": {},
          "output_type": "execute_result"
        }
      ],
      "source": [
        "arr1 = a[3:8]\n",
        "arr1"
      ]
    },
    {
      "cell_type": "code",
      "execution_count": null,
      "id": "18e57a4d-a91d-4007-a194-551b91b7a709",
      "metadata": {
        "id": "18e57a4d-a91d-4007-a194-551b91b7a709"
      },
      "outputs": [],
      "source": [
        "a1 = np.array([[1, 1], [2, 2]])"
      ]
    },
    {
      "cell_type": "code",
      "execution_count": null,
      "id": "1fc5d3f1-62de-4d34-a4ec-9463d76ec494",
      "metadata": {
        "id": "1fc5d3f1-62de-4d34-a4ec-9463d76ec494"
      },
      "outputs": [],
      "source": [
        "a2 = np.array([[3, 3], [4, 4]])"
      ]
    },
    {
      "cell_type": "code",
      "execution_count": null,
      "id": "d193df44-c2d9-43b0-91d3-610e74fb60e3",
      "metadata": {
        "id": "d193df44-c2d9-43b0-91d3-610e74fb60e3",
        "outputId": "68e0aeda-3065-4136-c1d6-f48565c90675"
      },
      "outputs": [
        {
          "data": {
            "text/plain": [
              "array([[1, 1],\n",
              "       [2, 2],\n",
              "       [3, 3],\n",
              "       [4, 4]])"
            ]
          },
          "execution_count": 47,
          "metadata": {},
          "output_type": "execute_result"
        }
      ],
      "source": [
        "np.vstack((a1, a2))"
      ]
    },
    {
      "cell_type": "code",
      "execution_count": null,
      "id": "b73c1410-f91c-4c7f-9d61-631f3674790b",
      "metadata": {
        "id": "b73c1410-f91c-4c7f-9d61-631f3674790b",
        "outputId": "2a3fe201-ac87-4e23-fbcd-e0c96ad5b03b"
      },
      "outputs": [
        {
          "data": {
            "text/plain": [
              "array([[1, 1, 3, 3],\n",
              "       [2, 2, 4, 4]])"
            ]
          },
          "execution_count": 48,
          "metadata": {},
          "output_type": "execute_result"
        }
      ],
      "source": [
        "np.hstack((a1, a2))"
      ]
    },
    {
      "cell_type": "code",
      "execution_count": null,
      "id": "194e2aa4-0662-438a-a631-d7cdf0c7df53",
      "metadata": {
        "id": "194e2aa4-0662-438a-a631-d7cdf0c7df53",
        "outputId": "d285fcb9-06e3-4055-9b8f-5a1ce5943132"
      },
      "outputs": [
        {
          "data": {
            "text/plain": [
              "array([[ 1,  2,  3,  4,  5,  6,  7,  8,  9, 10, 11, 12],\n",
              "       [13, 14, 15, 16, 17, 18, 19, 20, 21, 22, 23, 24]])"
            ]
          },
          "execution_count": 49,
          "metadata": {},
          "output_type": "execute_result"
        }
      ],
      "source": [
        "x = np.arange(1, 25).reshape(2, 12)\n",
        "x"
      ]
    },
    {
      "cell_type": "code",
      "execution_count": null,
      "id": "0d2bec67-8d65-4bd8-a9c6-7431033f30db",
      "metadata": {
        "id": "0d2bec67-8d65-4bd8-a9c6-7431033f30db",
        "outputId": "303c46fb-e51f-4923-c810-a449e2708e5b"
      },
      "outputs": [
        {
          "data": {
            "text/plain": [
              "[array([[ 1,  2,  3],\n",
              "        [13, 14, 15]]),\n",
              " array([[ 4],\n",
              "        [16]]),\n",
              " array([[ 5,  6,  7,  8,  9, 10, 11, 12],\n",
              "        [17, 18, 19, 20, 21, 22, 23, 24]])]"
            ]
          },
          "execution_count": 50,
          "metadata": {},
          "output_type": "execute_result"
        }
      ],
      "source": [
        "np.hsplit(x, (3, 4))"
      ]
    },
    {
      "cell_type": "code",
      "execution_count": null,
      "id": "07de5c66-214c-4b1e-b260-686e5c1b6662",
      "metadata": {
        "id": "07de5c66-214c-4b1e-b260-686e5c1b6662"
      },
      "outputs": [],
      "source": [
        "a = np.array([[1, 2, 3, 4], [5, 6, 7, 8], [9, 10, 11, 12]])"
      ]
    },
    {
      "cell_type": "code",
      "execution_count": null,
      "id": "6f40d08b-562f-4ebf-9a57-5c625a029860",
      "metadata": {
        "id": "6f40d08b-562f-4ebf-9a57-5c625a029860",
        "outputId": "0501f91e-6bd0-4151-c3b9-2d8e888cedd9"
      },
      "outputs": [
        {
          "data": {
            "text/plain": [
              "array([1, 2, 3, 4])"
            ]
          },
          "execution_count": 52,
          "metadata": {},
          "output_type": "execute_result"
        }
      ],
      "source": [
        "b1 = a[0, :]\n",
        "b1"
      ]
    },
    {
      "cell_type": "code",
      "execution_count": null,
      "id": "18dceaef-45d3-4fda-ba93-d2ae4f5fcf62",
      "metadata": {
        "id": "18dceaef-45d3-4fda-ba93-d2ae4f5fcf62",
        "outputId": "4f53c5d7-2b6c-46c9-9b02-e514b917f8dc"
      },
      "outputs": [
        {
          "data": {
            "text/plain": [
              "array([99,  2,  3,  4])"
            ]
          },
          "execution_count": 53,
          "metadata": {},
          "output_type": "execute_result"
        }
      ],
      "source": [
        "b1[0] = 99\n",
        "b1"
      ]
    },
    {
      "cell_type": "code",
      "execution_count": null,
      "id": "09bd8eee-cb06-4770-b7f8-7fa1949e425e",
      "metadata": {
        "id": "09bd8eee-cb06-4770-b7f8-7fa1949e425e",
        "outputId": "806252ec-7b9d-4f06-af53-83fc7489be2b"
      },
      "outputs": [
        {
          "data": {
            "text/plain": [
              "array([[99,  2,  3,  4],\n",
              "       [ 5,  6,  7,  8],\n",
              "       [ 9, 10, 11, 12]])"
            ]
          },
          "execution_count": 54,
          "metadata": {},
          "output_type": "execute_result"
        }
      ],
      "source": [
        "a"
      ]
    },
    {
      "cell_type": "code",
      "execution_count": null,
      "id": "a0cbe77a-4244-4e56-bfa1-6bd3445e56d1",
      "metadata": {
        "id": "a0cbe77a-4244-4e56-bfa1-6bd3445e56d1",
        "outputId": "6a5e29d1-fcd6-423e-edb1-f17aeb562e10"
      },
      "outputs": [
        {
          "data": {
            "text/plain": [
              "array([2, 3])"
            ]
          },
          "execution_count": 55,
          "metadata": {},
          "output_type": "execute_result"
        }
      ],
      "source": [
        "data = np.array([1, 2])\n",
        "ones = np.ones(2, dtype=int)\n",
        "data + ones"
      ]
    },
    {
      "cell_type": "code",
      "execution_count": null,
      "id": "9d267cf5-9174-46d0-9d9e-fc56b18a0f20",
      "metadata": {
        "id": "9d267cf5-9174-46d0-9d9e-fc56b18a0f20",
        "outputId": "2492eaf3-25cf-4a20-d03b-55a546641964"
      },
      "outputs": [
        {
          "data": {
            "text/plain": [
              "array([0, 1])"
            ]
          },
          "execution_count": 56,
          "metadata": {},
          "output_type": "execute_result"
        }
      ],
      "source": [
        "data - ones"
      ]
    },
    {
      "cell_type": "code",
      "execution_count": null,
      "id": "945da8aa-bfd7-4c64-833b-3ea4bdef0f84",
      "metadata": {
        "id": "945da8aa-bfd7-4c64-833b-3ea4bdef0f84",
        "outputId": "24cafe31-886a-4082-a06c-a709f356b521"
      },
      "outputs": [
        {
          "data": {
            "text/plain": [
              "array([1, 4])"
            ]
          },
          "execution_count": 57,
          "metadata": {},
          "output_type": "execute_result"
        }
      ],
      "source": [
        "data * data"
      ]
    },
    {
      "cell_type": "code",
      "execution_count": null,
      "id": "f66aa0fa-c841-4405-a3e6-f7ddf0b33a86",
      "metadata": {
        "id": "f66aa0fa-c841-4405-a3e6-f7ddf0b33a86",
        "outputId": "ad1849b4-ed77-4cd8-fda0-7b423f2d631d"
      },
      "outputs": [
        {
          "data": {
            "text/plain": [
              "array([1., 1.])"
            ]
          },
          "execution_count": 58,
          "metadata": {},
          "output_type": "execute_result"
        }
      ],
      "source": [
        "data / data"
      ]
    },
    {
      "cell_type": "code",
      "execution_count": null,
      "id": "acfd427a-a451-45ea-bdb1-a6373953ea27",
      "metadata": {
        "id": "acfd427a-a451-45ea-bdb1-a6373953ea27",
        "outputId": "c6ca430f-9d4c-418c-815e-f1cc14ba4839"
      },
      "outputs": [
        {
          "data": {
            "text/plain": [
              "10"
            ]
          },
          "execution_count": 59,
          "metadata": {},
          "output_type": "execute_result"
        }
      ],
      "source": [
        "a = np.array([1, 2, 3, 4])\n",
        "a.sum()"
      ]
    },
    {
      "cell_type": "code",
      "execution_count": null,
      "id": "0eb4210c-4811-4226-ad7a-8a3330269967",
      "metadata": {
        "id": "0eb4210c-4811-4226-ad7a-8a3330269967",
        "outputId": "161f4d3c-46a8-4bc9-8c3c-bc818c8a681a"
      },
      "outputs": [
        {
          "data": {
            "text/plain": [
              "array([3, 3])"
            ]
          },
          "execution_count": 60,
          "metadata": {},
          "output_type": "execute_result"
        }
      ],
      "source": [
        "b = np.array([[1, 1], [2, 2]])\n",
        "b.sum(axis=0)"
      ]
    },
    {
      "cell_type": "code",
      "execution_count": null,
      "id": "adc94ef2-bdf7-444f-8242-2086b61b2f2f",
      "metadata": {
        "id": "adc94ef2-bdf7-444f-8242-2086b61b2f2f",
        "outputId": "a0fad77b-87d3-42ec-d4f2-d2ce57fb26e3"
      },
      "outputs": [
        {
          "data": {
            "text/plain": [
              "array([2, 4])"
            ]
          },
          "execution_count": 61,
          "metadata": {},
          "output_type": "execute_result"
        }
      ],
      "source": [
        "b.sum(axis=1)"
      ]
    },
    {
      "cell_type": "code",
      "execution_count": null,
      "id": "849bb485-6029-45d7-85e3-2403003512d6",
      "metadata": {
        "id": "849bb485-6029-45d7-85e3-2403003512d6",
        "outputId": "4d8d4143-4cac-47b1-f3d8-d4105f65ef2b"
      },
      "outputs": [
        {
          "data": {
            "text/plain": [
              "array([1.6, 3.2])"
            ]
          },
          "execution_count": 62,
          "metadata": {},
          "output_type": "execute_result"
        }
      ],
      "source": [
        "data = np.array([1.0, 2.0])\n",
        "data * 1.6"
      ]
    },
    {
      "cell_type": "code",
      "execution_count": null,
      "id": "2c9ff059-6167-4099-992b-2b2b53a02744",
      "metadata": {
        "id": "2c9ff059-6167-4099-992b-2b2b53a02744",
        "outputId": "a00d34de-7512-4979-ee03-56e6f7eccd19"
      },
      "outputs": [
        {
          "data": {
            "text/plain": [
              "2.0"
            ]
          },
          "execution_count": 63,
          "metadata": {},
          "output_type": "execute_result"
        }
      ],
      "source": [
        "data.max()"
      ]
    },
    {
      "cell_type": "code",
      "execution_count": null,
      "id": "3369a4aa-4618-4a00-b91a-16e7525e5456",
      "metadata": {
        "id": "3369a4aa-4618-4a00-b91a-16e7525e5456",
        "outputId": "70940193-605c-4a6d-f06b-1a7dd3d47bfb"
      },
      "outputs": [
        {
          "data": {
            "text/plain": [
              "1.0"
            ]
          },
          "execution_count": 64,
          "metadata": {},
          "output_type": "execute_result"
        }
      ],
      "source": [
        "data.min()"
      ]
    },
    {
      "cell_type": "code",
      "execution_count": null,
      "id": "a0c2166b-089c-42d7-a5fc-046e5c7d675c",
      "metadata": {
        "id": "a0c2166b-089c-42d7-a5fc-046e5c7d675c",
        "outputId": "97b5876f-d9be-49d3-fa61-4870a32a1428"
      },
      "outputs": [
        {
          "data": {
            "text/plain": [
              "3.0"
            ]
          },
          "execution_count": 65,
          "metadata": {},
          "output_type": "execute_result"
        }
      ],
      "source": [
        "data.sum()"
      ]
    },
    {
      "cell_type": "code",
      "execution_count": null,
      "id": "f8aeb1fb-f3f6-44b6-bfc7-64bb43eb7257",
      "metadata": {
        "id": "f8aeb1fb-f3f6-44b6-bfc7-64bb43eb7257",
        "outputId": "d1d429d6-7191-47ec-c036-cce9f4117036"
      },
      "outputs": [
        {
          "data": {
            "text/plain": [
              "4.8595784"
            ]
          },
          "execution_count": 67,
          "metadata": {},
          "output_type": "execute_result"
        }
      ],
      "source": [
        "a = np.array([[0.45053314, 0.17296777, 0.34376245, 0.5510652],\n",
        "              [0.54627315, 0.05093587, 0.40067661, 0.55645993],\n",
        "              [0.12697628, 0.82485143, 0.26590556, 0.56917101]])\n",
        "a.sum()"
      ]
    },
    {
      "cell_type": "code",
      "execution_count": null,
      "id": "83af15ed-0d6d-4714-a1a1-281082b7a946",
      "metadata": {
        "id": "83af15ed-0d6d-4714-a1a1-281082b7a946",
        "outputId": "99d64592-da9d-4447-b60f-8392957932e7"
      },
      "outputs": [
        {
          "data": {
            "text/plain": [
              "0.05093587"
            ]
          },
          "execution_count": 68,
          "metadata": {},
          "output_type": "execute_result"
        }
      ],
      "source": [
        "a.min()"
      ]
    },
    {
      "cell_type": "code",
      "execution_count": null,
      "id": "e5659d12-8ac4-4c71-8e35-3b23b723380b",
      "metadata": {
        "id": "e5659d12-8ac4-4c71-8e35-3b23b723380b",
        "outputId": "72e7b3c9-2695-4958-a033-72a8eb5b9099"
      },
      "outputs": [
        {
          "data": {
            "text/plain": [
              "array([0.12697628, 0.05093587, 0.26590556, 0.5510652 ])"
            ]
          },
          "execution_count": 69,
          "metadata": {},
          "output_type": "execute_result"
        }
      ],
      "source": [
        "a.min(axis=0)"
      ]
    },
    {
      "cell_type": "code",
      "execution_count": null,
      "id": "1a2748d6-6409-4771-bda3-410ca5cfbfa2",
      "metadata": {
        "id": "1a2748d6-6409-4771-bda3-410ca5cfbfa2",
        "outputId": "3f715746-e6db-407e-c4d8-b9be395ab7b9"
      },
      "outputs": [
        {
          "data": {
            "text/plain": [
              "array([[1, 2],\n",
              "       [3, 4],\n",
              "       [5, 6]])"
            ]
          },
          "execution_count": 70,
          "metadata": {},
          "output_type": "execute_result"
        }
      ],
      "source": [
        "data = np.array([[1, 2], [3, 4], [5, 6]])\n",
        "data"
      ]
    },
    {
      "cell_type": "code",
      "execution_count": null,
      "id": "b7a0f5f0-f40b-46d0-aae9-16e9ba76890b",
      "metadata": {
        "id": "b7a0f5f0-f40b-46d0-aae9-16e9ba76890b",
        "outputId": "62d951a7-f4f8-4858-c242-a4a9570c157d"
      },
      "outputs": [
        {
          "data": {
            "text/plain": [
              "2"
            ]
          },
          "execution_count": 71,
          "metadata": {},
          "output_type": "execute_result"
        }
      ],
      "source": [
        "data[0,1]"
      ]
    },
    {
      "cell_type": "code",
      "execution_count": null,
      "id": "c40482c5-94c6-4fdd-adc4-7e47e7b054f4",
      "metadata": {
        "id": "c40482c5-94c6-4fdd-adc4-7e47e7b054f4",
        "outputId": "23dfb3c6-2c1a-43f1-de28-aeab7f5e1aef"
      },
      "outputs": [
        {
          "data": {
            "text/plain": [
              "array([[3, 4],\n",
              "       [5, 6]])"
            ]
          },
          "execution_count": 72,
          "metadata": {},
          "output_type": "execute_result"
        }
      ],
      "source": [
        "data[1:3]"
      ]
    },
    {
      "cell_type": "code",
      "execution_count": null,
      "id": "6d9a69f7-46f1-4c86-8206-240f1114e358",
      "metadata": {
        "id": "6d9a69f7-46f1-4c86-8206-240f1114e358",
        "outputId": "a69288eb-8394-4ad7-922d-e273a392d87a"
      },
      "outputs": [
        {
          "data": {
            "text/plain": [
              "array([1, 3])"
            ]
          },
          "execution_count": 73,
          "metadata": {},
          "output_type": "execute_result"
        }
      ],
      "source": [
        "data[0:2, 0]"
      ]
    },
    {
      "cell_type": "code",
      "execution_count": null,
      "id": "b12060aa-e4df-47d2-a472-b8bcc1dd09c9",
      "metadata": {
        "id": "b12060aa-e4df-47d2-a472-b8bcc1dd09c9",
        "outputId": "488a80c7-c492-458a-ce8b-10f9ed490b51"
      },
      "outputs": [
        {
          "data": {
            "text/plain": [
              "6"
            ]
          },
          "execution_count": 74,
          "metadata": {},
          "output_type": "execute_result"
        }
      ],
      "source": [
        "data.max()"
      ]
    },
    {
      "cell_type": "code",
      "execution_count": null,
      "id": "0969f4f9-43d2-44ee-a63e-aeda4d196c25",
      "metadata": {
        "id": "0969f4f9-43d2-44ee-a63e-aeda4d196c25",
        "outputId": "de565943-222f-4dd2-ac63-84d28fd796f9"
      },
      "outputs": [
        {
          "data": {
            "text/plain": [
              "1"
            ]
          },
          "execution_count": 75,
          "metadata": {},
          "output_type": "execute_result"
        }
      ],
      "source": [
        "data.min()"
      ]
    },
    {
      "cell_type": "code",
      "execution_count": null,
      "id": "66da8e01-580c-4fb6-b343-b9352d46981c",
      "metadata": {
        "id": "66da8e01-580c-4fb6-b343-b9352d46981c",
        "outputId": "70137c32-f7ad-406a-dbc5-9f593e53872d"
      },
      "outputs": [
        {
          "data": {
            "text/plain": [
              "21"
            ]
          },
          "execution_count": 76,
          "metadata": {},
          "output_type": "execute_result"
        }
      ],
      "source": [
        "data.sum()"
      ]
    },
    {
      "cell_type": "code",
      "execution_count": null,
      "id": "8fe76140-ad97-452f-aa69-78a47b797434",
      "metadata": {
        "id": "8fe76140-ad97-452f-aa69-78a47b797434",
        "outputId": "c22150ce-4b6e-4d24-a21c-1919310a0a15"
      },
      "outputs": [
        {
          "data": {
            "text/plain": [
              "array([[1, 2],\n",
              "       [5, 3],\n",
              "       [4, 6]])"
            ]
          },
          "execution_count": 77,
          "metadata": {},
          "output_type": "execute_result"
        }
      ],
      "source": [
        "data = np.array([[1, 2], [5, 3], [4, 6]])\n",
        "data"
      ]
    },
    {
      "cell_type": "code",
      "execution_count": null,
      "id": "17ce2bf8-35f0-4d83-ae9a-8db04bcd983e",
      "metadata": {
        "id": "17ce2bf8-35f0-4d83-ae9a-8db04bcd983e",
        "outputId": "dd7e8bdd-8c4b-40cc-d3a3-010e807a2b4d"
      },
      "outputs": [
        {
          "data": {
            "text/plain": [
              "array([5, 6])"
            ]
          },
          "execution_count": 78,
          "metadata": {},
          "output_type": "execute_result"
        }
      ],
      "source": [
        "data.max(axis=0)"
      ]
    },
    {
      "cell_type": "code",
      "execution_count": null,
      "id": "becfbd49-5bc1-4790-86bb-71a67330bad6",
      "metadata": {
        "id": "becfbd49-5bc1-4790-86bb-71a67330bad6",
        "outputId": "a3a21776-bed5-4eb0-8fe2-137ef0335116"
      },
      "outputs": [
        {
          "data": {
            "text/plain": [
              "array([2, 5, 6])"
            ]
          },
          "execution_count": 79,
          "metadata": {},
          "output_type": "execute_result"
        }
      ],
      "source": [
        "data.max(axis=1)"
      ]
    },
    {
      "cell_type": "code",
      "execution_count": null,
      "id": "33ad6c74-0cc8-416b-a0e8-070096801c0e",
      "metadata": {
        "id": "33ad6c74-0cc8-416b-a0e8-070096801c0e",
        "outputId": "575e6a7b-87d8-48ce-b953-04396396c732"
      },
      "outputs": [
        {
          "data": {
            "text/plain": [
              "array([[2, 3],\n",
              "       [4, 5]])"
            ]
          },
          "execution_count": 80,
          "metadata": {},
          "output_type": "execute_result"
        }
      ],
      "source": [
        "data = np.array([[1, 2], [3, 4]])\n",
        "ones = np.array([[1, 1], [1, 1]])\n",
        "data + ones"
      ]
    },
    {
      "cell_type": "code",
      "execution_count": null,
      "id": "49001d4c-be94-4ab2-b67b-929667984b3d",
      "metadata": {
        "id": "49001d4c-be94-4ab2-b67b-929667984b3d",
        "outputId": "6e07766e-2219-4d15-dd23-b36abbb175b6"
      },
      "outputs": [
        {
          "data": {
            "text/plain": [
              "array([[2, 3],\n",
              "       [4, 5],\n",
              "       [6, 7]])"
            ]
          },
          "execution_count": 81,
          "metadata": {},
          "output_type": "execute_result"
        }
      ],
      "source": [
        "data = np.array([[1, 2], [3, 4], [5, 6]])\n",
        "ones_row = np.array([[1, 1]])\n",
        "data + ones_row"
      ]
    },
    {
      "cell_type": "code",
      "execution_count": null,
      "id": "e8c293d0-435c-4eec-a83c-ff03a842e0f4",
      "metadata": {
        "id": "e8c293d0-435c-4eec-a83c-ff03a842e0f4",
        "outputId": "9fa27d10-1490-4ede-9ae6-1046e9f66453"
      },
      "outputs": [
        {
          "data": {
            "text/plain": [
              "array([[[1., 1.],\n",
              "        [1., 1.],\n",
              "        [1., 1.]],\n",
              "\n",
              "       [[1., 1.],\n",
              "        [1., 1.],\n",
              "        [1., 1.]],\n",
              "\n",
              "       [[1., 1.],\n",
              "        [1., 1.],\n",
              "        [1., 1.]],\n",
              "\n",
              "       [[1., 1.],\n",
              "        [1., 1.],\n",
              "        [1., 1.]]])"
            ]
          },
          "execution_count": 82,
          "metadata": {},
          "output_type": "execute_result"
        }
      ],
      "source": [
        "np.ones((4, 3, 2))"
      ]
    },
    {
      "cell_type": "code",
      "execution_count": null,
      "id": "ccb30ca5-a9cb-46d8-8c64-fa4c3bd74987",
      "metadata": {
        "id": "ccb30ca5-a9cb-46d8-8c64-fa4c3bd74987",
        "outputId": "97e5f71d-abbe-4949-842a-b1949266139a"
      },
      "outputs": [
        {
          "data": {
            "text/plain": [
              "array([1., 1., 1.])"
            ]
          },
          "execution_count": 83,
          "metadata": {},
          "output_type": "execute_result"
        }
      ],
      "source": [
        "np.ones(3)"
      ]
    },
    {
      "cell_type": "code",
      "execution_count": null,
      "id": "cbbf4366-23c6-4f75-bbfb-7366f6e55ce6",
      "metadata": {
        "id": "cbbf4366-23c6-4f75-bbfb-7366f6e55ce6",
        "outputId": "400119a4-7d81-4ac2-c255-37c7b42bbd05"
      },
      "outputs": [
        {
          "data": {
            "text/plain": [
              "array([0., 0., 0.])"
            ]
          },
          "execution_count": 84,
          "metadata": {},
          "output_type": "execute_result"
        }
      ],
      "source": [
        "np.zeros(3)"
      ]
    },
    {
      "cell_type": "code",
      "execution_count": null,
      "id": "73c7c34a-ce3f-4c8e-8cb7-31fe0a55af60",
      "metadata": {
        "id": "73c7c34a-ce3f-4c8e-8cb7-31fe0a55af60",
        "outputId": "37f64159-92f7-4026-da4c-912588ede717"
      },
      "outputs": [
        {
          "data": {
            "text/plain": [
              "array([0.48515108, 0.69357927, 0.79785342])"
            ]
          },
          "execution_count": 85,
          "metadata": {},
          "output_type": "execute_result"
        }
      ],
      "source": [
        "rng = np.random.default_rng()\n",
        "rng.random(3)"
      ]
    },
    {
      "cell_type": "code",
      "execution_count": null,
      "id": "eba5b8c9-1b3b-4fb0-8489-93d14dd12543",
      "metadata": {
        "id": "eba5b8c9-1b3b-4fb0-8489-93d14dd12543",
        "outputId": "ea7daf26-e53c-43cb-982d-3e25e64c4233"
      },
      "outputs": [
        {
          "data": {
            "text/plain": [
              "array([[1., 1.],\n",
              "       [1., 1.],\n",
              "       [1., 1.]])"
            ]
          },
          "execution_count": 86,
          "metadata": {},
          "output_type": "execute_result"
        }
      ],
      "source": [
        "np.ones((3, 2))"
      ]
    },
    {
      "cell_type": "code",
      "execution_count": null,
      "id": "dc5fd86f-1027-47ed-9713-1e452cbb4640",
      "metadata": {
        "id": "dc5fd86f-1027-47ed-9713-1e452cbb4640",
        "outputId": "bf39451e-1a0d-4191-b9c0-ec5b280a48c2"
      },
      "outputs": [
        {
          "data": {
            "text/plain": [
              "array([[0., 0.],\n",
              "       [0., 0.],\n",
              "       [0., 0.]])"
            ]
          },
          "execution_count": 87,
          "metadata": {},
          "output_type": "execute_result"
        }
      ],
      "source": [
        "np.zeros((3, 2))"
      ]
    },
    {
      "cell_type": "code",
      "execution_count": null,
      "id": "d69244dd-611f-4d6d-a9ee-89b658d20a84",
      "metadata": {
        "id": "d69244dd-611f-4d6d-a9ee-89b658d20a84",
        "outputId": "c87755de-5a63-4cd7-b09f-80b388add3c4"
      },
      "outputs": [
        {
          "data": {
            "text/plain": [
              "array([[0.06053204, 0.50272961],\n",
              "       [0.90408626, 0.24346336],\n",
              "       [0.68162943, 0.62159412]])"
            ]
          },
          "execution_count": 88,
          "metadata": {},
          "output_type": "execute_result"
        }
      ],
      "source": [
        "rng.random((3, 2))"
      ]
    },
    {
      "cell_type": "code",
      "execution_count": null,
      "id": "bb50aabe-1343-44fe-95d9-a1f6a7eb1fd6",
      "metadata": {
        "id": "bb50aabe-1343-44fe-95d9-a1f6a7eb1fd6",
        "outputId": "337b94dd-e2a2-4a63-db64-77ddfa2a2a65"
      },
      "outputs": [
        {
          "data": {
            "text/plain": [
              "array([[2, 2, 0, 1],\n",
              "       [2, 2, 3, 1]], dtype=int64)"
            ]
          },
          "execution_count": 89,
          "metadata": {},
          "output_type": "execute_result"
        }
      ],
      "source": [
        "rng.integers(5, size=(2, 4))"
      ]
    },
    {
      "cell_type": "code",
      "execution_count": null,
      "id": "2bc65065-669e-48b0-8fb4-1aaf1651d0f5",
      "metadata": {
        "id": "2bc65065-669e-48b0-8fb4-1aaf1651d0f5"
      },
      "outputs": [],
      "source": [
        "a = np.array([11, 11, 12, 13, 14, 15, 16, 17, 12, 13, 11, 14, 18, 19, 20])"
      ]
    },
    {
      "cell_type": "code",
      "execution_count": null,
      "id": "1eb45f44-1adf-4526-8ca0-f468b510f05f",
      "metadata": {
        "id": "1eb45f44-1adf-4526-8ca0-f468b510f05f",
        "outputId": "1ccc0715-10bb-499c-c79f-6b99946aa763"
      },
      "outputs": [
        {
          "name": "stdout",
          "output_type": "stream",
          "text": [
            "[11 12 13 14 15 16 17 18 19 20]\n"
          ]
        }
      ],
      "source": [
        "unique_values = np.unique(a)\n",
        "print(unique_values)"
      ]
    },
    {
      "cell_type": "code",
      "execution_count": null,
      "id": "5582001a-7b70-4065-9a1d-be88efe3ec0b",
      "metadata": {
        "id": "5582001a-7b70-4065-9a1d-be88efe3ec0b",
        "outputId": "2c1b5734-78dc-4f38-f161-fb480142e785"
      },
      "outputs": [
        {
          "name": "stdout",
          "output_type": "stream",
          "text": [
            "[ 0  2  3  4  5  6  7 12 13 14]\n"
          ]
        }
      ],
      "source": [
        "unique_values, indices_list = np.unique(a, return_index=True)\n",
        "print(indices_list)"
      ]
    },
    {
      "cell_type": "code",
      "execution_count": null,
      "id": "55b9f6ff-2d7f-46fd-9a29-8b1462dae1ea",
      "metadata": {
        "id": "55b9f6ff-2d7f-46fd-9a29-8b1462dae1ea",
        "outputId": "b67928be-060a-4316-f4a5-ad89c82bffa9"
      },
      "outputs": [
        {
          "name": "stdout",
          "output_type": "stream",
          "text": [
            "[3 2 2 2 1 1 1 1 1 1]\n"
          ]
        }
      ],
      "source": [
        "unique_values, occurrence_count = np.unique(a, return_counts=True)\n",
        "print(occurrence_count)"
      ]
    },
    {
      "cell_type": "code",
      "execution_count": null,
      "id": "756b8c94-8455-490b-b0ce-9d9fd134be41",
      "metadata": {
        "id": "756b8c94-8455-490b-b0ce-9d9fd134be41"
      },
      "outputs": [],
      "source": [
        "a_2d = np.array([[1, 2, 3, 4], [5, 6, 7, 8], [9, 10, 11, 12], [1, 2, 3, 4]])"
      ]
    },
    {
      "cell_type": "code",
      "execution_count": null,
      "id": "cd86bec6-2bbd-41d5-b895-83321c01142a",
      "metadata": {
        "id": "cd86bec6-2bbd-41d5-b895-83321c01142a",
        "outputId": "f2ada1cb-b3f7-404f-c2eb-ff992cb18a80"
      },
      "outputs": [
        {
          "name": "stdout",
          "output_type": "stream",
          "text": [
            "[ 1  2  3  4  5  6  7  8  9 10 11 12]\n"
          ]
        }
      ],
      "source": [
        "unique_values = np.unique(a_2d)\n",
        "print(unique_values)"
      ]
    },
    {
      "cell_type": "code",
      "execution_count": null,
      "id": "3f86e39d-38b0-49ee-9b49-3df46162d47e",
      "metadata": {
        "id": "3f86e39d-38b0-49ee-9b49-3df46162d47e",
        "outputId": "f6f8d5f9-4b73-4540-d1b2-be141bf0b349"
      },
      "outputs": [
        {
          "name": "stdout",
          "output_type": "stream",
          "text": [
            "[[ 1  2  3  4]\n",
            " [ 5  6  7  8]\n",
            " [ 9 10 11 12]]\n"
          ]
        }
      ],
      "source": [
        "unique_rows = np.unique(a_2d, axis=0)\n",
        "print(unique_rows)"
      ]
    },
    {
      "cell_type": "code",
      "execution_count": null,
      "id": "c539324b-6140-456f-8c38-f228df467800",
      "metadata": {
        "id": "c539324b-6140-456f-8c38-f228df467800",
        "outputId": "e994b688-72ed-4b46-ca5b-e08738a4602d"
      },
      "outputs": [
        {
          "name": "stdout",
          "output_type": "stream",
          "text": [
            "[[ 1  2  3  4]\n",
            " [ 5  6  7  8]\n",
            " [ 9 10 11 12]]\n"
          ]
        }
      ],
      "source": [
        "unique_rows, indices, occurrence_count = np.unique(\n",
        "     a_2d, axis=0, return_counts=True, return_index=True)\n",
        "print(unique_rows)"
      ]
    },
    {
      "cell_type": "code",
      "execution_count": null,
      "id": "cfed3916-aa11-4053-8a7a-ad76d8be6aef",
      "metadata": {
        "id": "cfed3916-aa11-4053-8a7a-ad76d8be6aef",
        "outputId": "517780de-8037-4508-8493-9b79e10f77d9"
      },
      "outputs": [
        {
          "name": "stdout",
          "output_type": "stream",
          "text": [
            "[0 1 2]\n"
          ]
        }
      ],
      "source": [
        "print(indices)"
      ]
    },
    {
      "cell_type": "code",
      "execution_count": null,
      "id": "d53dd3b5-5a5c-4825-9352-aeb8246fe086",
      "metadata": {
        "id": "d53dd3b5-5a5c-4825-9352-aeb8246fe086",
        "outputId": "45c94c4c-f179-46a3-e504-e7b5a13924d6"
      },
      "outputs": [
        {
          "name": "stdout",
          "output_type": "stream",
          "text": [
            "[2 1 1]\n"
          ]
        }
      ],
      "source": [
        "print(occurrence_count)"
      ]
    },
    {
      "cell_type": "code",
      "execution_count": null,
      "id": "c5584e98-7c8e-4a59-bcb2-a342a7d033bb",
      "metadata": {
        "id": "c5584e98-7c8e-4a59-bcb2-a342a7d033bb",
        "outputId": "1a84051e-c5a4-4f7f-ed60-d690de77cdef"
      },
      "outputs": [
        {
          "data": {
            "text/plain": [
              "array([[1, 2, 3],\n",
              "       [4, 5, 6]])"
            ]
          },
          "execution_count": 100,
          "metadata": {},
          "output_type": "execute_result"
        }
      ],
      "source": [
        "data.reshape(2, 3)"
      ]
    },
    {
      "cell_type": "code",
      "execution_count": null,
      "id": "800017ff-3161-486e-b3c6-24b3dab73eea",
      "metadata": {
        "id": "800017ff-3161-486e-b3c6-24b3dab73eea",
        "outputId": "d3559bf3-11c6-4db4-93f7-01e0f59b5f2c"
      },
      "outputs": [
        {
          "data": {
            "text/plain": [
              "array([[1, 2],\n",
              "       [3, 4],\n",
              "       [5, 6]])"
            ]
          },
          "execution_count": 101,
          "metadata": {},
          "output_type": "execute_result"
        }
      ],
      "source": [
        "data.reshape(3, 2)"
      ]
    },
    {
      "cell_type": "code",
      "execution_count": null,
      "id": "85477cfb-0f97-4e93-80f1-2fbc6faaed24",
      "metadata": {
        "id": "85477cfb-0f97-4e93-80f1-2fbc6faaed24",
        "outputId": "bdb13173-db2b-4731-e20c-2bdcce096a9f"
      },
      "outputs": [
        {
          "data": {
            "text/plain": [
              "array([[0, 1, 2],\n",
              "       [3, 4, 5]])"
            ]
          },
          "execution_count": 102,
          "metadata": {},
          "output_type": "execute_result"
        }
      ],
      "source": [
        "arr = np.arange(6).reshape((2, 3))\n",
        "arr"
      ]
    },
    {
      "cell_type": "code",
      "execution_count": null,
      "id": "78a3b2b9-34af-475b-831f-fa6a23dbc546",
      "metadata": {
        "id": "78a3b2b9-34af-475b-831f-fa6a23dbc546",
        "outputId": "3038d35b-08d2-498d-f4bc-dca79ad0770f"
      },
      "outputs": [
        {
          "data": {
            "text/plain": [
              "array([[0, 3],\n",
              "       [1, 4],\n",
              "       [2, 5]])"
            ]
          },
          "execution_count": 103,
          "metadata": {},
          "output_type": "execute_result"
        }
      ],
      "source": [
        "arr.transpose()"
      ]
    },
    {
      "cell_type": "code",
      "execution_count": null,
      "id": "5ecb904b-2241-48ec-a737-13045c435181",
      "metadata": {
        "id": "5ecb904b-2241-48ec-a737-13045c435181",
        "outputId": "47d69eb5-4859-4564-a576-5713ded0e74e"
      },
      "outputs": [
        {
          "data": {
            "text/plain": [
              "array([[0, 3],\n",
              "       [1, 4],\n",
              "       [2, 5]])"
            ]
          },
          "execution_count": 104,
          "metadata": {},
          "output_type": "execute_result"
        }
      ],
      "source": [
        "arr.T"
      ]
    },
    {
      "cell_type": "code",
      "execution_count": null,
      "id": "e85be9b4-e6a4-4220-afbb-9c34bf45b7eb",
      "metadata": {
        "id": "e85be9b4-e6a4-4220-afbb-9c34bf45b7eb"
      },
      "outputs": [],
      "source": [
        "arr = np.array([1, 2, 3, 4, 5, 6, 7, 8])"
      ]
    },
    {
      "cell_type": "code",
      "execution_count": null,
      "id": "eaf8a1a6-4e35-44fd-ae03-c2cc6708d299",
      "metadata": {
        "id": "eaf8a1a6-4e35-44fd-ae03-c2cc6708d299"
      },
      "outputs": [],
      "source": [
        "reversed_arr = np.flip(arr)"
      ]
    },
    {
      "cell_type": "code",
      "execution_count": null,
      "id": "0e05edaf-09a9-4ddc-acd2-ff02b706f34f",
      "metadata": {
        "id": "0e05edaf-09a9-4ddc-acd2-ff02b706f34f",
        "outputId": "034c9475-5760-4452-a176-7dcfb2786cd5"
      },
      "outputs": [
        {
          "name": "stdout",
          "output_type": "stream",
          "text": [
            "Reversed Array:  [8 7 6 5 4 3 2 1]\n"
          ]
        }
      ],
      "source": [
        "print('Reversed Array: ', reversed_arr)"
      ]
    },
    {
      "cell_type": "code",
      "execution_count": null,
      "id": "fd48daf8-f2d7-4d57-8f1e-78b443b1d082",
      "metadata": {
        "id": "fd48daf8-f2d7-4d57-8f1e-78b443b1d082"
      },
      "outputs": [],
      "source": [
        "arr_2d = np.array([[1, 2, 3, 4], [5, 6, 7, 8], [9, 10, 11, 12]])"
      ]
    },
    {
      "cell_type": "code",
      "execution_count": null,
      "id": "52c91f35-72d3-466b-84f2-ee00823cf5ba",
      "metadata": {
        "id": "52c91f35-72d3-466b-84f2-ee00823cf5ba",
        "outputId": "dd5cfdf7-55bf-41fd-ba16-5ad1739bd95f"
      },
      "outputs": [
        {
          "name": "stdout",
          "output_type": "stream",
          "text": [
            "[[12 11 10  9]\n",
            " [ 8  7  6  5]\n",
            " [ 4  3  2  1]]\n"
          ]
        }
      ],
      "source": [
        "reversed_arr = np.flip(arr_2d)\n",
        "print(reversed_arr)"
      ]
    },
    {
      "cell_type": "code",
      "execution_count": null,
      "id": "c1b0b077-566d-4d31-b76b-412b25bed2b9",
      "metadata": {
        "id": "c1b0b077-566d-4d31-b76b-412b25bed2b9",
        "outputId": "26080a48-120e-46b8-e411-ca9bcf898f2a"
      },
      "outputs": [
        {
          "name": "stdout",
          "output_type": "stream",
          "text": [
            "[[ 9 10 11 12]\n",
            " [ 5  6  7  8]\n",
            " [ 1  2  3  4]]\n"
          ]
        }
      ],
      "source": [
        "reversed_arr_rows = np.flip(arr_2d, axis=0)\n",
        "print(reversed_arr_rows)"
      ]
    },
    {
      "cell_type": "code",
      "execution_count": null,
      "id": "7555b9a8-1fc8-4738-8dd5-2c4fe93b08de",
      "metadata": {
        "id": "7555b9a8-1fc8-4738-8dd5-2c4fe93b08de",
        "outputId": "959d1c0a-a34e-49c9-b2b2-85d7e63ca0a5"
      },
      "outputs": [
        {
          "name": "stdout",
          "output_type": "stream",
          "text": [
            "[[ 4  3  2  1]\n",
            " [ 8  7  6  5]\n",
            " [12 11 10  9]]\n"
          ]
        }
      ],
      "source": [
        "reversed_arr_columns = np.flip(arr_2d, axis=1)\n",
        "print(reversed_arr_columns)"
      ]
    },
    {
      "cell_type": "code",
      "execution_count": null,
      "id": "e77a027f-c3ae-46b3-b13a-43b484083ac1",
      "metadata": {
        "id": "e77a027f-c3ae-46b3-b13a-43b484083ac1",
        "outputId": "b6a6878a-566d-4717-9bf3-5c3c3750b562"
      },
      "outputs": [
        {
          "name": "stdout",
          "output_type": "stream",
          "text": [
            "[[ 1  2  3  4]\n",
            " [ 8  7  6  5]\n",
            " [ 9 10 11 12]]\n"
          ]
        }
      ],
      "source": [
        "arr_2d[1] = np.flip(arr_2d[1])\n",
        "print(arr_2d)"
      ]
    },
    {
      "cell_type": "code",
      "execution_count": null,
      "id": "fcc69bfd-7848-44de-ba48-57bf88f17d0a",
      "metadata": {
        "id": "fcc69bfd-7848-44de-ba48-57bf88f17d0a",
        "outputId": "b5df8545-458b-4dbc-ec30-27a071132158"
      },
      "outputs": [
        {
          "name": "stdout",
          "output_type": "stream",
          "text": [
            "[[ 1 10  3  4]\n",
            " [ 8  7  6  5]\n",
            " [ 9  2 11 12]]\n"
          ]
        }
      ],
      "source": [
        "arr_2d[:,1] = np.flip(arr_2d[:,1])\n",
        "print(arr_2d)"
      ]
    },
    {
      "cell_type": "code",
      "execution_count": null,
      "id": "ac91c02e-d6b8-4cfd-adc0-8b4d12650ae2",
      "metadata": {
        "id": "ac91c02e-d6b8-4cfd-adc0-8b4d12650ae2"
      },
      "outputs": [],
      "source": [
        "x = np.array([[1 , 2, 3, 4], [5, 6, 7, 8], [9, 10, 11, 12]])"
      ]
    },
    {
      "cell_type": "code",
      "execution_count": null,
      "id": "16d56d45-e850-49c9-b63c-f3d234f224d0",
      "metadata": {
        "id": "16d56d45-e850-49c9-b63c-f3d234f224d0",
        "outputId": "afd045e5-956d-4a6f-bdd5-d2cd69e35048"
      },
      "outputs": [
        {
          "data": {
            "text/plain": [
              "array([ 1,  2,  3,  4,  5,  6,  7,  8,  9, 10, 11, 12])"
            ]
          },
          "execution_count": 115,
          "metadata": {},
          "output_type": "execute_result"
        }
      ],
      "source": [
        "x.flatten()"
      ]
    },
    {
      "cell_type": "code",
      "execution_count": null,
      "id": "f1a38a6b-f448-41cc-a141-e3bf636bb4aa",
      "metadata": {
        "id": "f1a38a6b-f448-41cc-a141-e3bf636bb4aa",
        "outputId": "ab9072e4-9268-4a2b-ec2c-b673a0385da1"
      },
      "outputs": [
        {
          "name": "stdout",
          "output_type": "stream",
          "text": [
            "[[ 1  2  3  4]\n",
            " [ 5  6  7  8]\n",
            " [ 9 10 11 12]]\n"
          ]
        }
      ],
      "source": [
        "a1 = x.flatten()\n",
        "a1[0] = 99\n",
        "print(x)"
      ]
    },
    {
      "cell_type": "code",
      "execution_count": null,
      "id": "5a1958a2-8477-40a8-a578-2615ecfa958e",
      "metadata": {
        "id": "5a1958a2-8477-40a8-a578-2615ecfa958e",
        "outputId": "2f1eff1e-ad88-450f-9815-60d8a1bed17a"
      },
      "outputs": [
        {
          "name": "stdout",
          "output_type": "stream",
          "text": [
            "[99  2  3  4  5  6  7  8  9 10 11 12]\n"
          ]
        }
      ],
      "source": [
        "print(a1)"
      ]
    },
    {
      "cell_type": "code",
      "execution_count": null,
      "id": "18b15446-1d64-4c0f-997d-a55e1cdad741",
      "metadata": {
        "id": "18b15446-1d64-4c0f-997d-a55e1cdad741",
        "outputId": "d98be876-4b61-41a2-cb97-497307c510a7"
      },
      "outputs": [
        {
          "name": "stdout",
          "output_type": "stream",
          "text": [
            "[[98  2  3  4]\n",
            " [ 5  6  7  8]\n",
            " [ 9 10 11 12]]\n"
          ]
        }
      ],
      "source": [
        "a2 = x.ravel()\n",
        "a2[0] = 98\n",
        "print(x)"
      ]
    },
    {
      "cell_type": "code",
      "execution_count": null,
      "id": "757fcc82-7c03-4230-bde3-f4f4fa7cf513",
      "metadata": {
        "id": "757fcc82-7c03-4230-bde3-f4f4fa7cf513",
        "outputId": "51b7ad52-92f0-4673-c093-2bbbdd661c55"
      },
      "outputs": [
        {
          "name": "stdout",
          "output_type": "stream",
          "text": [
            "[98  2  3  4  5  6  7  8  9 10 11 12]\n"
          ]
        }
      ],
      "source": [
        "print(a2)"
      ]
    },
    {
      "cell_type": "code",
      "execution_count": null,
      "id": "d285f32d-a546-47be-87d6-eebffb13cb9b",
      "metadata": {
        "id": "d285f32d-a546-47be-87d6-eebffb13cb9b",
        "outputId": "4e0b1cf6-5fd6-447d-9a51-8a8ae68ae0cf"
      },
      "outputs": [
        {
          "name": "stdout",
          "output_type": "stream",
          "text": [
            "Help on built-in function max in module builtins:\n",
            "\n",
            "max(...)\n",
            "    max(iterable, *[, default=obj, key=func]) -> value\n",
            "    max(arg1, arg2, *args, *[, key=func]) -> value\n",
            "    \n",
            "    With a single iterable argument, return its biggest item. The\n",
            "    default keyword-only argument specifies an object to return if\n",
            "    the provided iterable is empty.\n",
            "    With two or more arguments, return the largest argument.\n",
            "\n"
          ]
        }
      ],
      "source": [
        "help(max)"
      ]
    },
    {
      "cell_type": "code",
      "execution_count": null,
      "id": "50984c3f-49d5-49ab-b501-b52a2bb68e8a",
      "metadata": {
        "id": "50984c3f-49d5-49ab-b501-b52a2bb68e8a",
        "outputId": "a1354034-d46d-45ae-9a8e-312bee85a74d"
      },
      "outputs": [
        {
          "data": {
            "text/plain": [
              "\u001b[1;31mDocstring:\u001b[0m\n",
              "max(iterable, *[, default=obj, key=func]) -> value\n",
              "max(arg1, arg2, *args, *[, key=func]) -> value\n",
              "\n",
              "With a single iterable argument, return its biggest item. The\n",
              "default keyword-only argument specifies an object to return if\n",
              "the provided iterable is empty.\n",
              "With two or more arguments, return the largest argument.\n",
              "\u001b[1;31mType:\u001b[0m      builtin_function_or_method"
            ]
          },
          "metadata": {},
          "output_type": "display_data"
        }
      ],
      "source": [
        "max?"
      ]
    },
    {
      "cell_type": "code",
      "execution_count": null,
      "id": "9fab47c1-c3d6-4548-96c3-8aa1f432d295",
      "metadata": {
        "id": "9fab47c1-c3d6-4548-96c3-8aa1f432d295",
        "outputId": "ac000136-b879-4684-b8d7-33ab10355f48"
      },
      "outputs": [
        {
          "data": {
            "text/plain": [
              "\u001b[1;31mType:\u001b[0m        ndarray\n",
              "\u001b[1;31mString form:\u001b[0m [1 2 3 4 5 6]\n",
              "\u001b[1;31mLength:\u001b[0m      6\n",
              "\u001b[1;31mFile:\u001b[0m        c:\\users\\user\\appdata\\local\\programs\\python\\python311\\lib\\site-packages\\numpy\\__init__.py\n",
              "\u001b[1;31mDocstring:\u001b[0m  \n",
              "ndarray(shape, dtype=float, buffer=None, offset=0,\n",
              "        strides=None, order=None)\n",
              "\n",
              "An array object represents a multidimensional, homogeneous array\n",
              "of fixed-size items.  An associated data-type object describes the\n",
              "format of each element in the array (its byte-order, how many bytes it\n",
              "occupies in memory, whether it is an integer, a floating point number,\n",
              "or something else, etc.)\n",
              "\n",
              "Arrays should be constructed using `array`, `zeros` or `empty` (refer\n",
              "to the See Also section below).  The parameters given here refer to\n",
              "a low-level method (`ndarray(...)`) for instantiating an array.\n",
              "\n",
              "For more information, refer to the `numpy` module and examine the\n",
              "methods and attributes of an array.\n",
              "\n",
              "Parameters\n",
              "----------\n",
              "(for the __new__ method; see Notes below)\n",
              "\n",
              "shape : tuple of ints\n",
              "    Shape of created array.\n",
              "dtype : data-type, optional\n",
              "    Any object that can be interpreted as a numpy data type.\n",
              "buffer : object exposing buffer interface, optional\n",
              "    Used to fill the array with data.\n",
              "offset : int, optional\n",
              "    Offset of array data in buffer.\n",
              "strides : tuple of ints, optional\n",
              "    Strides of data in memory.\n",
              "order : {'C', 'F'}, optional\n",
              "    Row-major (C-style) or column-major (Fortran-style) order.\n",
              "\n",
              "Attributes\n",
              "----------\n",
              "T : ndarray\n",
              "    Transpose of the array.\n",
              "data : buffer\n",
              "    The array's elements, in memory.\n",
              "dtype : dtype object\n",
              "    Describes the format of the elements in the array.\n",
              "flags : dict\n",
              "    Dictionary containing information related to memory use, e.g.,\n",
              "    'C_CONTIGUOUS', 'OWNDATA', 'WRITEABLE', etc.\n",
              "flat : numpy.flatiter object\n",
              "    Flattened version of the array as an iterator.  The iterator\n",
              "    allows assignments, e.g., ``x.flat = 3`` (See `ndarray.flat` for\n",
              "    assignment examples; TODO).\n",
              "imag : ndarray\n",
              "    Imaginary part of the array.\n",
              "real : ndarray\n",
              "    Real part of the array.\n",
              "size : int\n",
              "    Number of elements in the array.\n",
              "itemsize : int\n",
              "    The memory use of each array element in bytes.\n",
              "nbytes : int\n",
              "    The total number of bytes required to store the array data,\n",
              "    i.e., ``itemsize * size``.\n",
              "ndim : int\n",
              "    The array's number of dimensions.\n",
              "shape : tuple of ints\n",
              "    Shape of the array.\n",
              "strides : tuple of ints\n",
              "    The step-size required to move from one element to the next in\n",
              "    memory. For example, a contiguous ``(3, 4)`` array of type\n",
              "    ``int16`` in C-order has strides ``(8, 2)``.  This implies that\n",
              "    to move from element to element in memory requires jumps of 2 bytes.\n",
              "    To move from row-to-row, one needs to jump 8 bytes at a time\n",
              "    (``2 * 4``).\n",
              "ctypes : ctypes object\n",
              "    Class containing properties of the array needed for interaction\n",
              "    with ctypes.\n",
              "base : ndarray\n",
              "    If the array is a view into another array, that array is its `base`\n",
              "    (unless that array is also a view).  The `base` array is where the\n",
              "    array data is actually stored.\n",
              "\n",
              "See Also\n",
              "--------\n",
              "array : Construct an array.\n",
              "zeros : Create an array, each element of which is zero.\n",
              "empty : Create an array, but leave its allocated memory unchanged (i.e.,\n",
              "        it contains \"garbage\").\n",
              "dtype : Create a data-type.\n",
              "numpy.typing.NDArray : An ndarray alias :term:`generic <generic type>`\n",
              "                       w.r.t. its `dtype.type <numpy.dtype.type>`.\n",
              "\n",
              "Notes\n",
              "-----\n",
              "There are two modes of creating an array using ``__new__``:\n",
              "\n",
              "1. If `buffer` is None, then only `shape`, `dtype`, and `order`\n",
              "   are used.\n",
              "2. If `buffer` is an object exposing the buffer interface, then\n",
              "   all keywords are interpreted.\n",
              "\n",
              "No ``__init__`` method is needed because the array is fully initialized\n",
              "after the ``__new__`` method.\n",
              "\n",
              "Examples\n",
              "--------\n",
              "These examples illustrate the low-level `ndarray` constructor.  Refer\n",
              "to the `See Also` section above for easier ways of constructing an\n",
              "ndarray.\n",
              "\n",
              "First mode, `buffer` is None:\n",
              "\n",
              ">>> np.ndarray(shape=(2,2), dtype=float, order='F')\n",
              "array([[0.0e+000, 0.0e+000], # random\n",
              "       [     nan, 2.5e-323]])\n",
              "\n",
              "Second mode:\n",
              "\n",
              ">>> np.ndarray((2,), buffer=np.array([1,2,3]),\n",
              "...            offset=np.int_().itemsize,\n",
              "...            dtype=int) # offset = 1*itemsize, i.e. skip first element\n",
              "array([2, 3])"
            ]
          },
          "metadata": {},
          "output_type": "display_data"
        }
      ],
      "source": [
        "a = np.array([1, 2, 3, 4, 5, 6])\n",
        "a?"
      ]
    },
    {
      "cell_type": "code",
      "execution_count": null,
      "id": "f9e732c4-4ca2-4664-aef0-3265d50c7058",
      "metadata": {
        "id": "f9e732c4-4ca2-4664-aef0-3265d50c7058"
      },
      "outputs": [],
      "source": [
        "def double(a):\n",
        "    return a * 2"
      ]
    },
    {
      "cell_type": "code",
      "execution_count": null,
      "id": "017ff5e4-ef0f-403a-b99e-35bb4d28a3f1",
      "metadata": {
        "id": "017ff5e4-ef0f-403a-b99e-35bb4d28a3f1",
        "outputId": "d067d85d-4f46-43f9-8b61-6fd042cab1b2"
      },
      "outputs": [
        {
          "data": {
            "text/plain": [
              "\u001b[1;31mSignature:\u001b[0m \u001b[0mdouble\u001b[0m\u001b[1;33m(\u001b[0m\u001b[0ma\u001b[0m\u001b[1;33m)\u001b[0m\u001b[1;33m\u001b[0m\u001b[1;33m\u001b[0m\u001b[0m\n",
              "\u001b[1;31mDocstring:\u001b[0m <no docstring>\n",
              "\u001b[1;31mFile:\u001b[0m      c:\\users\\user\\appdata\\local\\temp\\ipykernel_28540\\1818460884.py\n",
              "\u001b[1;31mType:\u001b[0m      function"
            ]
          },
          "metadata": {},
          "output_type": "display_data"
        }
      ],
      "source": [
        "double?"
      ]
    },
    {
      "cell_type": "code",
      "execution_count": null,
      "id": "4dddc81d-a733-40d3-bde0-4c5b593d4473",
      "metadata": {
        "id": "4dddc81d-a733-40d3-bde0-4c5b593d4473",
        "outputId": "c746e19e-f16b-4eca-fa17-9ac28a5fd970"
      },
      "outputs": [
        {
          "data": {
            "text/plain": [
              "\u001b[1;31mSignature:\u001b[0m \u001b[0mdouble\u001b[0m\u001b[1;33m(\u001b[0m\u001b[0ma\u001b[0m\u001b[1;33m)\u001b[0m\u001b[1;33m\u001b[0m\u001b[1;33m\u001b[0m\u001b[0m\n",
              "\u001b[1;31mDocstring:\u001b[0m <no docstring>\n",
              "\u001b[1;31mSource:\u001b[0m   \n",
              "\u001b[1;32mdef\u001b[0m \u001b[0mdouble\u001b[0m\u001b[1;33m(\u001b[0m\u001b[0ma\u001b[0m\u001b[1;33m)\u001b[0m\u001b[1;33m:\u001b[0m\u001b[1;33m\n",
              "\u001b[0m    \u001b[1;32mreturn\u001b[0m \u001b[0ma\u001b[0m \u001b[1;33m*\u001b[0m \u001b[1;36m2\u001b[0m\u001b[1;33m\u001b[0m\u001b[1;33m\u001b[0m\u001b[0m\n",
              "\u001b[1;31mFile:\u001b[0m      c:\\users\\user\\appdata\\local\\temp\\ipykernel_28540\\1818460884.py\n",
              "\u001b[1;31mType:\u001b[0m      function"
            ]
          },
          "metadata": {},
          "output_type": "display_data"
        }
      ],
      "source": [
        "double??"
      ]
    },
    {
      "cell_type": "code",
      "execution_count": null,
      "id": "ed5c3c3c-6aac-44b3-8366-5fb23b022650",
      "metadata": {
        "id": "ed5c3c3c-6aac-44b3-8366-5fb23b022650",
        "outputId": "00d7994e-8002-45b3-cda1-65824cca9867"
      },
      "outputs": [
        {
          "data": {
            "text/plain": [
              "\u001b[1;31mSignature:\u001b[0m \u001b[0mlen\u001b[0m\u001b[1;33m(\u001b[0m\u001b[0mobj\u001b[0m\u001b[1;33m,\u001b[0m \u001b[1;33m/\u001b[0m\u001b[1;33m)\u001b[0m\u001b[1;33m\u001b[0m\u001b[1;33m\u001b[0m\u001b[0m\n",
              "\u001b[1;31mDocstring:\u001b[0m Return the number of items in a container.\n",
              "\u001b[1;31mType:\u001b[0m      builtin_function_or_method"
            ]
          },
          "metadata": {},
          "output_type": "display_data"
        }
      ],
      "source": [
        "len?"
      ]
    },
    {
      "cell_type": "code",
      "execution_count": null,
      "id": "6cf8db7c-bb1b-4a3f-8d5c-7905e246d694",
      "metadata": {
        "id": "6cf8db7c-bb1b-4a3f-8d5c-7905e246d694",
        "outputId": "9a59d366-9927-4c41-fedb-13ba4ed6390d"
      },
      "outputs": [
        {
          "data": {
            "text/plain": [
              "\u001b[1;31mSignature:\u001b[0m \u001b[0mlen\u001b[0m\u001b[1;33m(\u001b[0m\u001b[0mobj\u001b[0m\u001b[1;33m,\u001b[0m \u001b[1;33m/\u001b[0m\u001b[1;33m)\u001b[0m\u001b[1;33m\u001b[0m\u001b[1;33m\u001b[0m\u001b[0m\n",
              "\u001b[1;31mDocstring:\u001b[0m Return the number of items in a container.\n",
              "\u001b[1;31mType:\u001b[0m      builtin_function_or_method"
            ]
          },
          "metadata": {},
          "output_type": "display_data"
        }
      ],
      "source": [
        "len??"
      ]
    },
    {
      "cell_type": "code",
      "execution_count": null,
      "id": "71fc700e-7ffd-4bc2-b8b7-467f6c67b22c",
      "metadata": {
        "id": "71fc700e-7ffd-4bc2-b8b7-467f6c67b22c"
      },
      "outputs": [],
      "source": []
    },
    {
      "cell_type": "code",
      "execution_count": null,
      "id": "2b5689f9-2148-4063-8733-9a0eeb5483ad",
      "metadata": {
        "id": "2b5689f9-2148-4063-8733-9a0eeb5483ad"
      },
      "outputs": [],
      "source": []
    }
  ],
  "metadata": {
    "kernelspec": {
      "display_name": "Python 3 (ipykernel)",
      "language": "python",
      "name": "python3"
    },
    "language_info": {
      "codemirror_mode": {
        "name": "ipython",
        "version": 3
      },
      "file_extension": ".py",
      "mimetype": "text/x-python",
      "name": "python",
      "nbconvert_exporter": "python",
      "pygments_lexer": "ipython3",
      "version": "3.11.5"
    },
    "colab": {
      "provenance": [],
      "include_colab_link": true
    }
  },
  "nbformat": 4,
  "nbformat_minor": 5
}